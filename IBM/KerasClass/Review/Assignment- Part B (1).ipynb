{
 "cells": [
  {
   "cell_type": "markdown",
   "metadata": {},
   "source": [
    "# Imports "
   ]
  },
  {
   "cell_type": "code",
   "execution_count": 1,
   "metadata": {
    "ExecuteTime": {
     "end_time": "2019-11-17T08:19:08.993133Z",
     "start_time": "2019-11-17T08:19:04.625455Z"
    }
   },
   "outputs": [
    {
     "name": "stderr",
     "output_type": "stream",
     "text": [
      "Using TensorFlow backend.\n"
     ]
    }
   ],
   "source": [
    "import pandas\n",
    "import numpy as np\n",
    "from keras.models import Sequential\n",
    "from keras.layers import Dense\n",
    "from keras.utils import plot_model\n",
    "import matplotlib.pyplot as plt\n",
    "import random\n",
    "from sklearn.metrics import mean_squared_error\n",
    "import seaborn as sns"
   ]
  },
  {
   "cell_type": "markdown",
   "metadata": {},
   "source": [
    "## Part B -- \n",
    "\n",
    "B. Normalize the data (5 marks)\n",
    "\n",
    "Repeat Part A but use a normalized version of the data. Recall that one way to normalize the data is by subtracting the mean from the individual predictors and dividing by the standard deviation."
   ]
  },
  {
   "cell_type": "code",
   "execution_count": 2,
   "metadata": {
    "ExecuteTime": {
     "end_time": "2019-11-17T08:19:46.350162Z",
     "start_time": "2019-11-17T08:19:46.061995Z"
    }
   },
   "outputs": [],
   "source": [
    "#Import Concrete data as a pandas dataframe\n",
    "concrete_data = pandas.read_csv('https://s3-api.us-geo.objectstorage.softlayer.net/cf-courses-data/CognitiveClass/DL0101EN/labs/data/concrete_data.csv')"
   ]
  },
  {
   "cell_type": "code",
   "execution_count": 3,
   "metadata": {
    "ExecuteTime": {
     "end_time": "2019-11-17T08:19:51.820296Z",
     "start_time": "2019-11-17T08:19:51.803587Z"
    }
   },
   "outputs": [],
   "source": [
    "def plot_loss(all_history_loss_train,all_history_loss_test):\n",
    "    \n",
    "    '''This is a plotting function to visualize the loss using seaborn\n",
    "    \n",
    "    pip install seaborn\n",
    "    \n",
    "    '''\n",
    "    plotting_list = []\n",
    "    for i in range(len(all_history_loss_train)):\n",
    "        for epoch in range(1,len(all_history_loss_train[i])+1):\n",
    "            plotting_list.append(\n",
    "                {\n",
    "                    'repeat':i+1,\n",
    "                    'epoch':epoch,\n",
    "                    'loss':all_history_loss_train[i][epoch-1],\n",
    "                    'loss_type':'Train'\n",
    "\n",
    "                }\n",
    "\n",
    "            )\n",
    "        for epoch in range(1,len(all_history_loss_test[i])+1):\n",
    "            plotting_list.append(\n",
    "                {\n",
    "                    'repeat':i+1,\n",
    "                    'epoch':epoch,\n",
    "                    'loss':all_history_loss_test[i][epoch-1],\n",
    "                    'loss_type':'Test'\n",
    "\n",
    "                }\n",
    "\n",
    "            )\n",
    "\n",
    "    pd = pandas.DataFrame(plotting_list)\n",
    "    sns.lineplot(x='epoch',y='loss',data=pd,hue='loss_type')\n",
    "\n",
    "\n",
    "def get_norm_of_dataframe(df):\n",
    "    '''normalize a dataframe and return it'''\n",
    "    return (df - df.mean())/df.std()\n",
    "\n",
    "\n",
    "def get_mean_square_are_of_model(epochs,hidden_layers=1,normal=False):\n",
    "    ##Get a random %30 of pandas dataframe with the sample method\n",
    "    test_data = concrete_data.sample(int(len(concrete_data)*.3))\n",
    "\n",
    "\n",
    "    ##Train data is just concrete data not found in test_data\n",
    "    train_data = concrete_data[~concrete_data.index.isin(test_data.index)]\n",
    "\n",
    "    ##Slice the dataframe so the input is everything except strength column\n",
    "    x_test = test_data[[c for c in test_data.columns if c !='Strength']]\n",
    "    x_train = train_data[[c for c in train_data.columns if c !='Strength']]\n",
    "\n",
    "    ##The output data will be the strength data\n",
    "    y_test = test_data['Strength']\n",
    "    y_train = train_data['Strength']\n",
    "    \n",
    "    \n",
    "    if normal:\n",
    "        ##Normalize dataset\n",
    "        x_test_norm, x_train_norm = get_norm_of_dataframe(x_test), get_norm_of_dataframe(x_train)\n",
    "    else:\n",
    "        x_test_norm, x_train_norm = x_test, x_train\n",
    "    \n",
    "    # create model\n",
    "    model = Sequential()\n",
    "\n",
    "    n_cols = len(x_train.columns)\n",
    "    ###Add hidden with extrapolated input from n_cols\n",
    "    model.add(Dense(10, activation='relu', input_shape=(n_cols,)))\n",
    "    if hidden_layers > 1:\n",
    "        for x in range(1,hidden_layers):\n",
    "            model.add(Dense(10, activation='relu'))\n",
    "    model.add(Dense(1))\n",
    "\n",
    "    # compile model\n",
    "    model.compile(optimizer='adam', loss='mean_squared_error', metrics=['accuracy'])\n",
    "    \n",
    "    #plot model\n",
    "    plot_model(model,show_layer_names=False,show_shapes=True)\n",
    "    \n",
    "    '''\n",
    "    Fit the model on the training data\n",
    "    \n",
    "    While the assignment says use validation on an evaluation step, you can also just do it in place. It helps in plotting\n",
    "    '''\n",
    "    history = model.fit(x_train_norm, y_train, validation_data=(x_test_norm,y_test),epochs=epochs,batch_size=10,verbose=0)\n",
    "    \n",
    "    \n",
    "    '''\n",
    "    As the assignment says, I will also use the predict function on the testing data to get predicted output\n",
    "    from the other 30% data\n",
    "    \n",
    "    '''\n",
    "    y_predicted = model.predict(x_test_norm)\n",
    "    \n",
    "    ##Now you can take the y_prediction and y_test and get their mean_square_error using the sklern function\n",
    "    mse = mean_squared_error(y_test,y_predicted)\n",
    "\n",
    "    #I want to return mse of the y_test - y_predicted as the assignment specifies.\n",
    "    #I also want to return history so I can plot\n",
    "    return history, mse"
   ]
  },
  {
   "cell_type": "code",
   "execution_count": 7,
   "metadata": {
    "ExecuteTime": {
     "end_time": "2019-11-17T08:24:38.934425Z",
     "start_time": "2019-11-17T08:21:14.691796Z"
    }
   },
   "outputs": [],
   "source": [
    "##Make a list to append all mean squared errors from the test datasets\n",
    "all_errors = []\n",
    "all_history_loss_test = []\n",
    "all_history_loss_train = []\n",
    "\n",
    "##Repeat 50 times\n",
    "for repeats in range(50):\n",
    "    #returns and history and mean square error\n",
    "    \n",
    "    '''\n",
    "    In part B we want data normalized, 50 epochs and 1 hidden layer\n",
    "    '''\n",
    "    h,mse = get_mean_square_are_of_model(50,hidden_layers=1, normal=True)\n",
    "    ##append error\n",
    "    all_errors.append(mse)\n",
    "    \n",
    "    ##Append the loss and the test value loss\n",
    "    all_history_loss_train.append(h.history['loss'])\n",
    "    all_history_loss_test.append(h.history['val_loss'])"
   ]
  },
  {
   "cell_type": "code",
   "execution_count": 8,
   "metadata": {
    "ExecuteTime": {
     "end_time": "2019-11-17T08:24:38.940721Z",
     "start_time": "2019-11-17T08:24:38.936951Z"
    }
   },
   "outputs": [
    {
     "name": "stdout",
     "output_type": "stream",
     "text": [
      "Mean Error - 133.65\n",
      "Standard Deviation of Error - 12.17\n"
     ]
    }
   ],
   "source": [
    "#convert errors to numpy array\n",
    "errors = np.array(all_errors)\n",
    "\n",
    "#Print it\n",
    "print('Mean Error - {:.5}\\nStandard Deviation of Error - {:.4}'.format(errors.mean(), errors.std()))"
   ]
  },
  {
   "cell_type": "code",
   "execution_count": 12,
   "metadata": {
    "ExecuteTime": {
     "end_time": "2019-11-17T08:27:46.874300Z",
     "start_time": "2019-11-17T08:27:45.715704Z"
    }
   },
   "outputs": [],
   "source": [
    "plt.title('Part B\\nMean Error - {:.5}\\nStandard Deviation of Error - {:.4}'.format(errors.mean(), errors.std()))\n",
    "plot_loss(all_history_loss_test, all_history_loss_train)\n",
    "plt.savefig('PartB.png')\n",
    "plt.close()"
   ]
  },
  {
   "cell_type": "markdown",
   "metadata": {},
   "source": [
    " Part A\n",
    " ![PartA](https://raw.githubusercontent.com/jwillis0720/CourseraJRW/master/PartA.png#left)\n",
    " \n",
    " Part B - Normalized\n",
    " ![PartB](https://raw.githubusercontent.com/jwillis0720/CourseraJRW/master/PartB.png#left)\n",
    " \n",
    " >Normalized data has a much lower standard deviation"
   ]
  },
  {
   "cell_type": "code",
   "execution_count": null,
   "metadata": {},
   "outputs": [],
   "source": []
  }
 ],
 "metadata": {
  "kernelspec": {
   "display_name": "Python 3",
   "language": "python",
   "name": "python3"
  },
  "language_info": {
   "codemirror_mode": {
    "name": "ipython",
    "version": 3
   },
   "file_extension": ".py",
   "mimetype": "text/x-python",
   "name": "python",
   "nbconvert_exporter": "python",
   "pygments_lexer": "ipython3",
   "version": "3.7.3"
  },
  "toc": {
   "base_numbering": 1,
   "nav_menu": {},
   "number_sections": true,
   "sideBar": true,
   "skip_h1_title": false,
   "title_cell": "Table of Contents",
   "title_sidebar": "Contents",
   "toc_cell": false,
   "toc_position": {},
   "toc_section_display": true,
   "toc_window_display": false
  }
 },
 "nbformat": 4,
 "nbformat_minor": 2
}
