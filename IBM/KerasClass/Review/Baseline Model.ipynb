{
 "cells": [
  {
   "cell_type": "markdown",
   "metadata": {},
   "source": [
    "PART A: Answer\n",
    "\n",
    "The average MSE of the model 219.19650337954147\n",
    "with standard deviation of 277.55999442088574"
   ]
  },
  {
   "cell_type": "code",
   "execution_count": 1,
   "metadata": {},
   "outputs": [
    {
     "name": "stderr",
     "output_type": "stream",
     "text": [
      "Using TensorFlow backend.\n"
     ]
    }
   ],
   "source": [
    "import numpy as np\n",
    "import pandas as pd\n",
    "import keras\n",
    "from keras.models import Sequential\n",
    "from keras.layers import Dense\n",
    "from sklearn.model_selection import train_test_split\n",
    "from sklearn.metrics import mean_squared_error"
   ]
  },
  {
   "cell_type": "code",
   "execution_count": 2,
   "metadata": {},
   "outputs": [
    {
     "data": {
      "text/html": [
       "<div>\n",
       "<style scoped>\n",
       "    .dataframe tbody tr th:only-of-type {\n",
       "        vertical-align: middle;\n",
       "    }\n",
       "\n",
       "    .dataframe tbody tr th {\n",
       "        vertical-align: top;\n",
       "    }\n",
       "\n",
       "    .dataframe thead th {\n",
       "        text-align: right;\n",
       "    }\n",
       "</style>\n",
       "<table border=\"1\" class=\"dataframe\">\n",
       "  <thead>\n",
       "    <tr style=\"text-align: right;\">\n",
       "      <th></th>\n",
       "      <th>Cement</th>\n",
       "      <th>Blast Furnace Slag</th>\n",
       "      <th>Fly Ash</th>\n",
       "      <th>Water</th>\n",
       "      <th>Superplasticizer</th>\n",
       "      <th>Coarse Aggregate</th>\n",
       "      <th>Fine Aggregate</th>\n",
       "      <th>Age</th>\n",
       "      <th>Strength</th>\n",
       "    </tr>\n",
       "  </thead>\n",
       "  <tbody>\n",
       "    <tr>\n",
       "      <th>0</th>\n",
       "      <td>540.0</td>\n",
       "      <td>0.0</td>\n",
       "      <td>0.0</td>\n",
       "      <td>162.0</td>\n",
       "      <td>2.5</td>\n",
       "      <td>1040.0</td>\n",
       "      <td>676.0</td>\n",
       "      <td>28</td>\n",
       "      <td>79.99</td>\n",
       "    </tr>\n",
       "    <tr>\n",
       "      <th>1</th>\n",
       "      <td>540.0</td>\n",
       "      <td>0.0</td>\n",
       "      <td>0.0</td>\n",
       "      <td>162.0</td>\n",
       "      <td>2.5</td>\n",
       "      <td>1055.0</td>\n",
       "      <td>676.0</td>\n",
       "      <td>28</td>\n",
       "      <td>61.89</td>\n",
       "    </tr>\n",
       "    <tr>\n",
       "      <th>2</th>\n",
       "      <td>332.5</td>\n",
       "      <td>142.5</td>\n",
       "      <td>0.0</td>\n",
       "      <td>228.0</td>\n",
       "      <td>0.0</td>\n",
       "      <td>932.0</td>\n",
       "      <td>594.0</td>\n",
       "      <td>270</td>\n",
       "      <td>40.27</td>\n",
       "    </tr>\n",
       "    <tr>\n",
       "      <th>3</th>\n",
       "      <td>332.5</td>\n",
       "      <td>142.5</td>\n",
       "      <td>0.0</td>\n",
       "      <td>228.0</td>\n",
       "      <td>0.0</td>\n",
       "      <td>932.0</td>\n",
       "      <td>594.0</td>\n",
       "      <td>365</td>\n",
       "      <td>41.05</td>\n",
       "    </tr>\n",
       "    <tr>\n",
       "      <th>4</th>\n",
       "      <td>198.6</td>\n",
       "      <td>132.4</td>\n",
       "      <td>0.0</td>\n",
       "      <td>192.0</td>\n",
       "      <td>0.0</td>\n",
       "      <td>978.4</td>\n",
       "      <td>825.5</td>\n",
       "      <td>360</td>\n",
       "      <td>44.30</td>\n",
       "    </tr>\n",
       "  </tbody>\n",
       "</table>\n",
       "</div>"
      ],
      "text/plain": [
       "   Cement  Blast Furnace Slag  Fly Ash  Water  Superplasticizer  \\\n",
       "0   540.0                 0.0      0.0  162.0               2.5   \n",
       "1   540.0                 0.0      0.0  162.0               2.5   \n",
       "2   332.5               142.5      0.0  228.0               0.0   \n",
       "3   332.5               142.5      0.0  228.0               0.0   \n",
       "4   198.6               132.4      0.0  192.0               0.0   \n",
       "\n",
       "   Coarse Aggregate  Fine Aggregate  Age  Strength  \n",
       "0            1040.0           676.0   28     79.99  \n",
       "1            1055.0           676.0   28     61.89  \n",
       "2             932.0           594.0  270     40.27  \n",
       "3             932.0           594.0  365     41.05  \n",
       "4             978.4           825.5  360     44.30  "
      ]
     },
     "execution_count": 2,
     "metadata": {},
     "output_type": "execute_result"
    }
   ],
   "source": [
    "concrete_data = pd.read_csv('concrete_data.csv')\n",
    "concrete_data.head()"
   ]
  },
  {
   "cell_type": "code",
   "execution_count": 3,
   "metadata": {},
   "outputs": [],
   "source": [
    "# define regression model\n",
    "'''\n",
    "One hidden layer of 10 nodes, and a ReLU activation function\n",
    "Use the adam optimizer and the mean squared error as the loss function.\n",
    "'''\n",
    "def regression_model():\n",
    "    # create model\n",
    "    model = Sequential()\n",
    "    model.add(Dense(10, activation='relu', input_shape=(n_cols,)))\n",
    "    model.add(Dense(1))\n",
    "    \n",
    "    # compile model\n",
    "    model.compile(optimizer='adam', loss='mean_squared_error')\n",
    "    return model"
   ]
  },
  {
   "cell_type": "code",
   "execution_count": 4,
   "metadata": {},
   "outputs": [],
   "source": [
    "target = concrete_data['Strength']\n",
    "predictors = concrete_data.drop('Strength',axis=1)"
   ]
  },
  {
   "cell_type": "code",
   "execution_count": 5,
   "metadata": {},
   "outputs": [
    {
     "name": "stdout",
     "output_type": "stream",
     "text": [
      "Iternation # 0 MSE: 119.0484407340807\n",
      "Iternation # 1 MSE: 141.28400887999396\n",
      "Iternation # 2 MSE: 150.0951522961884\n",
      "Iternation # 3 MSE: 227.71813659854203\n",
      "Iternation # 4 MSE: 156.71918442748125\n",
      "Iternation # 5 MSE: 239.54790769244175\n",
      "Iternation # 6 MSE: 121.45928761565936\n",
      "Iternation # 7 MSE: 258.97069136598384\n",
      "Iternation # 8 MSE: 98.98927114967911\n",
      "Iternation # 9 MSE: 251.00559856261447\n",
      "Iternation # 10 MSE: 335.17671530246287\n",
      "Iternation # 11 MSE: 159.38977522082195\n",
      "Iternation # 12 MSE: 84.34704856888247\n",
      "Iternation # 13 MSE: 94.55225504069814\n",
      "Iternation # 14 MSE: 167.90062997777918\n",
      "Iternation # 15 MSE: 244.3452725189732\n",
      "Iternation # 16 MSE: 303.9812209337099\n",
      "Iternation # 17 MSE: 169.72149043093037\n",
      "Iternation # 18 MSE: 95.12694026740448\n",
      "Iternation # 19 MSE: 231.29724238285527\n",
      "Iternation # 20 MSE: 321.94327403816305\n",
      "Iternation # 21 MSE: 295.65201172856507\n",
      "Iternation # 22 MSE: 134.20581942441225\n",
      "Iternation # 23 MSE: 142.2847746727292\n",
      "Iternation # 24 MSE: 120.8789787966183\n",
      "Iternation # 25 MSE: 204.23586983756306\n",
      "Iternation # 26 MSE: 150.94922222388476\n",
      "Iternation # 27 MSE: 110.72189534188706\n",
      "Iternation # 28 MSE: 132.3830686670635\n",
      "Iternation # 29 MSE: 112.7647351213529\n",
      "Iternation # 30 MSE: 126.09657591939472\n",
      "Iternation # 31 MSE: 113.72053377790778\n",
      "Iternation # 32 MSE: 208.40034901773325\n",
      "Iternation # 33 MSE: 256.96031745524306\n",
      "Iternation # 34 MSE: 111.45543475060427\n",
      "Iternation # 35 MSE: 333.45754286045315\n",
      "Iternation # 36 MSE: 110.29582111910264\n",
      "Iternation # 37 MSE: 67.06457727938569\n",
      "Iternation # 38 MSE: 289.0875704779416\n",
      "Iternation # 39 MSE: 149.04695909511298\n",
      "Iternation # 40 MSE: 165.8185217354222\n",
      "Iternation # 41 MSE: 147.17141836986224\n",
      "Iternation # 42 MSE: 2081.9686091673693\n",
      "Iternation # 43 MSE: 371.6423527188638\n",
      "Iternation # 44 MSE: 126.36429993874172\n",
      "Iternation # 45 MSE: 339.138920379558\n",
      "Iternation # 46 MSE: 104.23596119323635\n",
      "Iternation # 47 MSE: 95.76003557382113\n",
      "Iternation # 48 MSE: 218.64959090866455\n",
      "Iternation # 49 MSE: 166.79385741923187\n"
     ]
    }
   ],
   "source": [
    "'''\n",
    "Repeat steps 1 - 3, 50 times, i.e., create a list of 50 mean squared errors\n",
    "'''\n",
    "mse_list = []\n",
    "for i in range(50):\n",
    "\n",
    "    '''\n",
    "    Randomly split the data into a training \n",
    "    test sets by holding 30% of the data for testing\n",
    "    '''\n",
    "    X_train, X_test, y_train, y_test =\\\n",
    "    train_test_split(predictors, target,test_size=0.30)\n",
    "    X_train.shape, X_test.shape\n",
    "\n",
    "    '''\n",
    "    Train the model on the training data using 50 epochs\n",
    "    '''\n",
    "    n_cols = predictors.shape[1]\n",
    "    model = regression_model()\n",
    "    model.fit(X_train, y_train, epochs=50,verbose=0)\n",
    "    '''\n",
    "    Evaluate the model on the test data and compute the mean squared error\n",
    "    '''\n",
    "    preds = model.predict(X_test)\n",
    "    score = mean_squared_error(y_test,preds)\n",
    "    mse_list.append(score)\n",
    "    \n",
    "    print('Iternation #',i,'MSE:',score)"
   ]
  },
  {
   "cell_type": "code",
   "execution_count": 6,
   "metadata": {},
   "outputs": [
    {
     "name": "stdout",
     "output_type": "stream",
     "text": [
      "The avearage MSE of the model 219.19650337954147 standard dev of 277.55999442088574\n"
     ]
    }
   ],
   "source": [
    "'''\n",
    "Report the mean and the standard deviation of the mean squared errors\n",
    "'''\n",
    "print('The avearage MSE of the model', np.mean(mse_list), 'standard dev of',np.std(mse_list))"
   ]
  },
  {
   "cell_type": "code",
   "execution_count": null,
   "metadata": {},
   "outputs": [],
   "source": []
  }
 ],
 "metadata": {
  "kernelspec": {
   "display_name": "Python 3",
   "language": "python",
   "name": "python3"
  },
  "language_info": {
   "codemirror_mode": {
    "name": "ipython",
    "version": 3
   },
   "file_extension": ".py",
   "mimetype": "text/x-python",
   "name": "python",
   "nbconvert_exporter": "python",
   "pygments_lexer": "ipython3",
   "version": "3.7.3"
  },
  "toc": {
   "base_numbering": 1,
   "nav_menu": {},
   "number_sections": true,
   "sideBar": true,
   "skip_h1_title": false,
   "title_cell": "Table of Contents",
   "title_sidebar": "Contents",
   "toc_cell": false,
   "toc_position": {},
   "toc_section_display": true,
   "toc_window_display": false
  }
 },
 "nbformat": 4,
 "nbformat_minor": 4
}
