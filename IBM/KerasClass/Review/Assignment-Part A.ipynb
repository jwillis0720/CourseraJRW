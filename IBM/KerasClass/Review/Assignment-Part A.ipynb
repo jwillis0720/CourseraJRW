{
 "cells": [
  {
   "cell_type": "markdown",
   "metadata": {},
   "source": [
    "# Imports "
   ]
  },
  {
   "cell_type": "code",
   "execution_count": 4,
   "metadata": {
    "ExecuteTime": {
     "end_time": "2019-11-17T07:57:50.149859Z",
     "start_time": "2019-11-17T07:57:45.789889Z"
    }
   },
   "outputs": [
    {
     "name": "stderr",
     "output_type": "stream",
     "text": [
      "Using TensorFlow backend.\n"
     ]
    }
   ],
   "source": [
    "import pandas\n",
    "import numpy as np\n",
    "from keras.models import Sequential\n",
    "from keras.layers import Dense\n",
    "from keras.utils import plot_model\n",
    "import matplotlib.pyplot as plt\n",
    "import random\n",
    "from sklearn.metrics import mean_squared_error\n",
    "import seaborn as sns"
   ]
  },
  {
   "cell_type": "markdown",
   "metadata": {},
   "source": [
    "## Part A -- \n",
    "\n",
    "A. Build a baseline model (5 marks)\n",
    "\n",
    "Use the Keras library to build a neural network with the following:\n",
    "\n",
    "\\- One hidden layer of 10 nodes, and a ReLU activation function\n",
    "\n",
    "\\- Use the adam optimizer and the mean squared error as the loss function.\n",
    "\n",
    "    1. Randomly split the data into a training and test sets by holding 30% of the data for testing. You can use the train_test_split helper function from Scikit-learn.\n",
    "\n",
    "    2. Train the model on the training data using 50 epochs.\n",
    "\n",
    "    3. Evaluate the model on the test data and compute the mean squared error between the predicted concrete strength and the actual concrete strength. You can use the mean_squared_error function from Scikit-learn.\n",
    "\n",
    "    4. Repeat steps 1 - 3, 50 times, i.e., create a list of 50 mean squared errors.\n",
    "\n",
    "    5. Report the mean and the standard deviation of the mean squared errors.\n"
   ]
  },
  {
   "cell_type": "code",
   "execution_count": 5,
   "metadata": {
    "ExecuteTime": {
     "end_time": "2019-11-17T07:57:50.460411Z",
     "start_time": "2019-11-17T07:57:50.151673Z"
    }
   },
   "outputs": [],
   "source": [
    "#Import Concrete data as a pandas dataframe\n",
    "concrete_data = pandas.read_csv('https://s3-api.us-geo.objectstorage.softlayer.net/cf-courses-data/CognitiveClass/DL0101EN/labs/data/concrete_data.csv')"
   ]
  },
  {
   "cell_type": "code",
   "execution_count": 6,
   "metadata": {
    "ExecuteTime": {
     "end_time": "2019-11-17T07:57:50.470836Z",
     "start_time": "2019-11-17T07:57:50.462962Z"
    }
   },
   "outputs": [],
   "source": [
    "def get_mean_square_are_of_model(epochs):\n",
    "    ##Get a random %30 of pandas dataframe with the sample method\n",
    "    test_data = concrete_data.sample(int(len(concrete_data)*.3))\n",
    "\n",
    "\n",
    "    ##Train data is just concrete data not found in test_data\n",
    "    train_data = concrete_data[~concrete_data.index.isin(test_data.index)]\n",
    "\n",
    "    ##Slice the dataframe so the input is everything except strength column\n",
    "    x_test = test_data[[c for c in test_data.columns if c !='Strength']]\n",
    "    x_train = train_data[[c for c in train_data.columns if c !='Strength']]\n",
    "\n",
    "    ##The output data will be the strength data\n",
    "    y_test = test_data['Strength']\n",
    "    y_train = train_data['Strength']\n",
    "    \n",
    "    # create model\n",
    "    model = Sequential()\n",
    "\n",
    "    n_cols = len(x_train.columns)\n",
    "    ###Add hidden with extrapolated input from n_cols\n",
    "    model.add(Dense(10, activation='relu', input_shape=(n_cols,)))\n",
    "    model.add(Dense(1))\n",
    "\n",
    "    # compile model\n",
    "    model.compile(optimizer='adam', loss='mean_squared_error', metrics=['accuracy'])\n",
    "    \n",
    "    #plot model\n",
    "    #plot_model(model,show_layer_names=False,show_shapes=True)\n",
    "    \n",
    "    '''\n",
    "    Fit the model on the training data\n",
    "    \n",
    "    While the assignment says use validation on an evaluation step, you can also just do it in place. It helps in plotting\n",
    "    '''\n",
    "    history = model.fit(x_train, y_train, validation_data=(x_test,y_test),epochs=epochs,batch_size=10,verbose=0)\n",
    "    \n",
    "    \n",
    "    '''\n",
    "    As the assignment says, I will also use the predict function on the testing data to get predicted output\n",
    "    from the other 30% data\n",
    "    \n",
    "    '''\n",
    "    y_predicted = model.predict(x_test)\n",
    "    \n",
    "    ##Now you can take the y_prediction and y_test and get their mean_square_error using the sklern function\n",
    "    mse = mean_squared_error(y_test,y_predicted)\n",
    "\n",
    "    #I want to return mse of the y_test - y_predicted as the assignment specifies.\n",
    "    #I also want to return history so I can plot\n",
    "    return history, mse"
   ]
  },
  {
   "cell_type": "code",
   "execution_count": 7,
   "metadata": {
    "ExecuteTime": {
     "end_time": "2019-11-17T08:00:30.288923Z",
     "start_time": "2019-11-17T07:57:50.473280Z"
    }
   },
   "outputs": [],
   "source": [
    "##Make a list to append all mean squared errors from the test datasets\n",
    "all_errors = []\n",
    "\n",
    "#Also keep the fit histories so I can plot some values    \n",
    "all_history_loss_test = []\n",
    "all_history_loss_train = []\n",
    "\n",
    "##Repeat 50 times\n",
    "for repeats in range(50):\n",
    "    #returns and history and mean square error\n",
    "    h,mse = get_mean_square_are_of_model(50)\n",
    "    ##append error\n",
    "    all_errors.append(mse)\n",
    "    \n"
   ]
  },
  {
   "cell_type": "code",
   "execution_count": 8,
   "metadata": {
    "ExecuteTime": {
     "end_time": "2019-11-17T08:00:30.295463Z",
     "start_time": "2019-11-17T08:00:30.290779Z"
    }
   },
   "outputs": [
    {
     "name": "stdout",
     "output_type": "stream",
     "text": [
      "Mean Error - 130.88\n",
      "Standard Deviation of Error - 48.91\n"
     ]
    }
   ],
   "source": [
    "#convert errors to numpy array\n",
    "errors = np.array(all_errors)\n",
    "\n",
    "#Print it\n",
    "print('Mean Error - {:.5}\\nStandard Deviation of Error - {:.4}'.format(errors.mean(), errors.std()))"
   ]
  },
  {
   "cell_type": "code",
   "execution_count": null,
   "metadata": {},
   "outputs": [],
   "source": []
  }
 ],
 "metadata": {
  "kernelspec": {
   "display_name": "Python 3",
   "language": "python",
   "name": "python3"
  },
  "language_info": {
   "codemirror_mode": {
    "name": "ipython",
    "version": 3
   },
   "file_extension": ".py",
   "mimetype": "text/x-python",
   "name": "python",
   "nbconvert_exporter": "python",
   "pygments_lexer": "ipython3",
   "version": "3.7.3"
  },
  "toc": {
   "base_numbering": 1,
   "nav_menu": {},
   "number_sections": true,
   "sideBar": true,
   "skip_h1_title": false,
   "title_cell": "Table of Contents",
   "title_sidebar": "Contents",
   "toc_cell": false,
   "toc_position": {},
   "toc_section_display": true,
   "toc_window_display": false
  }
 },
 "nbformat": 4,
 "nbformat_minor": 2
}
