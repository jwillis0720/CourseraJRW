{
 "cells": [
  {
   "cell_type": "markdown",
   "metadata": {
    "button": false,
    "new_sheet": false,
    "run_control": {
     "read_only": false
    }
   },
   "source": [
    "<a href=\"https://www.bigdatauniversity.com\"><img src=\"https://ibm.box.com/shared/static/cw2c7r3o20w9zn8gkecaeyjhgw3xdgbj.png\" width=\"400\" align=\"center\"></a>\n",
    "\n",
    "<h1 align=\"center\"><font size=\"5\">Classification with Python</font></h1>"
   ]
  },
  {
   "cell_type": "markdown",
   "metadata": {
    "button": false,
    "new_sheet": false,
    "run_control": {
     "read_only": false
    }
   },
   "source": [
    "In this notebook we try to practice all the classification algorithms that we learned in this course.\n",
    "\n",
    "We load a dataset using Pandas library, and apply the following algorithms, and find the best one for this specific dataset by accuracy evaluation methods.\n",
    "\n",
    "Lets first load required libraries:"
   ]
  },
  {
   "cell_type": "code",
   "execution_count": 203,
   "metadata": {
    "ExecuteTime": {
     "end_time": "2019-12-01T07:24:15.116803Z",
     "start_time": "2019-12-01T07:24:15.108662Z"
    },
    "button": false,
    "new_sheet": false,
    "run_control": {
     "read_only": false
    }
   },
   "outputs": [],
   "source": [
    "import itertools\n",
    "import numpy as np\n",
    "import matplotlib.pyplot as plt\n",
    "from matplotlib.ticker import NullFormatter\n",
    "import pandas as pd\n",
    "import numpy as np\n",
    "import matplotlib.ticker as ticker\n",
    "from sklearn import preprocessing\n",
    "import seaborn as sns\n",
    "from sklearn.neighbors import KNeighborsClassifier\n",
    "from sklearn.metrics import f1_score, jaccard_score, accuracy_score\n",
    "import random\n",
    "\n",
    "%matplotlib inline"
   ]
  },
  {
   "cell_type": "markdown",
   "metadata": {
    "button": false,
    "new_sheet": false,
    "run_control": {
     "read_only": false
    }
   },
   "source": [
    "# About dataset"
   ]
  },
  {
   "cell_type": "markdown",
   "metadata": {
    "button": false,
    "new_sheet": false,
    "run_control": {
     "read_only": false
    }
   },
   "source": [
    "This dataset is about past loans. The __Loan_train.csv__ data set includes details of 346 customers whose loan are already paid off or defaulted. It includes following fields:\n",
    "\n",
    "| Field          | Description                                                                           |\n",
    "|----------------|---------------------------------------------------------------------------------------|\n",
    "| Loan_status    | Whether a loan is paid off on in collection                                           |\n",
    "| Principal      | Basic principal loan amount at the                                                    |\n",
    "| Terms          | Origination terms which can be weekly (7 days), biweekly, and monthly payoff schedule |\n",
    "| Effective_date | When the loan got originated and took effects                                         |\n",
    "| Due_date       | Since it’s one-time payoff schedule, each loan has one single due date                |\n",
    "| Age            | Age of applicant                                                                      |\n",
    "| Education      | Education of applicant                                                                |\n",
    "| Gender         | The gender of applicant                                                               |"
   ]
  },
  {
   "cell_type": "markdown",
   "metadata": {},
   "source": [
    "Lets plot some columns to underestand data better:"
   ]
  },
  {
   "cell_type": "markdown",
   "metadata": {
    "button": false,
    "new_sheet": false,
    "run_control": {
     "read_only": false
    }
   },
   "source": [
    "# Classification "
   ]
  },
  {
   "cell_type": "markdown",
   "metadata": {
    "button": false,
    "new_sheet": false,
    "run_control": {
     "read_only": false
    }
   },
   "source": [
    "Now, it is your turn, use the training set to build an accurate model. Then use the test set to report the accuracy of the model\n",
    "You should use the following algorithm:\n",
    "- K Nearest Neighbor(KNN)\n",
    "- Decision Tree\n",
    "- Support Vector Machine\n",
    "- Logistic Regression\n",
    "\n",
    "\n",
    "\n",
    "__ Notice:__ \n",
    "- You can go above and change the pre-processing, feature selection, feature-extraction, and so on, to make a better model.\n",
    "- You should use either scikit-learn, Scipy or Numpy libraries for developing the classification algorithms.\n",
    "- You should include the code of the algorithm in the following cells."
   ]
  },
  {
   "cell_type": "markdown",
   "metadata": {},
   "source": [
    "# K Nearest Neighbor(KNN)\n",
    "Notice: You should find the best k to build the model with the best accuracy.  \n",
    "**warning:** You should not use the __loan_test.csv__ for finding the best k, however, you can split your train_loan.csv into train and test to find the best __k__."
   ]
  },
  {
   "cell_type": "markdown",
   "metadata": {},
   "source": [
    "## Preprocessing\n",
    "\n",
    "I want to first do my own preprocessing to do a train test split and make one-hot encoding. That way, it's not such a blackbox"
   ]
  },
  {
   "cell_type": "code",
   "execution_count": 201,
   "metadata": {
    "ExecuteTime": {
     "end_time": "2019-12-01T07:22:24.391735Z",
     "start_time": "2019-12-01T07:22:23.858900Z"
    }
   },
   "outputs": [],
   "source": [
    "from sklearn.metrics import r2_score,mean_absolute_error, mean_squared_error, accuracy_score, log_loss\n",
    "\n",
    "\n",
    "def train_test_split_pandas(df, x_cols=[],y_cols=[], test=0.2):\n",
    "    '''\n",
    "    split dataframe into train_test, \n",
    "    \n",
    "    if no x_cols or y_col is supplied, then the dataframe will just be split into train_test df\n",
    "    \n",
    "    if x_cols and y_cols is supplied it will return 4 arrays, train_x, test_x, train_y, test_y\n",
    "    \n",
    "    '''\n",
    "    train_df = df.sample(int((1-test)*len(df)))\n",
    "    test_df = df[~df.index.isin(train_df.index)]\n",
    "    if not x_cols:\n",
    "        return train_df, test_df\n",
    "\n",
    "    else:\n",
    "        return train_df[x_cols].to_numpy(),train_df[y_cols].to_numpy().ravel(),test_df[x_cols].to_numpy(),test_df[y_cols].to_numpy().ravel()\n",
    "\n",
    "def make_one_hot_encoding(df, categories,drop=True):\n",
    "    '''\n",
    "    \n",
    "    Hot encode categorical\n",
    "    \n",
    "    returns: dataframe\n",
    "    \n",
    "    args:categories - the categories in the df that you want to encode\n",
    "    args:drop - drop the parent categories you encoded?\n",
    "    \n",
    "    '''\n",
    "    for cat in categories:\n",
    "        #get all values associated with that category\n",
    "        values_per_cat = df[cat].unique()\n",
    "        \n",
    "        #iterate through categories\n",
    "        for label in values_per_cat:\n",
    "            #default set to 0\n",
    "            label_token = cat + '_' + str(label)\n",
    "            df[label_token] = 0\n",
    "            #if that cat contains that label, set to 1\n",
    "            df.loc[df[cat]==label,label_token]=1\n",
    "    if drop:\n",
    "        #if drop, drop the categories we OHE from\n",
    "        df.drop(categories,axis=1,inplace=True)\n",
    "    return df\n",
    "              \n",
    "def get_datasets(url):\n",
    "    \n",
    "\n",
    "    #Read in dataset\n",
    "    loan_df = pd.read_csv(url)\n",
    "\n",
    "    #cast to datetime\n",
    "    loan_df['due_date'] = pd.to_datetime(loan_df['due_date'])\n",
    "    loan_df['effective_date'] = pd.to_datetime(loan_df['effective_date'])\n",
    "\n",
    "    #Find out which day of week effecteive date was on\n",
    "    loan_df['effective_date_dayofweek'] = loan_df['effective_date'].dt.day_name()\n",
    "\n",
    "    loan_df['Weekend'] = 0\n",
    "    loan_df.loc[loan_df['effective_date_dayofweek'].isin(['Friday','Saturday','Sunday']),'Weekend'] = 1\n",
    "    #loan_df['due_date_dayofweek'] = loan_df['due_date'].dt.day_name()\n",
    "\n",
    "\n",
    "    #Hot encode categorical data\n",
    "    hot_encoding_df = make_one_hot_encoding(loan_df, ['Gender','education']).drop(\n",
    "        ['Unnamed: 0','Unnamed: 0.1','effective_date','due_date','effective_date_dayofweek'],axis=1)\n",
    "\n",
    "    return hot_encoding_df\n",
    "    \n",
    "train_csv_url = \"https://s3-api.us-geo.objectstorage.softlayer.net/cf-courses-data/CognitiveClass/ML0101ENv3/labs/loan_train.csv\"\n",
    "test_csv_url = \"https://s3-api.us-geo.objectstorage.softlayer.net/cf-courses-data/CognitiveClass/ML0101ENv3/labs/loan_test.csv\"\n",
    "\n",
    "hot_encoding_df_train = get_datasets(train_csv_url)\n",
    "hot_encoding_df_test = get_datasets(test_csv_url)"
   ]
  },
  {
   "cell_type": "markdown",
   "metadata": {},
   "source": [
    "## KNN Execution"
   ]
  },
  {
   "cell_type": "code",
   "execution_count": 209,
   "metadata": {
    "ExecuteTime": {
     "end_time": "2019-12-01T07:27:12.619314Z",
     "start_time": "2019-12-01T07:27:12.613018Z"
    }
   },
   "outputs": [
    {
     "name": "stdout",
     "output_type": "stream",
     "text": [
      "Using\n",
      "Principal|terms|age|Weekend|Gender_male|Gender_female|education_High School or Below|education_Bechalor|education_college|education_Master or Above\n",
      "Features\n"
     ]
    }
   ],
   "source": [
    "#get X feature columns\n",
    "feature_columns = list(hot_encoding_df_train.drop('loan_status',axis=1).columns)\n",
    "\n",
    "#Depedent feature\n",
    "dependent_feature = 'loan_status'\n",
    "print(\"Using\\n{}\\nFeatures\".format(\"|\".join(feature_columns)))\n",
    "\n",
    "feature_sets = []\n",
    "for minimum_features in range(4,len(feature_columns)+1):\n",
    "    for c in itertools.combinations(feature_columns,minimum_features):\n",
    "        feature_sets.append(list(c))"
   ]
  },
  {
   "cell_type": "code",
   "execution_count": 210,
   "metadata": {
    "ExecuteTime": {
     "end_time": "2019-12-01T07:57:51.845208Z",
     "start_time": "2019-12-01T07:27:13.257675Z"
    }
   },
   "outputs": [],
   "source": [
    "##Initiate a list to store results\n",
    "knn_plotting_dataframe = []\n",
    "\n",
    "z"
   ]
  },
  {
   "cell_type": "code",
   "execution_count": 211,
   "metadata": {
    "ExecuteTime": {
     "end_time": "2019-12-01T07:59:39.068888Z",
     "start_time": "2019-12-01T07:59:38.797781Z"
    }
   },
   "outputs": [],
   "source": [
    "#change dataframe into a plotting frame\n",
    "knn_plotting_dataframe = pd.DataFrame(knn_plotting_dataframe)"
   ]
  },
  {
   "cell_type": "code",
   "execution_count": 226,
   "metadata": {
    "ExecuteTime": {
     "end_time": "2019-12-01T08:01:31.606209Z",
     "start_time": "2019-12-01T08:01:31.534822Z"
    }
   },
   "outputs": [],
   "source": [
    "knn_plotting_dataframe['fs_str'] = knn_plotting_dataframe['fs'].apply(lambda x: '|'.join(x))"
   ]
  },
  {
   "cell_type": "code",
   "execution_count": 229,
   "metadata": {
    "ExecuteTime": {
     "end_time": "2019-12-01T08:02:30.083626Z",
     "start_time": "2019-12-01T08:02:30.022588Z"
    }
   },
   "outputs": [
    {
     "data": {
      "text/html": [
       "<div>\n",
       "<style scoped>\n",
       "    .dataframe tbody tr th:only-of-type {\n",
       "        vertical-align: middle;\n",
       "    }\n",
       "\n",
       "    .dataframe tbody tr th {\n",
       "        vertical-align: top;\n",
       "    }\n",
       "\n",
       "    .dataframe thead th {\n",
       "        text-align: right;\n",
       "    }\n",
       "</style>\n",
       "<table border=\"1\" class=\"dataframe\">\n",
       "  <thead>\n",
       "    <tr style=\"text-align: right;\">\n",
       "      <th></th>\n",
       "      <th></th>\n",
       "      <th>repeat</th>\n",
       "      <th>accuracy</th>\n",
       "      <th>jaccard</th>\n",
       "      <th>f1</th>\n",
       "    </tr>\n",
       "    <tr>\n",
       "      <th>fs_str</th>\n",
       "      <th>k</th>\n",
       "      <th></th>\n",
       "      <th></th>\n",
       "      <th></th>\n",
       "      <th></th>\n",
       "    </tr>\n",
       "  </thead>\n",
       "  <tbody>\n",
       "    <tr>\n",
       "      <th rowspan=\"2\" valign=\"top\">Principal|age|Gender_male|education_High School or Below|education_Bechalor|education_Master or Above</th>\n",
       "      <th>17</th>\n",
       "      <td>5</td>\n",
       "      <td>0.790476</td>\n",
       "      <td>0.790476</td>\n",
       "      <td>0.882792</td>\n",
       "    </tr>\n",
       "    <tr>\n",
       "      <th>19</th>\n",
       "      <td>5</td>\n",
       "      <td>0.790476</td>\n",
       "      <td>0.790476</td>\n",
       "      <td>0.882792</td>\n",
       "    </tr>\n",
       "    <tr>\n",
       "      <th>Principal|age|Gender_male|Gender_female|education_Bechalor|education_college|education_Master or Above</th>\n",
       "      <th>17</th>\n",
       "      <td>5</td>\n",
       "      <td>0.790476</td>\n",
       "      <td>0.790131</td>\n",
       "      <td>0.882496</td>\n",
       "    </tr>\n",
       "    <tr>\n",
       "      <th>Principal|age|Gender_male|education_High School or Below|education_Bechalor|education_Master or Above</th>\n",
       "      <th>18</th>\n",
       "      <td>5</td>\n",
       "      <td>0.790476</td>\n",
       "      <td>0.790476</td>\n",
       "      <td>0.882792</td>\n",
       "    </tr>\n",
       "    <tr>\n",
       "      <th>Principal|age|Gender_male|Gender_female|education_Bechalor|education_college|education_Master or Above</th>\n",
       "      <th>19</th>\n",
       "      <td>5</td>\n",
       "      <td>0.788889</td>\n",
       "      <td>0.788889</td>\n",
       "      <td>0.881709</td>\n",
       "    </tr>\n",
       "    <tr>\n",
       "      <th>...</th>\n",
       "      <th>...</th>\n",
       "      <td>...</td>\n",
       "      <td>...</td>\n",
       "      <td>...</td>\n",
       "      <td>...</td>\n",
       "    </tr>\n",
       "    <tr>\n",
       "      <th>Principal|terms|age|education_High School or Below</th>\n",
       "      <th>2</th>\n",
       "      <td>5</td>\n",
       "      <td>0.458730</td>\n",
       "      <td>0.402710</td>\n",
       "      <td>0.571804</td>\n",
       "    </tr>\n",
       "    <tr>\n",
       "      <th>Principal|age|Gender_male|Gender_female|education_High School or Below|education_Bechalor|education_college</th>\n",
       "      <th>2</th>\n",
       "      <td>5</td>\n",
       "      <td>0.458730</td>\n",
       "      <td>0.404920</td>\n",
       "      <td>0.574708</td>\n",
       "    </tr>\n",
       "    <tr>\n",
       "      <th>Principal|Gender_male|Gender_female|education_college|education_Master or Above</th>\n",
       "      <th>2</th>\n",
       "      <td>5</td>\n",
       "      <td>0.452381</td>\n",
       "      <td>0.358263</td>\n",
       "      <td>0.502741</td>\n",
       "    </tr>\n",
       "    <tr>\n",
       "      <th>Principal|terms|age|Gender_male|Gender_female|education_Bechalor|education_college|education_Master or Above</th>\n",
       "      <th>2</th>\n",
       "      <td>5</td>\n",
       "      <td>0.444444</td>\n",
       "      <td>0.377748</td>\n",
       "      <td>0.547035</td>\n",
       "    </tr>\n",
       "    <tr>\n",
       "      <th>Gender_male|Gender_female|education_High School or Below|education_Master or Above</th>\n",
       "      <th>2</th>\n",
       "      <td>5</td>\n",
       "      <td>0.398413</td>\n",
       "      <td>0.252814</td>\n",
       "      <td>0.367282</td>\n",
       "    </tr>\n",
       "  </tbody>\n",
       "</table>\n",
       "<p>16112 rows × 4 columns</p>\n",
       "</div>"
      ],
      "text/plain": [
       "                                                       repeat  accuracy  \\\n",
       "fs_str                                             k                      \n",
       "Principal|age|Gender_male|education_High School... 17       5  0.790476   \n",
       "                                                   19       5  0.790476   \n",
       "Principal|age|Gender_male|Gender_female|educati... 17       5  0.790476   \n",
       "Principal|age|Gender_male|education_High School... 18       5  0.790476   \n",
       "Principal|age|Gender_male|Gender_female|educati... 19       5  0.788889   \n",
       "...                                                       ...       ...   \n",
       "Principal|terms|age|education_High School or Below 2        5  0.458730   \n",
       "Principal|age|Gender_male|Gender_female|educati... 2        5  0.458730   \n",
       "Principal|Gender_male|Gender_female|education_c... 2        5  0.452381   \n",
       "Principal|terms|age|Gender_male|Gender_female|e... 2        5  0.444444   \n",
       "Gender_male|Gender_female|education_High School... 2        5  0.398413   \n",
       "\n",
       "                                                        jaccard        f1  \n",
       "fs_str                                             k                       \n",
       "Principal|age|Gender_male|education_High School... 17  0.790476  0.882792  \n",
       "                                                   19  0.790476  0.882792  \n",
       "Principal|age|Gender_male|Gender_female|educati... 17  0.790131  0.882496  \n",
       "Principal|age|Gender_male|education_High School... 18  0.790476  0.882792  \n",
       "Principal|age|Gender_male|Gender_female|educati... 19  0.788889  0.881709  \n",
       "...                                                         ...       ...  \n",
       "Principal|terms|age|education_High School or Below 2   0.402710  0.571804  \n",
       "Principal|age|Gender_male|Gender_female|educati... 2   0.404920  0.574708  \n",
       "Principal|Gender_male|Gender_female|education_c... 2   0.358263  0.502741  \n",
       "Principal|terms|age|Gender_male|Gender_female|e... 2   0.377748  0.547035  \n",
       "Gender_male|Gender_female|education_High School... 2   0.252814  0.367282  \n",
       "\n",
       "[16112 rows x 4 columns]"
      ]
     },
     "execution_count": 229,
     "metadata": {},
     "output_type": "execute_result"
    }
   ],
   "source": [
    "knn_plotting_dataframe.groupby(['fs_str','k']).mean().sort_values('accuracy')[::-1]"
   ]
  },
  {
   "cell_type": "code",
   "execution_count": 236,
   "metadata": {
    "ExecuteTime": {
     "end_time": "2019-12-01T08:19:28.093359Z",
     "start_time": "2019-12-01T08:19:24.683393Z"
    },
    "code_folding": []
   },
   "outputs": [],
   "source": [
    "feature_winner = \"Principal|age|Gender_male|education_High School or Below|education_Bechalor|education_Master or Above\".split('|')\n",
    "\n",
    "knn_plotting_dataframe=[]\n",
    "##Repeat with different sampling of training and get the standard deviation\n",
    "for repeat in range(1,10):\n",
    "    #train test split\n",
    "    train_x, train_y, test_x, test_y = train_test_split_pandas(hot_encoding_df_train,x_cols=feature_winner, y_cols=dependent_feature)\n",
    "\n",
    "    #Normalize X data\n",
    "    train_x_normal = preprocessing.StandardScaler().fit_transform(train_x)\n",
    "    test_x_normal = preprocessing.StandardScaler().fit_transform(test_x)\n",
    "\n",
    "    ##Test up to 30 ks\n",
    "    for k in range(1,30):\n",
    "        knn = KNeighborsClassifier(n_neighbors=k)\n",
    "        knn.fit(train_x_normal, train_y)\n",
    "\n",
    "        #get predicted ys\n",
    "        y_hat_train = knn.predict(train_x_normal)\n",
    "        y_hat_test = knn.predict(test_x_normal)\n",
    "\n",
    "        #Accuracy can be assessed with categorical data\n",
    "        accuracy = accuracy_score(test_y,y_hat_test)\n",
    "\n",
    "\n",
    "        ###Change classes i.e. COLLECTION, PAIDOFF into a binary\n",
    "        label_encoder = preprocessing.LabelEncoder()\n",
    "\n",
    "        #fit it on the test data\n",
    "        le = label_encoder.fit(test_y)\n",
    "\n",
    "        #transform test_y and y_hat_test into a binary representation\n",
    "        test_y_binary = le.transform(test_y)\n",
    "        y_hat_test_binary = le.transform(y_hat_test)\n",
    "\n",
    "        #Make sure the accuracy score from the classification is the same as the label encoded\n",
    "        assert(accuracy_score(test_y_binary,y_hat_test_binary) == accuracy)\n",
    "\n",
    "        #get jacard and f1\n",
    "        jaccard = jaccard_score(test_y_binary,y_hat_test_binary)\n",
    "        f1 = f1_score(test_y_binary,y_hat_test_binary)\n",
    "\n",
    "        ##add results to dataframe\n",
    "        knn_plotting_dataframe.append(\n",
    "            {\n",
    "                'repeat': repeat,\n",
    "                'k':k,\n",
    "                'accuracy':accuracy,\n",
    "                'jaccard':jaccard,\n",
    "                'f1':f1\n",
    "            }\n",
    "        )\n"
   ]
  },
  {
   "cell_type": "code",
   "execution_count": 237,
   "metadata": {
    "ExecuteTime": {
     "end_time": "2019-12-01T08:19:32.724536Z",
     "start_time": "2019-12-01T08:19:30.347965Z"
    }
   },
   "outputs": [
    {
     "data": {
      "text/html": [
       "<div>\n",
       "<style scoped>\n",
       "    .dataframe tbody tr th:only-of-type {\n",
       "        vertical-align: middle;\n",
       "    }\n",
       "\n",
       "    .dataframe tbody tr th {\n",
       "        vertical-align: top;\n",
       "    }\n",
       "\n",
       "    .dataframe thead th {\n",
       "        text-align: right;\n",
       "    }\n",
       "</style>\n",
       "<table border=\"1\" class=\"dataframe\">\n",
       "  <thead>\n",
       "    <tr style=\"text-align: right;\">\n",
       "      <th></th>\n",
       "      <th>repeat</th>\n",
       "      <th>accuracy</th>\n",
       "      <th>jaccard</th>\n",
       "      <th>f1</th>\n",
       "    </tr>\n",
       "    <tr>\n",
       "      <th>k</th>\n",
       "      <th></th>\n",
       "      <th></th>\n",
       "      <th></th>\n",
       "      <th></th>\n",
       "    </tr>\n",
       "  </thead>\n",
       "  <tbody>\n",
       "    <tr>\n",
       "      <th>29</th>\n",
       "      <td>5</td>\n",
       "      <td>0.747619</td>\n",
       "      <td>0.747619</td>\n",
       "      <td>0.85459</td>\n",
       "    </tr>\n",
       "    <tr>\n",
       "      <th>28</th>\n",
       "      <td>5</td>\n",
       "      <td>0.747619</td>\n",
       "      <td>0.747619</td>\n",
       "      <td>0.85459</td>\n",
       "    </tr>\n",
       "    <tr>\n",
       "      <th>27</th>\n",
       "      <td>5</td>\n",
       "      <td>0.747619</td>\n",
       "      <td>0.747619</td>\n",
       "      <td>0.85459</td>\n",
       "    </tr>\n",
       "    <tr>\n",
       "      <th>26</th>\n",
       "      <td>5</td>\n",
       "      <td>0.747619</td>\n",
       "      <td>0.747619</td>\n",
       "      <td>0.85459</td>\n",
       "    </tr>\n",
       "    <tr>\n",
       "      <th>25</th>\n",
       "      <td>5</td>\n",
       "      <td>0.747619</td>\n",
       "      <td>0.747619</td>\n",
       "      <td>0.85459</td>\n",
       "    </tr>\n",
       "  </tbody>\n",
       "</table>\n",
       "</div>"
      ],
      "text/plain": [
       "    repeat  accuracy   jaccard       f1\n",
       "k                                      \n",
       "29       5  0.747619  0.747619  0.85459\n",
       "28       5  0.747619  0.747619  0.85459\n",
       "27       5  0.747619  0.747619  0.85459\n",
       "26       5  0.747619  0.747619  0.85459\n",
       "25       5  0.747619  0.747619  0.85459"
      ]
     },
     "execution_count": 237,
     "metadata": {},
     "output_type": "execute_result"
    },
    {
     "data": {
      "image/png": "[encoded data removed]",
      "text/plain": [
       "<Figure size 1080x288 with 3 Axes>"
      ]
     },
     "metadata": {
      "needs_background": "light"
     },
     "output_type": "display_data"
    }
   ],
   "source": [
    "#change dataframe into a plotting frame\n",
    "knn_plotting_dataframe = pd.DataFrame(knn_plotting_dataframe)\n",
    "\n",
    "##Plot the Ks vs accuracy,jaccard,f1\n",
    "fig,axes = plt.subplots(1,3,sharex=True,sharey=False,figsize=(15,4))\n",
    "ax = axes.flatten()\n",
    "ax[0].set_ylim(0.55,0.8)\n",
    "sns.lineplot(data=knn_plotting_dataframe,x='k',y='jaccard',ax=ax[0],legend=False)\n",
    "ax[0].set_title('Jaccard vs K')\n",
    "sns.lineplot(data=knn_plotting_dataframe,x='k',y='accuracy',ax=ax[1],color='red',legend=False)\n",
    "ax[0].set_xticks(range(1,31,2))\n",
    "ax[1].set_title('Accuracy vs K')\n",
    "ax[1].set_ylim(0.55,0.8)\n",
    "sns.lineplot(data=knn_plotting_dataframe,x='k',y='f1',ax=ax[2],color='green',legend=False)\n",
    "ax[2].set_title('F1 vs K')\n",
    "ax[2].set_ylim(0.65,0.90)\n",
    "fig.tight_layout()\n",
    "\n",
    "knn_plotting_dataframe.groupby('k').mean().sort_values(['accuracy'])[::-1].head(5)"
   ]
  },
  {
   "cell_type": "markdown",
   "metadata": {},
   "source": [
    ">Looks like the best K for this feature set is around 7-9"
   ]
  },
  {
   "cell_type": "code",
   "execution_count": 238,
   "metadata": {
    "ExecuteTime": {
     "end_time": "2019-12-01T08:20:23.515053Z",
     "start_time": "2019-12-01T08:20:23.503016Z"
    }
   },
   "outputs": [
    {
     "data": {
      "text/html": [
       "<div>\n",
       "<style scoped>\n",
       "    .dataframe tbody tr th:only-of-type {\n",
       "        vertical-align: middle;\n",
       "    }\n",
       "\n",
       "    .dataframe tbody tr th {\n",
       "        vertical-align: top;\n",
       "    }\n",
       "\n",
       "    .dataframe thead th {\n",
       "        text-align: right;\n",
       "    }\n",
       "</style>\n",
       "<table border=\"1\" class=\"dataframe\">\n",
       "  <thead>\n",
       "    <tr style=\"text-align: right;\">\n",
       "      <th></th>\n",
       "      <th>repeat</th>\n",
       "      <th>accuracy</th>\n",
       "      <th>jaccard</th>\n",
       "      <th>f1</th>\n",
       "    </tr>\n",
       "    <tr>\n",
       "      <th>k</th>\n",
       "      <th></th>\n",
       "      <th></th>\n",
       "      <th></th>\n",
       "      <th></th>\n",
       "    </tr>\n",
       "  </thead>\n",
       "  <tbody>\n",
       "    <tr>\n",
       "      <th>19</th>\n",
       "      <td>5</td>\n",
       "      <td>0.742857</td>\n",
       "      <td>0.742857</td>\n",
       "      <td>0.85148</td>\n",
       "    </tr>\n",
       "  </tbody>\n",
       "</table>\n",
       "</div>"
      ],
      "text/plain": [
       "    repeat  accuracy   jaccard       f1\n",
       "k                                      \n",
       "19       5  0.742857  0.742857  0.85148"
      ]
     },
     "execution_count": 238,
     "metadata": {},
     "output_type": "execute_result"
    }
   ],
   "source": [
    "##Training Datasets \n",
    "knn_plotting_dataframe.loc[knn_plotting_dataframe['k'] == 19].groupby('k').mean()"
   ]
  },
  {
   "cell_type": "code",
   "execution_count": 239,
   "metadata": {
    "ExecuteTime": {
     "end_time": "2019-12-01T08:20:50.630807Z",
     "start_time": "2019-12-01T08:20:50.609471Z"
    }
   },
   "outputs": [
    {
     "name": "stdout",
     "output_type": "stream",
     "text": [
      "0.7222222222222222\n",
      "0.7169811320754716\n"
     ]
    }
   ],
   "source": [
    "##Get training data without split\n",
    "train_x = hot_encoding_df_train[feature_winner].to_numpy()\n",
    "train_y = hot_encoding_df_train[dependent_feature].to_numpy()\n",
    "train_x_normal = preprocessing.StandardScaler().fit_transform(train_x)\n",
    "\n",
    "\n",
    "#Official testing dataframe\n",
    "official_test_x = hot_encoding_df_test[feature_winner].to_numpy()\n",
    "official_test_y = hot_encoding_df_test[dependent_feature].to_numpy()\n",
    "official_test_x_normal = preprocessing.StandardScaler().fit_transform(official_test_x)\n",
    "\n",
    "knn = KNeighborsClassifier(n_neighbors=5,algorithm='brute')\n",
    "knn.fit(train_x_normal, train_y)\n",
    "y_hat = knn.predict(official_test_x_normal)\n",
    "\n",
    "##accuracy_score\n",
    "print(accuracy_score(official_test_y,y_hat))\n",
    "\n",
    "##jacard\n",
    "###Change classes i.e. COLLECTION, PAIDOFF into a binary\n",
    "label_encoder = preprocessing.LabelEncoder()\n",
    "\n",
    "#fit it on the test data\n",
    "le = label_encoder.fit(official_test_y)\n",
    "\n",
    "#transform test_y and y_hat_test into a binary representation\n",
    "official_test_y_binary = le.transform(official_test_y)\n",
    "y_hat_binary = le.transform(y_hat)\n",
    "\n",
    "print(jaccard_score(official_test_y_binary,y_hat_binary))"
   ]
  },
  {
   "cell_type": "code",
   "execution_count": 241,
   "metadata": {
    "ExecuteTime": {
     "end_time": "2019-12-01T08:21:21.598389Z",
     "start_time": "2019-12-01T08:21:21.594661Z"
    }
   },
   "outputs": [
    {
     "data": {
      "text/plain": [
       "array(['PAIDOFF', 'PAIDOFF', 'PAIDOFF', 'PAIDOFF', 'COLLECTION',\n",
       "       'PAIDOFF', 'PAIDOFF', 'PAIDOFF', 'PAIDOFF', 'PAIDOFF', 'PAIDOFF',\n",
       "       'PAIDOFF', 'PAIDOFF', 'PAIDOFF', 'PAIDOFF', 'PAIDOFF', 'PAIDOFF',\n",
       "       'PAIDOFF', 'PAIDOFF', 'PAIDOFF', 'PAIDOFF', 'COLLECTION',\n",
       "       'PAIDOFF', 'PAIDOFF', 'PAIDOFF', 'PAIDOFF', 'PAIDOFF', 'PAIDOFF',\n",
       "       'PAIDOFF', 'PAIDOFF', 'PAIDOFF', 'PAIDOFF', 'PAIDOFF', 'PAIDOFF',\n",
       "       'PAIDOFF', 'PAIDOFF', 'PAIDOFF', 'PAIDOFF', 'PAIDOFF', 'PAIDOFF',\n",
       "       'PAIDOFF', 'PAIDOFF', 'PAIDOFF', 'PAIDOFF', 'PAIDOFF', 'PAIDOFF',\n",
       "       'PAIDOFF', 'PAIDOFF', 'PAIDOFF', 'PAIDOFF', 'PAIDOFF',\n",
       "       'COLLECTION', 'PAIDOFF', 'PAIDOFF'], dtype=object)"
      ]
     },
     "execution_count": 241,
     "metadata": {},
     "output_type": "execute_result"
    }
   ],
   "source": [
    "y_hat"
   ]
  },
  {
   "cell_type": "markdown",
   "metadata": {},
   "source": [
    "# Decision Tree"
   ]
  },
  {
   "cell_type": "code",
   "execution_count": null,
   "metadata": {},
   "outputs": [],
   "source": []
  },
  {
   "cell_type": "code",
   "execution_count": null,
   "metadata": {},
   "outputs": [],
   "source": []
  },
  {
   "cell_type": "code",
   "execution_count": null,
   "metadata": {},
   "outputs": [],
   "source": []
  },
  {
   "cell_type": "markdown",
   "metadata": {},
   "source": [
    "# Support Vector Machine"
   ]
  },
  {
   "cell_type": "code",
   "execution_count": null,
   "metadata": {},
   "outputs": [],
   "source": []
  },
  {
   "cell_type": "code",
   "execution_count": null,
   "metadata": {},
   "outputs": [],
   "source": []
  },
  {
   "cell_type": "code",
   "execution_count": null,
   "metadata": {},
   "outputs": [],
   "source": []
  },
  {
   "cell_type": "markdown",
   "metadata": {},
   "source": [
    "# Logistic Regression"
   ]
  },
  {
   "cell_type": "code",
   "execution_count": null,
   "metadata": {},
   "outputs": [],
   "source": []
  },
  {
   "cell_type": "code",
   "execution_count": null,
   "metadata": {},
   "outputs": [],
   "source": []
  },
  {
   "cell_type": "code",
   "execution_count": null,
   "metadata": {},
   "outputs": [],
   "source": []
  },
  {
   "cell_type": "markdown",
   "metadata": {},
   "source": [
    "# Model Evaluation using Test set"
   ]
  },
  {
   "cell_type": "code",
   "execution_count": null,
   "metadata": {
    "ExecuteTime": {
     "end_time": "2019-12-01T04:59:17.275913Z",
     "start_time": "2019-12-01T04:59:14.244Z"
    }
   },
   "outputs": [],
   "source": [
    "from sklearn.metrics import jaccard_similarity_score\n",
    "from sklearn.metrics import f1_score\n",
    "from sklearn.metrics import log_loss"
   ]
  },
  {
   "cell_type": "markdown",
   "metadata": {},
   "source": [
    "First, download and load the test set:"
   ]
  },
  {
   "cell_type": "code",
   "execution_count": 11,
   "metadata": {
    "ExecuteTime": {
     "end_time": "2019-12-01T05:06:20.637059Z",
     "start_time": "2019-12-01T05:06:20.321667Z"
    }
   },
   "outputs": [
    {
     "name": "stdout",
     "output_type": "stream",
     "text": [
      "--2019-11-30 23:06:20--  https://s3-api.us-geo.objectstorage.softlayer.net/cf-courses-data/CognitiveClass/ML0101ENv3/labs/loan_test.csv\n",
      "Resolving s3-api.us-geo.objectstorage.softlayer.net... 67.228.254.196\n",
      "Connecting to s3-api.us-geo.objectstorage.softlayer.net|67.228.254.196|:443... connected.\n",
      "HTTP request sent, awaiting response... 200 OK\n",
      "Length: 3642 (3.6K) [text/csv]\n",
      "Saving to: 'loan_test.csv'\n",
      "\n",
      "loan_test.csv       100%[===================>]   3.56K  --.-KB/s    in 0s      \n",
      "\n",
      "2019-11-30 23:06:20 (248 MB/s) - 'loan_test.csv' saved [3642/3642]\n",
      "\n"
     ]
    }
   ],
   "source": [
    "!wget -O loan_test.csv https://s3-api.us-geo.objectstorage.softlayer.net/cf-courses-data/CognitiveClass/ML0101ENv3/labs/loan_test.csv"
   ]
  },
  {
   "cell_type": "markdown",
   "metadata": {
    "button": false,
    "new_sheet": false,
    "run_control": {
     "read_only": false
    }
   },
   "source": [
    "### Load Test set for evaluation "
   ]
  },
  {
   "cell_type": "code",
   "execution_count": 12,
   "metadata": {
    "ExecuteTime": {
     "end_time": "2019-12-01T05:06:48.385241Z",
     "start_time": "2019-12-01T05:06:48.367325Z"
    },
    "button": false,
    "new_sheet": false,
    "run_control": {
     "read_only": false
    }
   },
   "outputs": [
    {
     "data": {
      "text/html": [
       "<div>\n",
       "<style scoped>\n",
       "    .dataframe tbody tr th:only-of-type {\n",
       "        vertical-align: middle;\n",
       "    }\n",
       "\n",
       "    .dataframe tbody tr th {\n",
       "        vertical-align: top;\n",
       "    }\n",
       "\n",
       "    .dataframe thead th {\n",
       "        text-align: right;\n",
       "    }\n",
       "</style>\n",
       "<table border=\"1\" class=\"dataframe\">\n",
       "  <thead>\n",
       "    <tr style=\"text-align: right;\">\n",
       "      <th></th>\n",
       "      <th>Unnamed: 0</th>\n",
       "      <th>Unnamed: 0.1</th>\n",
       "      <th>loan_status</th>\n",
       "      <th>Principal</th>\n",
       "      <th>terms</th>\n",
       "      <th>effective_date</th>\n",
       "      <th>due_date</th>\n",
       "      <th>age</th>\n",
       "      <th>education</th>\n",
       "      <th>Gender</th>\n",
       "    </tr>\n",
       "  </thead>\n",
       "  <tbody>\n",
       "    <tr>\n",
       "      <th>0</th>\n",
       "      <td>1</td>\n",
       "      <td>1</td>\n",
       "      <td>PAIDOFF</td>\n",
       "      <td>1000</td>\n",
       "      <td>30</td>\n",
       "      <td>9/8/2016</td>\n",
       "      <td>10/7/2016</td>\n",
       "      <td>50</td>\n",
       "      <td>Bechalor</td>\n",
       "      <td>female</td>\n",
       "    </tr>\n",
       "    <tr>\n",
       "      <th>1</th>\n",
       "      <td>5</td>\n",
       "      <td>5</td>\n",
       "      <td>PAIDOFF</td>\n",
       "      <td>300</td>\n",
       "      <td>7</td>\n",
       "      <td>9/9/2016</td>\n",
       "      <td>9/15/2016</td>\n",
       "      <td>35</td>\n",
       "      <td>Master or Above</td>\n",
       "      <td>male</td>\n",
       "    </tr>\n",
       "    <tr>\n",
       "      <th>2</th>\n",
       "      <td>21</td>\n",
       "      <td>21</td>\n",
       "      <td>PAIDOFF</td>\n",
       "      <td>1000</td>\n",
       "      <td>30</td>\n",
       "      <td>9/10/2016</td>\n",
       "      <td>10/9/2016</td>\n",
       "      <td>43</td>\n",
       "      <td>High School or Below</td>\n",
       "      <td>female</td>\n",
       "    </tr>\n",
       "    <tr>\n",
       "      <th>3</th>\n",
       "      <td>24</td>\n",
       "      <td>24</td>\n",
       "      <td>PAIDOFF</td>\n",
       "      <td>1000</td>\n",
       "      <td>30</td>\n",
       "      <td>9/10/2016</td>\n",
       "      <td>10/9/2016</td>\n",
       "      <td>26</td>\n",
       "      <td>college</td>\n",
       "      <td>male</td>\n",
       "    </tr>\n",
       "    <tr>\n",
       "      <th>4</th>\n",
       "      <td>35</td>\n",
       "      <td>35</td>\n",
       "      <td>PAIDOFF</td>\n",
       "      <td>800</td>\n",
       "      <td>15</td>\n",
       "      <td>9/11/2016</td>\n",
       "      <td>9/25/2016</td>\n",
       "      <td>29</td>\n",
       "      <td>Bechalor</td>\n",
       "      <td>male</td>\n",
       "    </tr>\n",
       "  </tbody>\n",
       "</table>\n",
       "</div>"
      ],
      "text/plain": [
       "   Unnamed: 0  Unnamed: 0.1 loan_status  Principal  terms effective_date  \\\n",
       "0           1             1     PAIDOFF       1000     30       9/8/2016   \n",
       "1           5             5     PAIDOFF        300      7       9/9/2016   \n",
       "2          21            21     PAIDOFF       1000     30      9/10/2016   \n",
       "3          24            24     PAIDOFF       1000     30      9/10/2016   \n",
       "4          35            35     PAIDOFF        800     15      9/11/2016   \n",
       "\n",
       "    due_date  age             education  Gender  \n",
       "0  10/7/2016   50              Bechalor  female  \n",
       "1  9/15/2016   35       Master or Above    male  \n",
       "2  10/9/2016   43  High School or Below  female  \n",
       "3  10/9/2016   26               college    male  \n",
       "4  9/25/2016   29              Bechalor    male  "
      ]
     },
     "execution_count": 12,
     "metadata": {},
     "output_type": "execute_result"
    }
   ],
   "source": [
    "test_df = pd.read_csv('loan_test.csv')\n",
    "test_df.head()"
   ]
  },
  {
   "cell_type": "code",
   "execution_count": null,
   "metadata": {},
   "outputs": [],
   "source": []
  },
  {
   "cell_type": "code",
   "execution_count": null,
   "metadata": {},
   "outputs": [],
   "source": []
  },
  {
   "cell_type": "code",
   "execution_count": null,
   "metadata": {},
   "outputs": [],
   "source": []
  },
  {
   "cell_type": "markdown",
   "metadata": {},
   "source": [
    "# Report\n",
    "You should be able to report the accuracy of the built model using different evaluation metrics:"
   ]
  },
  {
   "cell_type": "markdown",
   "metadata": {},
   "source": [
    "| Algorithm          | Jaccard | F1-score | LogLoss |\n",
    "|--------------------|---------|----------|---------|\n",
    "| KNN                | ?       | ?        | NA      |\n",
    "| Decision Tree      | ?       | ?        | NA      |\n",
    "| SVM                | ?       | ?        | NA      |\n",
    "| LogisticRegression | ?       | ?        | ?       |"
   ]
  },
  {
   "cell_type": "markdown",
   "metadata": {
    "button": false,
    "new_sheet": false,
    "run_control": {
     "read_only": false
    }
   },
   "source": [
    "<h2>Want to learn more?</h2>\n",
    "\n",
    "IBM SPSS Modeler is a comprehensive analytics platform that has many machine learning algorithms. It has been designed to bring predictive intelligence to decisions made by individuals, by groups, by systems – by your enterprise as a whole. A free trial is available through this course, available here: <a href=\"http://cocl.us/ML0101EN-SPSSModeler\">SPSS Modeler</a>\n",
    "\n",
    "Also, you can use Watson Studio to run these notebooks faster with bigger datasets. Watson Studio is IBM's leading cloud solution for data scientists, built by data scientists. With Jupyter notebooks, RStudio, Apache Spark and popular libraries pre-packaged in the cloud, Watson Studio enables data scientists to collaborate on their projects without having to install anything. Join the fast-growing community of Watson Studio users today with a free account at <a href=\"https://cocl.us/ML0101EN_DSX\">Watson Studio</a>\n",
    "\n",
    "<h3>Thanks for completing this lesson!</h3>\n",
    "\n",
    "<h4>Author:  <a href=\"https://ca.linkedin.com/in/saeedaghabozorgi\">Saeed Aghabozorgi</a></h4>\n",
    "<p><a href=\"https://ca.linkedin.com/in/saeedaghabozorgi\">Saeed Aghabozorgi</a>, PhD is a Data Scientist in IBM with a track record of developing enterprise level applications that substantially increases clients’ ability to turn data into actionable knowledge. He is a researcher in data mining field and expert in developing advanced analytic methods like machine learning and statistical modelling on large datasets.</p>\n",
    "\n",
    "<hr>\n",
    "\n",
    "<p>Copyright &copy; 2018 <a href=\"https://cocl.us/DX0108EN_CC\">Cognitive Class</a>. This notebook and its source code are released under the terms of the <a href=\"https://bigdatauniversity.com/mit-license/\">MIT License</a>.</p>"
   ]
  }
 ],
 "metadata": {
  "kernelspec": {
   "display_name": "Python 3",
   "language": "python",
   "name": "python3"
  },
  "language_info": {
   "codemirror_mode": {
    "name": "ipython",
    "version": 3
   },
   "file_extension": ".py",
   "mimetype": "text/x-python",
   "name": "python",
   "nbconvert_exporter": "python",
   "pygments_lexer": "ipython3",
   "version": "3.7.3"
  },
  "toc": {
   "base_numbering": 1,
   "nav_menu": {},
   "number_sections": true,
   "sideBar": true,
   "skip_h1_title": false,
   "title_cell": "Table of Contents",
   "title_sidebar": "Contents",
   "toc_cell": false,
   "toc_position": {},
   "toc_section_display": true,
   "toc_window_display": false
  }
 },
 "nbformat": 4,
 "nbformat_minor": 2
}
