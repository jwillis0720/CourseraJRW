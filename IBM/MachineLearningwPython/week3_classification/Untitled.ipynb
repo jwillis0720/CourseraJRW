{
 "cells": [
  {
   "cell_type": "code",
   "execution_count": 20,
   "metadata": {
    "ExecuteTime": {
     "end_time": "2019-12-05T08:25:48.890286Z",
     "start_time": "2019-12-05T08:25:48.608187Z"
    }
   },
   "outputs": [
    {
     "name": "stdout",
     "output_type": "stream",
     "text": [
      "0.625\n",
      "Feature - tenure has a weight of - -0.02402\n",
      "Feature - age has a weight of - -0.01687\n",
      "Feature - address has a weight of - -0.01598\n",
      "Feature - income has a weight of - -0.00497\n",
      "Feature - ed has a weight of - 0.01042\n",
      "Feature - employ has a weight of - -0.01900\n",
      "Feature - equip has a weight of - 0.02367\n",
      "Feature - callcard has a weight of - -0.02006\n",
      "Feature - wireless has a weight of - 0.02094\n"
     ]
    }
   ],
   "source": [
    "import pandas as pd\n",
    "from sklearn import preprocessing\n",
    "from sklearn.model_selection import train_test_split\n",
    "from sklearn.linear_model import LogisticRegression\n",
    "from sklearn.metrics import confusion_matrix, accuracy_score, classification_report\n",
    "\n",
    "features = ['tenure', 'age', 'address', 'income', 'ed', 'employ', 'equip',   'callcard', 'wireless','churn']\n",
    "churn_df = pd.read_csv(\"https://s3-api.us-geo.objectstorage.softlayer.net/cf-courses-data/CognitiveClass/ML0101ENv3/labs/ChurnData.csv\")\n",
    "churn_df = churn_df[features]\n",
    "churn_df['churn'] = churn_df['churn'].astype('int')\n",
    "X_normal = preprocessing.StandardScaler().fit_transform(churn_df.drop('churn',axis=1).to_numpy())\n",
    "y = churn_df['churn']\n",
    "\n",
    "##split model\n",
    "X_train, X_test, y_train, y_test = train_test_split( X_normal, y, test_size=0.2, random_state=4)\n",
    "\n",
    "\n",
    "LR = LogisticRegression(C=0.001, solver='liblinear').fit(X_train,y_train)\n",
    "print(accuracy_score(LR.predict(X_test),y_test))\n",
    "for f,w in zip(features,LR.coef_[0]):\n",
    "    print(\"Feature - {} has a weight of - {:.5f}\".format(f,w))"
   ]
  },
  {
   "cell_type": "code",
   "execution_count": 28,
   "metadata": {
    "ExecuteTime": {
     "end_time": "2019-12-05T08:34:24.357921Z",
     "start_time": "2019-12-05T08:34:24.351220Z"
    }
   },
   "outputs": [],
   "source": [
    "from docx import Document\n",
    "\n",
    "document = Document('/Users/jordanwillis/hello.docx')\n",
    "for para in document.paragraphs:\n",
    "    string = para.text\n",
    "    break"
   ]
  },
  {
   "cell_type": "code",
   "execution_count": 29,
   "metadata": {
    "ExecuteTime": {
     "end_time": "2019-12-05T08:34:29.152230Z",
     "start_time": "2019-12-05T08:34:29.148915Z"
    }
   },
   "outputs": [
    {
     "data": {
      "text/plain": [
       "'  My name is Dr. Jordan Willis and I was the Principal Investigator for Rejuvenate Therapeutics working alongside your applicant Andrew Powers. I have been researching protein engineering and its application to immunology for years. I have known Andrew Powers for approximately one year where he was the primary experimentalist for our project to reengineer AAV capsids to selectively target canine tissue.'"
      ]
     },
     "execution_count": 29,
     "metadata": {},
     "output_type": "execute_result"
    }
   ],
   "source": [
    "for arch in os.listdir(mydir):              \n",
    "    archpath = os.path.join(mydir, arch)\n",
    "    document = Document(archpath)\n",
    "    for para in document.paragraphs:\n",
    "        s = re.search(pat, para.text)\n",
    "    if s is None:\n",
    "        continue\n",
    "    name = s.group(1)\n",
    "    newpath = os.path.join(mydir, name)\n",
    "    if not os.path.exists(newpath):\n",
    "        os.rename(archpath, newpath+'docx')"
   ]
  },
  {
   "cell_type": "code",
   "execution_count": null,
   "metadata": {},
   "outputs": [],
   "source": []
  }
 ],
 "metadata": {
  "kernelspec": {
   "display_name": "Python 3",
   "language": "python",
   "name": "python3"
  },
  "language_info": {
   "codemirror_mode": {
    "name": "ipython",
    "version": 3
   },
   "file_extension": ".py",
   "mimetype": "text/x-python",
   "name": "python",
   "nbconvert_exporter": "python",
   "pygments_lexer": "ipython3",
   "version": "3.7.3"
  },
  "toc": {
   "base_numbering": 1,
   "nav_menu": {},
   "number_sections": true,
   "sideBar": true,
   "skip_h1_title": false,
   "title_cell": "Table of Contents",
   "title_sidebar": "Contents",
   "toc_cell": false,
   "toc_position": {},
   "toc_section_display": true,
   "toc_window_display": false
  }
 },
 "nbformat": 4,
 "nbformat_minor": 2
}
