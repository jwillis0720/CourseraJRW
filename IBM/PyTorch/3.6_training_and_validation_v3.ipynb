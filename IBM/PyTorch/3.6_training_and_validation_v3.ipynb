{
 "cells": [
  {
   "cell_type": "markdown",
   "metadata": {},
   "source": [
    "<a href=\"http://cocl.us/pytorch_link_top\">\n",
    "    <img src=\"https://s3-api.us-geo.objectstorage.softlayer.net/cf-courses-data/CognitiveClass/DL0110EN/notebook_images%20/Pytochtop.png\" width=\"750\" alt=\"IBM Product \" />\n",
    "</a> "
   ]
  },
  {
   "cell_type": "markdown",
   "metadata": {},
   "source": [
    "<img src=\"https://s3-api.us-geo.objectstorage.softlayer.net/cf-courses-data/CognitiveClass/DL0110EN/notebook_images%20/cc-logo-square.png\" width=\"200\" alt=\"cognitiveclass.ai logo\" />"
   ]
  },
  {
   "cell_type": "markdown",
   "metadata": {},
   "source": [
    "<h1>Linear regression: Training and Validation Data</h1> "
   ]
  },
  {
   "cell_type": "markdown",
   "metadata": {},
   "source": [
    "<h2>Table of Contents</h2>\n",
    "<p>In this lab, you will learn to select the best learning rate by using validation data.</p>\n",
    "\n",
    "<ul>\n",
    "    <li><a href=\"#Makeup_Data\">Make Some Data</a></li>\n",
    "    <li><a href=\"#LR_Loader_Cost\">Create a Linear Regression Object, Data Loader and Criterion Function</a></li>\n",
    "    <li><a href=\"#LR_Hyper\">Different learning rates and Data Structures to Store results for Different Hyperparameters</a></li>\n",
    "    <li><a href=\"#Model\">Train different modules for different Hyperparameters</a></li>\n",
    "    <li><a href=\"#Result\">View Results</a></li>\n",
    "</ul>\n",
    "\n",
    "<p>Estimated Time Needed: <strong>30 min</strong></p>\n",
    "\n",
    "<hr>"
   ]
  },
  {
   "cell_type": "markdown",
   "metadata": {},
   "source": [
    "<h2>Preparation</h2>"
   ]
  },
  {
   "cell_type": "markdown",
   "metadata": {},
   "source": [
    "We'll need the following libraries and set the random seed."
   ]
  },
  {
   "cell_type": "code",
   "execution_count": 1,
   "metadata": {
    "ExecuteTime": {
     "end_time": "2019-12-07T08:06:12.551102Z",
     "start_time": "2019-12-07T08:06:11.584100Z"
    }
   },
   "outputs": [],
   "source": [
    "# Import libraries we need for this lab, and set the random seed\n",
    "\n",
    "from torch import nn\n",
    "import torch\n",
    "import numpy as np\n",
    "import matplotlib.pyplot as plt\n",
    "from torch import nn,optim"
   ]
  },
  {
   "cell_type": "markdown",
   "metadata": {},
   "source": [
    "<!--Empty Space for separating topics-->"
   ]
  },
  {
   "cell_type": "markdown",
   "metadata": {},
   "source": [
    "<h2 id=\"Makeup_Data\">Make Some Data</h2>"
   ]
  },
  {
   "cell_type": "markdown",
   "metadata": {},
   "source": [
    "First, we'll create some artificial data in a dataset class. The class will include the option to produce training data or validation data. The training data will include outliers."
   ]
  },
  {
   "cell_type": "code",
   "execution_count": 2,
   "metadata": {
    "ExecuteTime": {
     "end_time": "2019-12-07T08:06:12.559497Z",
     "start_time": "2019-12-07T08:06:12.553043Z"
    }
   },
   "outputs": [],
   "source": [
    "# Create Data class\n",
    "\n",
    "from torch.utils.data import Dataset, DataLoader\n",
    "\n",
    "class Data(Dataset):\n",
    "    \n",
    "    # Constructor\n",
    "    def __init__(self, train = True):\n",
    "            self.x = torch.arange(-3, 3, 0.1).view(-1, 1)\n",
    "            self.f = -3 * self.x + 1\n",
    "            self.y = self.f + 0.1 * torch.randn(self.x.size())\n",
    "            self.len = self.x.shape[0]\n",
    "            \n",
    "            #outliers \n",
    "            if train == True:\n",
    "                self.y[0] = 0\n",
    "                self.y[50:55] = 20\n",
    "            else:\n",
    "                pass\n",
    "      \n",
    "    # Getter\n",
    "    def __getitem__(self, index):    \n",
    "        return self.x[index], self.y[index]\n",
    "    \n",
    "    # Get Length\n",
    "    def __len__(self):\n",
    "        return self.len"
   ]
  },
  {
   "cell_type": "markdown",
   "metadata": {},
   "source": [
    "Create two objects: one that contains training data and a second that contains validation data. Assume that the training data has the outliers. "
   ]
  },
  {
   "cell_type": "code",
   "execution_count": 3,
   "metadata": {
    "ExecuteTime": {
     "end_time": "2019-12-07T08:06:12.566086Z",
     "start_time": "2019-12-07T08:06:12.562327Z"
    }
   },
   "outputs": [],
   "source": [
    "# Create training dataset and validation dataset\n",
    "\n",
    "train_data = Data()\n",
    "val_data = Data(train = False)"
   ]
  },
  {
   "cell_type": "markdown",
   "metadata": {},
   "source": [
    "Overlay the training points in red over the function that generated the data. Notice the outliers at x=-3 and around x=2:"
   ]
  },
  {
   "cell_type": "code",
   "execution_count": 4,
   "metadata": {
    "ExecuteTime": {
     "end_time": "2019-12-07T08:06:12.739683Z",
     "start_time": "2019-12-07T08:06:12.568455Z"
    }
   },
   "outputs": [
    {
     "data": {
      "image/png": "[encoded data removed]",
      "text/plain": [
       "<Figure size 432x288 with 1 Axes>"
      ]
     },
     "metadata": {
      "needs_background": "light"
     },
     "output_type": "display_data"
    }
   ],
   "source": [
    "# Plot out training points\n",
    "\n",
    "plt.plot(train_data.x.numpy(), train_data.y.numpy(), 'xr',label=\"training data \")\n",
    "plt.plot(train_data.x.numpy(), train_data.f.numpy(),label=\"true function  \")\n",
    "plt.xlabel('x')\n",
    "plt.ylabel('y')\n",
    "plt.legend()\n",
    "plt.show()"
   ]
  },
  {
   "cell_type": "markdown",
   "metadata": {},
   "source": [
    "<!--Empty Space for separating topics-->"
   ]
  },
  {
   "cell_type": "markdown",
   "metadata": {},
   "source": [
    "<h2 id=\"LR_Loader_Cost\">Create a Linear Regression Object,  Data Loader, and Criterion Function</h2>"
   ]
  },
  {
   "cell_type": "code",
   "execution_count": 5,
   "metadata": {
    "ExecuteTime": {
     "end_time": "2019-12-07T08:06:12.748808Z",
     "start_time": "2019-12-07T08:06:12.742771Z"
    }
   },
   "outputs": [],
   "source": [
    "# Create Linear Regression Class\n",
    "\n",
    "from torch import nn\n",
    "\n",
    "class linear_regression(nn.Module):\n",
    "    \n",
    "    # Constructor\n",
    "    def __init__(self, input_size, output_size):\n",
    "        super(linear_regression, self).__init__()\n",
    "        self.linear = nn.Linear(input_size, output_size)\n",
    "    \n",
    "    # Prediction function\n",
    "    def forward(self, x):\n",
    "        yhat = self.linear(x)\n",
    "        return yhat"
   ]
  },
  {
   "cell_type": "markdown",
   "metadata": {},
   "source": [
    "Create the criterion function and a <code>DataLoader</code> object: "
   ]
  },
  {
   "cell_type": "code",
   "execution_count": 6,
   "metadata": {
    "ExecuteTime": {
     "end_time": "2019-12-07T08:06:12.755531Z",
     "start_time": "2019-12-07T08:06:12.751595Z"
    }
   },
   "outputs": [],
   "source": [
    "# Create MSELoss function and DataLoader\n",
    "\n",
    "criterion = nn.MSELoss()\n",
    "trainloader = DataLoader(dataset = train_data, batch_size = 1)"
   ]
  },
  {
   "cell_type": "markdown",
   "metadata": {},
   "source": [
    "<!--Empty Space for separating topics-->"
   ]
  },
  {
   "cell_type": "markdown",
   "metadata": {},
   "source": [
    "<h2 id=\"LR_Hyper\">Different learning rates and Data Structures to Store results for different Hyperparameters</h2>"
   ]
  },
  {
   "cell_type": "markdown",
   "metadata": {},
   "source": [
    "Create a list with different learning rates and a tensor (can be a list) for the training and validating cost/total loss. Include the list MODELS, which stores the training model for every value of the learning rate. "
   ]
  },
  {
   "cell_type": "code",
   "execution_count": 7,
   "metadata": {
    "ExecuteTime": {
     "end_time": "2019-12-07T08:06:12.763691Z",
     "start_time": "2019-12-07T08:06:12.758493Z"
    }
   },
   "outputs": [],
   "source": [
    "# Create Learning Rate list, the error lists and the MODELS list\n",
    "\n",
    "learning_rates=[0.0001, 0.001, 0.01, 0.1]\n",
    "\n",
    "#this is just a list of zeros\n",
    "train_error=torch.zeros(len(learning_rates))\n",
    "validation_error=torch.zeros(len(learning_rates))\n",
    "\n",
    "MODELS=[]"
   ]
  },
  {
   "cell_type": "markdown",
   "metadata": {},
   "source": [
    "<!--Empty Space for separating topics-->"
   ]
  },
  {
   "cell_type": "markdown",
   "metadata": {},
   "source": [
    "<h2 id=\"Model\">Train different models  for different Hyperparameters</h2>"
   ]
  },
  {
   "cell_type": "markdown",
   "metadata": {},
   "source": [
    "Try different values of learning rates, perform stochastic gradient descent, and save the results on the training data and validation data. Finally, save each model in a list."
   ]
  },
  {
   "cell_type": "code",
   "execution_count": 11,
   "metadata": {
    "ExecuteTime": {
     "end_time": "2019-12-07T08:09:08.771721Z",
     "start_time": "2019-12-07T08:09:08.384270Z"
    }
   },
   "outputs": [],
   "source": [
    "# Define the train model function and train the model\n",
    "from torch import nn\n",
    "\n",
    "# Create Learning Rate list, the error lists and the MODELS list\n",
    "#initialize data\n",
    "train_data = Data()\n",
    "val_data = Data(train = False)\n",
    "\n",
    "learning_rates=[0.0001, 0.001, 0.01, 0.1]\n",
    "\n",
    "#this is just a list of zeros\n",
    "train_error=torch.zeros(len(learning_rates))\n",
    "validation_error=torch.zeros(len(learning_rates))\n",
    "\n",
    "\n",
    "##Data\n",
    "criterion = nn.MSELoss()\n",
    "trainloader = DataLoader(dataset = train_data, batch_size = 1)\n",
    "\n",
    "MODELS=[]\n",
    "\n",
    "class linear_regression(nn.Module):\n",
    "    \n",
    "    # Constructor\n",
    "    def __init__(self, input_size, output_size):\n",
    "        super(linear_regression, self).__init__()\n",
    "        self.linear = nn.Linear(input_size, output_size)\n",
    "    \n",
    "    # Prediction function\n",
    "    def forward(self, x):\n",
    "        yhat = self.linear(x)\n",
    "        return yhat\n",
    "\n",
    "\n",
    "def train_model_with_lr (iter, lr_list):\n",
    "    \n",
    "    # iterate through different learning rates \n",
    "    for i, lr in enumerate(lr_list):\n",
    "        #start a new model\n",
    "        model = linear_regression(1, 1)\n",
    "        optimizer = optim.SGD(model.parameters(), lr = lr)\n",
    "        for epoch in range(iter):\n",
    "            for x, y in trainloader:\n",
    "                yhat = model(x)\n",
    "                loss = criterion(yhat, y)\n",
    "                optimizer.zero_grad()\n",
    "                loss.backward()\n",
    "                optimizer.step()\n",
    "                \n",
    "        # train data\n",
    "        Yhat = model(train_data.x)\n",
    "        train_loss = criterion(Yhat, train_data.y)\n",
    "        train_error[i] = train_loss.item()\n",
    "    \n",
    "        # validation data\n",
    "        Yhat = model(val_data.x)\n",
    "        val_loss = criterion(Yhat, val_data.y)\n",
    "        validation_error[i] = val_loss.item()\n",
    "        MODELS.append(model)\n",
    "\n",
    "train_model_with_lr(10, learning_rates)"
   ]
  },
  {
   "cell_type": "markdown",
   "metadata": {},
   "source": [
    "<!--Empty Space for separating topics-->"
   ]
  },
  {
   "cell_type": "markdown",
   "metadata": {},
   "source": [
    "<h2 id=\"Result\">View the Results</h2>"
   ]
  },
  {
   "cell_type": "markdown",
   "metadata": {},
   "source": [
    "Plot the training loss and validation loss for each learning rate:  "
   ]
  },
  {
   "cell_type": "code",
   "execution_count": 12,
   "metadata": {
    "ExecuteTime": {
     "end_time": "2019-12-07T08:09:13.299496Z",
     "start_time": "2019-12-07T08:09:12.956171Z"
    }
   },
   "outputs": [
    {
     "data": {
      "image/png": "[encoded data removed]",
      "text/plain": [
       "<Figure size 432x288 with 1 Axes>"
      ]
     },
     "metadata": {
      "needs_background": "light"
     },
     "output_type": "display_data"
    }
   ],
   "source": [
    "# Plot the training loss and validation loss\n",
    "\n",
    "plt.semilogx(np.array(learning_rates), train_error.numpy(), label = 'training loss/total Loss')\n",
    "plt.semilogx(np.array(learning_rates), validation_error.numpy(), label = 'validation cost/total Loss')\n",
    "plt.ylabel('Cost\\ Total Loss')\n",
    "plt.xlabel('learning rate')\n",
    "plt.legend()\n",
    "plt.show()"
   ]
  },
  {
   "cell_type": "markdown",
   "metadata": {},
   "source": [
    "Produce a prediction by using the validation data for each model:  "
   ]
  },
  {
   "cell_type": "code",
   "execution_count": 13,
   "metadata": {
    "ExecuteTime": {
     "end_time": "2019-12-07T08:09:14.804359Z",
     "start_time": "2019-12-07T08:09:14.651666Z"
    }
   },
   "outputs": [
    {
     "name": "stdout",
     "output_type": "stream",
     "text": [
      "i [[0.07663367]\n",
      " [0.07438475]\n",
      " [0.07213582]]\n",
      "i [[5.4782944]\n",
      " [5.362564 ]\n",
      " [5.246833 ]]\n",
      "i [[6.5648956]\n",
      " [6.431484 ]\n",
      " [6.2980733]]\n",
      "i [[14.841122]\n",
      " [14.393216]\n",
      " [13.945309]]\n"
     ]
    },
    {
     "data": {
      "image/png": "[encoded data removed]",
      "text/plain": [
       "<Figure size 432x288 with 1 Axes>"
      ]
     },
     "metadata": {
      "needs_background": "light"
     },
     "output_type": "display_data"
    }
   ],
   "source": [
    "# Plot the predictions\n",
    "\n",
    "i = 0\n",
    "for model, learning_rate in zip(MODELS, learning_rates):\n",
    "    yhat = model(val_data.x)\n",
    "    plt.plot(val_data.x.numpy(), yhat.detach().numpy(), label = 'lr:' + str(learning_rate))\n",
    "    print('i', yhat.detach().numpy()[0:3])\n",
    "plt.plot(val_data.x.numpy(), val_data.f.numpy(), 'or', label = 'validation data')\n",
    "plt.xlabel('x')\n",
    "plt.ylabel('y')\n",
    "plt.legend()\n",
    "plt.show()"
   ]
  },
  {
   "cell_type": "markdown",
   "metadata": {},
   "source": [
    "<!--Empty Space for separating topics-->"
   ]
  },
  {
   "cell_type": "markdown",
   "metadata": {},
   "source": [
    "<h3>Practice</h3>"
   ]
  },
  {
   "cell_type": "markdown",
   "metadata": {},
   "source": [
    "The object <code>good_model</code> is the best performing model. Use the train loader to get the data samples x and y. Produce an estimate for <code>yhat</code> and print it out for every sample in a for a loop. Compare it to the actual prediction <code>y</code>."
   ]
  },
  {
   "cell_type": "code",
   "execution_count": 24,
   "metadata": {
    "ExecuteTime": {
     "end_time": "2019-12-07T08:14:49.875727Z",
     "start_time": "2019-12-07T08:14:49.872204Z"
    }
   },
   "outputs": [
    {
     "data": {
      "text/plain": [
       "linear_regression(\n",
       "  (linear): Linear(in_features=1, out_features=1, bias=True)\n",
       ")"
      ]
     },
     "execution_count": 24,
     "metadata": {},
     "output_type": "execute_result"
    }
   ],
   "source": [
    "MODELS[0].p"
   ]
  },
  {
   "cell_type": "code",
   "execution_count": 31,
   "metadata": {
    "ExecuteTime": {
     "end_time": "2019-12-07T08:18:31.382528Z",
     "start_time": "2019-12-07T08:18:31.270600Z"
    }
   },
   "outputs": [
    {
     "name": "stdout",
     "output_type": "stream",
     "text": [
      "x tensor([[-3.]]) yhat=  14.841122 y tensor([[0.]])\n",
      "x tensor([[-2.9000]]) yhat=  14.393216 y tensor([[9.7849]])\n",
      "x tensor([[-2.8000]]) yhat=  13.945309 y tensor([[9.4427]])\n",
      "x tensor([[-2.7000]]) yhat=  13.497403 y tensor([[9.2138]])\n",
      "x tensor([[-2.6000]]) yhat=  13.049496 y tensor([[8.7951]])\n",
      "x tensor([[-2.5000]]) yhat=  12.60159 y tensor([[8.5524]])\n",
      "x tensor([[-2.4000]]) yhat=  12.153685 y tensor([[8.2619]])\n",
      "x tensor([[-2.3000]]) yhat=  11.705777 y tensor([[7.7945]])\n",
      "x tensor([[-2.2000]]) yhat=  11.257872 y tensor([[7.6598]])\n",
      "x tensor([[-2.1000]]) yhat=  10.809964 y tensor([[7.3770]])\n",
      "x tensor([[-2.]]) yhat=  10.362059 y tensor([[6.9536]])\n",
      "x tensor([[-1.9000]]) yhat=  9.914152 y tensor([[6.4720]])\n",
      "x tensor([[-1.8000]]) yhat=  9.466246 y tensor([[6.2467]])\n",
      "x tensor([[-1.7000]]) yhat=  9.01834 y tensor([[6.1865]])\n",
      "x tensor([[-1.6000]]) yhat=  8.570434 y tensor([[5.6290]])\n",
      "x tensor([[-1.5000]]) yhat=  8.122527 y tensor([[5.3973]])\n",
      "x tensor([[-1.4000]]) yhat=  7.6746206 y tensor([[5.4983]])\n",
      "x tensor([[-1.3000]]) yhat=  7.226714 y tensor([[4.8383]])\n",
      "x tensor([[-1.2000]]) yhat=  6.7788086 y tensor([[4.4933]])\n",
      "x tensor([[-1.1000]]) yhat=  6.330902 y tensor([[4.1659]])\n",
      "x tensor([[-1.]]) yhat=  5.8829956 y tensor([[3.9541]])\n",
      "x tensor([[-0.9000]]) yhat=  5.435089 y tensor([[3.7048]])\n",
      "x tensor([[-0.8000]]) yhat=  4.987183 y tensor([[3.4181]])\n",
      "x tensor([[-0.7000]]) yhat=  4.5392766 y tensor([[3.2452]])\n",
      "x tensor([[-0.6000]]) yhat=  4.0913706 y tensor([[2.8184]])\n",
      "x tensor([[-0.5000]]) yhat=  3.643464 y tensor([[2.2582]])\n",
      "x tensor([[-0.4000]]) yhat=  3.1955578 y tensor([[2.1112]])\n",
      "x tensor([[-0.3000]]) yhat=  2.7476516 y tensor([[1.9826]])\n",
      "x tensor([[-0.2000]]) yhat=  2.299745 y tensor([[1.6330]])\n",
      "x tensor([[-0.1000]]) yhat=  1.8518388 y tensor([[1.2226]])\n",
      "x tensor([[0.]]) yhat=  1.4039326 y tensor([[0.8577]])\n",
      "x tensor([[0.1000]]) yhat=  0.95602626 y tensor([[0.7658]])\n",
      "x tensor([[0.2000]]) yhat=  0.50811994 y tensor([[0.6385]])\n",
      "x tensor([[0.3000]]) yhat=  0.060213566 y tensor([[-0.0277]])\n",
      "x tensor([[0.4000]]) yhat=  -0.3876927 y tensor([[-0.2079]])\n",
      "x tensor([[0.5000]]) yhat=  -0.83559895 y tensor([[-0.5026]])\n",
      "x tensor([[0.6000]]) yhat=  -1.2835054 y tensor([[-0.9247]])\n",
      "x tensor([[0.7000]]) yhat=  -1.7314115 y tensor([[-0.9272]])\n",
      "x tensor([[0.8000]]) yhat=  -2.179318 y tensor([[-1.3194]])\n",
      "x tensor([[0.9000]]) yhat=  -2.627224 y tensor([[-1.5735]])\n",
      "x tensor([[1.]]) yhat=  -3.0751305 y tensor([[-2.0152]])\n",
      "x tensor([[1.1000]]) yhat=  -3.523037 y tensor([[-2.2067]])\n",
      "x tensor([[1.2000]]) yhat=  -3.9709435 y tensor([[-2.4865]])\n",
      "x tensor([[1.3000]]) yhat=  -4.418849 y tensor([[-2.9808]])\n",
      "x tensor([[1.4000]]) yhat=  -4.8667555 y tensor([[-3.1466]])\n",
      "x tensor([[1.5000]]) yhat=  -5.314662 y tensor([[-3.6899]])\n",
      "x tensor([[1.6000]]) yhat=  -5.7625685 y tensor([[-3.9494]])\n",
      "x tensor([[1.7000]]) yhat=  -6.210475 y tensor([[-3.9883]])\n",
      "x tensor([[1.8000]]) yhat=  -6.6583805 y tensor([[-4.3105]])\n",
      "x tensor([[1.9000]]) yhat=  -7.106287 y tensor([[-4.7102]])\n",
      "x tensor([[2.]]) yhat=  -7.5541935 y tensor([[20.]])\n",
      "x tensor([[2.1000]]) yhat=  -8.002099 y tensor([[20.]])\n",
      "x tensor([[2.2000]]) yhat=  -8.4500065 y tensor([[20.]])\n",
      "x tensor([[2.3000]]) yhat=  -8.897912 y tensor([[20.]])\n",
      "x tensor([[2.4000]]) yhat=  -9.345819 y tensor([[20.]])\n",
      "x tensor([[2.5000]]) yhat=  -9.793725 y tensor([[-6.6079]])\n",
      "x tensor([[2.6000]]) yhat=  -10.241631 y tensor([[-6.6970]])\n",
      "x tensor([[2.7000]]) yhat=  -10.689538 y tensor([[-7.2539]])\n",
      "x tensor([[2.8000]]) yhat=  -11.137444 y tensor([[-7.2460]])\n",
      "x tensor([[2.9000]]) yhat=  -11.585351 y tensor([[-7.6708]])\n"
     ]
    }
   ],
   "source": [
    "for x, y in trainloader:\n",
    "    print(\"x\",x,\"yhat= \", MODELS[-1](x).detach().numpy()[0][0],\"y\", y)"
   ]
  },
  {
   "cell_type": "markdown",
   "metadata": {},
   "source": [
    "Double-click <b>here</b> for the solution.\n",
    "\n",
    "<!-- \n",
    "\n",
    "-->"
   ]
  },
  {
   "cell_type": "markdown",
   "metadata": {},
   "source": [
    "<!--Empty Space for separating topics-->"
   ]
  },
  {
   "cell_type": "markdown",
   "metadata": {},
   "source": [
    "<a href=\"http://cocl.us/pytorch_link_bottom\">\n",
    "    <img src=\"https://s3-api.us-geo.objectstorage.softlayer.net/cf-courses-data/CognitiveClass/DL0110EN/notebook_images%20/notebook_bottom%20.png\" width=\"750\" alt=\"PyTorch Bottom\" />\n",
    "</a>"
   ]
  },
  {
   "cell_type": "markdown",
   "metadata": {},
   "source": [
    "<h2>About the Authors:</h2> \n",
    "\n",
    "<a href=\"https://www.linkedin.com/in/joseph-s-50398b136/\">Joseph Santarcangelo</a> has a PhD in Electrical Engineering, his research focused on using machine learning, signal processing, and computer vision to determine how videos impact human cognition. Joseph has been working for IBM since he completed his PhD. "
   ]
  },
  {
   "cell_type": "markdown",
   "metadata": {},
   "source": [
    "Other contributors: <a href=\"https://www.linkedin.com/in/michelleccarey/\">Michelle Carey</a>, <a href=\"www.linkedin.com/in/jiahui-mavis-zhou-a4537814a\">Mavis Zhou</a>"
   ]
  },
  {
   "cell_type": "markdown",
   "metadata": {},
   "source": [
    "<hr>"
   ]
  },
  {
   "cell_type": "markdown",
   "metadata": {},
   "source": [
    "Copyright &copy; 2018 <a href=\"cognitiveclass.ai?utm_source=bducopyrightlink&utm_medium=dswb&utm_campaign=bdu\">cognitiveclass.ai</a>. This notebook and its source code are released under the terms of the <a href=\"https://bigdatauniversity.com/mit-license/\">MIT License</a>."
   ]
  }
 ],
 "metadata": {
  "kernelspec": {
   "display_name": "Python 3",
   "language": "python",
   "name": "python3"
  },
  "language_info": {
   "codemirror_mode": {
    "name": "ipython",
    "version": 3
   },
   "file_extension": ".py",
   "mimetype": "text/x-python",
   "name": "python",
   "nbconvert_exporter": "python",
   "pygments_lexer": "ipython3",
   "version": "3.7.3"
  },
  "toc": {
   "base_numbering": 1,
   "nav_menu": {},
   "number_sections": true,
   "sideBar": true,
   "skip_h1_title": false,
   "title_cell": "Table of Contents",
   "title_sidebar": "Contents",
   "toc_cell": false,
   "toc_position": {},
   "toc_section_display": true,
   "toc_window_display": false
  }
 },
 "nbformat": 4,
 "nbformat_minor": 2
}
