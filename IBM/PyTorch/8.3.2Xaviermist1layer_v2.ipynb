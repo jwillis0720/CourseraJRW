{
 "cells": [
  {
   "cell_type": "markdown",
   "metadata": {},
   "source": [
    "<a href=\"http://cocl.us/pytorch_link_top\">\n",
    "    <img src=\"https://s3-api.us-geo.objectstorage.softlayer.net/cf-courses-data/CognitiveClass/DL0110EN/notebook_images%20/Pytochtop.png\" width=\"750\" alt=\"IBM Product \" />\n",
    "</a> \n"
   ]
  },
  {
   "cell_type": "markdown",
   "metadata": {},
   "source": [
    "<img src=\"https://s3-api.us-geo.objectstorage.softlayer.net/cf-courses-data/CognitiveClass/DL0110EN/notebook_images%20/cc-logo-square.png\" width=\"200\" alt=\"cognitiveclass.ai logo\" />"
   ]
  },
  {
   "cell_type": "markdown",
   "metadata": {},
   "source": [
    "<h1>Test Uniform, Default and Xavier Uniform Initialization on MNIST dataset with tanh activation</h1>"
   ]
  },
  {
   "cell_type": "markdown",
   "metadata": {},
   "source": [
    "<h2>Table of Contents</h2>\n",
    "In this lab, you will test PyTroch Default Initialization, Xavier Initialization and Uniform Initialization on the MNIST dataset. \n",
    "\n",
    "<ul>\n",
    "    <li><a href=\"#Model\">Neural Network Module and Training Function</a></li>\n",
    "    <li><a href=\"#Make\">Make Some Data</a></li>\n",
    "    <li><a href=\"#Cost\">Define Several Neural Network, Criterion function, Optimizer</a></li>\n",
    "    <li><a href=\"#Train\">Test Uniform, Default and Xavier Initialization</a></li>\n",
    "    <li><a href=\"#Result\">Analyze Results</a></li>\n",
    "</ul>\n",
    "\n",
    "<p>Estimated Time Needed: <strong>25 min</strong></p>\n",
    "\n",
    "<hr>"
   ]
  },
  {
   "cell_type": "markdown",
   "metadata": {},
   "source": [
    "<h2>Preparation</h2>"
   ]
  },
  {
   "cell_type": "markdown",
   "metadata": {},
   "source": [
    "We'll need the following libraries:  "
   ]
  },
  {
   "cell_type": "code",
   "execution_count": 1,
   "metadata": {},
   "outputs": [
    {
     "data": {
      "text/plain": [
       "<torch._C.Generator at 0x105b51e90>"
      ]
     },
     "execution_count": 1,
     "metadata": {},
     "output_type": "execute_result"
    }
   ],
   "source": [
    "# Import the libraries we need to use in this lab\n",
    "\n",
    "# Using the following line code to install the torchvision library\n",
    "# !conda install -y torchvision\n",
    "\n",
    "import torch \n",
    "import torch.nn as nn\n",
    "import torchvision.transforms as transforms\n",
    "import torchvision.datasets as dsets\n",
    "import matplotlib.pylab as plt\n",
    "import numpy as np\n",
    "\n",
    "torch.manual_seed(0)"
   ]
  },
  {
   "cell_type": "markdown",
   "metadata": {},
   "source": [
    "<!--Empty Space for separating topics-->"
   ]
  },
  {
   "cell_type": "markdown",
   "metadata": {},
   "source": [
    "<h2 id=\"Model\">Neural Network Module and Training Function</h2> "
   ]
  },
  {
   "cell_type": "markdown",
   "metadata": {},
   "source": [
    "Define the neural network module or class with Xavier Initialization"
   ]
  },
  {
   "cell_type": "code",
   "execution_count": 2,
   "metadata": {},
   "outputs": [],
   "source": [
    "# Define the neural network with Xavier initialization\n",
    "\n",
    "class Net_Xavier(nn.Module):\n",
    "    \n",
    "    # Constructor\n",
    "    def __init__(self, Layers):\n",
    "        super(Net_Xavier, self).__init__()\n",
    "        self.hidden = nn.ModuleList()\n",
    "\n",
    "        for input_size, output_size in zip(Layers, Layers[1:]):\n",
    "            linear = nn.Linear(input_size, output_size)\n",
    "            torch.nn.init.xavier_uniform_(linear.weight)\n",
    "            self.hidden.append(linear)\n",
    "    \n",
    "    # Prediction\n",
    "    def forward(self, x):\n",
    "        L = len(self.hidden)\n",
    "        for (l, linear_transform) in zip(range(L), self.hidden):\n",
    "            if l < L - 1:\n",
    "                x = torch.tanh(linear_transform(x))\n",
    "            else:\n",
    "                x = linear_transform(x)\n",
    "        return x"
   ]
  },
  {
   "cell_type": "markdown",
   "metadata": {},
   "source": [
    "Define the neural network module with Uniform Initialization:"
   ]
  },
  {
   "cell_type": "code",
   "execution_count": 3,
   "metadata": {},
   "outputs": [],
   "source": [
    "# Define the neural network with Uniform initialization\n",
    "\n",
    "class Net_Uniform(nn.Module):\n",
    "    \n",
    "    # Constructor\n",
    "    def __init__(self, Layers):\n",
    "        super(Net_Uniform, self).__init__()\n",
    "        self.hidden = nn.ModuleList()\n",
    "\n",
    "        for input_size, output_size in zip(Layers, Layers[1:]):\n",
    "            linear = nn.Linear(input_size, output_size)\n",
    "            linear.weight.data.uniform_(0, 1)\n",
    "            self.hidden.append(linear)\n",
    "    \n",
    "    # Prediction\n",
    "    def forward(self, x):\n",
    "        L = len(self.hidden)\n",
    "        for (l, linear_transform) in zip(range(L), self.hidden):\n",
    "            if l < L - 1:\n",
    "                x = torch.tanh(linear_transform(x))\n",
    "            else:\n",
    "                x = linear_transform(x)\n",
    "        return x"
   ]
  },
  {
   "cell_type": "markdown",
   "metadata": {},
   "source": [
    "Define the neural network module with PyTroch Default Initialization"
   ]
  },
  {
   "cell_type": "code",
   "execution_count": 4,
   "metadata": {},
   "outputs": [],
   "source": [
    "# Define the neural network with Default initialization\n",
    "\n",
    "class Net(nn.Module):\n",
    "    \n",
    "    # Constructor\n",
    "    def __init__(self, Layers):\n",
    "        super(Net, self).__init__()\n",
    "        self.hidden = nn.ModuleList()\n",
    "\n",
    "        for input_size, output_size in zip(Layers, Layers[1:]):\n",
    "            linear = nn.Linear(input_size, output_size)\n",
    "            self.hidden.append(linear)\n",
    "    \n",
    "    # Prediction\n",
    "    def forward(self, x):\n",
    "        L = len(self.hidden)\n",
    "        for (l, linear_transform) in zip(range(L), self.hidden):\n",
    "            if l < L - 1:\n",
    "                x = torch.tanh(linear_transform(x))\n",
    "            else:\n",
    "                x = linear_transform(x)\n",
    "        return x"
   ]
  },
  {
   "cell_type": "markdown",
   "metadata": {},
   "source": [
    "Define a function to train the model, in this case the function returns a Python dictionary to store the training loss and accuracy on the validation data "
   ]
  },
  {
   "cell_type": "code",
   "execution_count": 13,
   "metadata": {},
   "outputs": [],
   "source": [
    "# function to Train the model\n",
    "\n",
    "def train(model, criterion, train_loader, validation_loader, optimizer, epochs = 100):\n",
    "    i = 0\n",
    "    loss_accuracy = {'training_loss':[], 'validation_accuracy':[]}  \n",
    "    \n",
    "    for epoch in range(epochs):\n",
    "        for i,(x, y) in enumerate(train_loader):\n",
    "            optimizer.zero_grad()\n",
    "            z = model(x.view(-1, 28 * 28))\n",
    "            loss = criterion(z, y)\n",
    "            loss.backward()\n",
    "            optimizer.step()\n",
    "            loss_accuracy['training_loss'].append(loss.data.item())\n",
    "            #print(model.weight)\n",
    "            break\n",
    "            \n",
    "        correct = 0\n",
    "        for x, y in validation_loader:\n",
    "            yhat = model(x.view(-1, 28 * 28))\n",
    "            _, label = torch.max(yhat, 1)\n",
    "            correct += (label==y).sum().item()\n",
    "        accuracy = 100 * (correct / len(validation_dataset))\n",
    "        loss_accuracy['validation_accuracy'].append(accuracy)\n",
    "        \n",
    "    return loss_accuracy"
   ]
  },
  {
   "cell_type": "markdown",
   "metadata": {},
   "source": [
    "<!--Empty Space for separating topics-->"
   ]
  },
  {
   "cell_type": "markdown",
   "metadata": {},
   "source": [
    "<h2 id=\"Makeup_Data\">Make Some Data</h2> "
   ]
  },
  {
   "cell_type": "markdown",
   "metadata": {},
   "source": [
    "Load the training dataset by setting the parameters <code>train </code> to <code>True</code> and convert it to a tensor  by placing a transform object int the argument <code>transform</code>"
   ]
  },
  {
   "cell_type": "code",
   "execution_count": 7,
   "metadata": {},
   "outputs": [],
   "source": [
    "# Create the train dataset\n",
    "\n",
    "train_dataset = dsets.MNIST(root='./data', train=True, download=True, transform=transforms.ToTensor())"
   ]
  },
  {
   "cell_type": "markdown",
   "metadata": {},
   "source": [
    "Load the testing dataset by setting the parameters <code>train</code> to <code>False</code> and convert it to a tensor  by placing a transform object int the argument <code>transform</code>"
   ]
  },
  {
   "cell_type": "code",
   "execution_count": 8,
   "metadata": {},
   "outputs": [],
   "source": [
    "# Create the validation dataset\n",
    "\n",
    "validation_dataset = dsets.MNIST(root='./data', train=False, download=True, transform=transforms.ToTensor())"
   ]
  },
  {
   "cell_type": "markdown",
   "metadata": {},
   "source": [
    "Create the training-data loader and the validation-data loader object "
   ]
  },
  {
   "cell_type": "code",
   "execution_count": 9,
   "metadata": {},
   "outputs": [],
   "source": [
    "# Create Dataloader for both train dataset and validation dataset\n",
    "\n",
    "train_loader = torch.utils.data.DataLoader(dataset=train_dataset, batch_size=2000, shuffle=True)\n",
    "validation_loader = torch.utils.data.DataLoader(dataset=validation_dataset, batch_size=5000, shuffle=False)"
   ]
  },
  {
   "cell_type": "markdown",
   "metadata": {},
   "source": [
    "<!--Empty Space for separating topics-->"
   ]
  },
  {
   "cell_type": "markdown",
   "metadata": {},
   "source": [
    "<h2 id=\"Cost\">Define Neural Network, Criterion function, Optimizer and Train the Model</h2> "
   ]
  },
  {
   "cell_type": "markdown",
   "metadata": {},
   "source": [
    "Create the criterion function"
   ]
  },
  {
   "cell_type": "code",
   "execution_count": 10,
   "metadata": {},
   "outputs": [],
   "source": [
    "# Define criterion function\n",
    "\n",
    "criterion = nn.CrossEntropyLoss()"
   ]
  },
  {
   "cell_type": "markdown",
   "metadata": {},
   "source": [
    "Create the model with 100 hidden layers  "
   ]
  },
  {
   "cell_type": "code",
   "execution_count": 11,
   "metadata": {},
   "outputs": [],
   "source": [
    "# Set the parameters\n",
    "\n",
    "input_dim = 28 * 28\n",
    "output_dim = 10\n",
    "layers = [input_dim, 100, 10, 100, 10, 100, output_dim]\n",
    "epochs = 15"
   ]
  },
  {
   "cell_type": "markdown",
   "metadata": {},
   "source": [
    "<!--Empty Space for separating topics-->"
   ]
  },
  {
   "cell_type": "markdown",
   "metadata": {},
   "source": [
    "<h2 id=\"Train\">Test PyTorch Default Initialization, Xavier Initialization, Uniform Initialization</h2> "
   ]
  },
  {
   "cell_type": "markdown",
   "metadata": {},
   "source": [
    "Train the network using PyTorch Default Initialization"
   ]
  },
  {
   "cell_type": "code",
   "execution_count": 41,
   "metadata": {},
   "outputs": [],
   "source": [
    "# Train the model with default initialization\n",
    "\n",
    "model = Net(layers)\n",
    "#model.model\n",
    "learning_rate = 0.01\n",
    "optimizer = torch.optim.SGD(model.parameters(), lr=learning_rate)\n",
    "training_results = train(model, criterion, train_loader, validation_loader, optimizer, epochs=epochs)"
   ]
  },
  {
   "cell_type": "code",
   "execution_count": 40,
   "metadata": {},
   "outputs": [
    {
     "data": {
      "text/plain": [
       "OrderedDict([('hidden.0.weight',\n",
       "              tensor([[-0.0239, -0.0008,  0.0352,  ..., -0.0203, -0.0266,  0.0103],\n",
       "                      [ 0.0020,  0.0209, -0.0221,  ..., -0.0117, -0.0310, -0.0234],\n",
       "                      [ 0.0103,  0.0306,  0.0199,  ..., -0.0187, -0.0189, -0.0225],\n",
       "                      ...,\n",
       "                      [ 0.0254, -0.0151, -0.0054,  ...,  0.0185, -0.0104, -0.0064],\n",
       "                      [-0.0236, -0.0341, -0.0148,  ...,  0.0271,  0.0248,  0.0346],\n",
       "                      [-0.0185,  0.0200, -0.0198,  ...,  0.0105, -0.0242,  0.0257]])),\n",
       "             ('hidden.0.bias',\n",
       "              tensor([ 0.0090,  0.0236, -0.0288, -0.0315,  0.0223, -0.0141,  0.0319,  0.0139,\n",
       "                       0.0106,  0.0108,  0.0179, -0.0284, -0.0162,  0.0185, -0.0269, -0.0113,\n",
       "                       0.0058,  0.0357, -0.0150,  0.0141,  0.0352, -0.0086,  0.0119,  0.0091,\n",
       "                       0.0295,  0.0151, -0.0119, -0.0329, -0.0171, -0.0144, -0.0343,  0.0088,\n",
       "                      -0.0169,  0.0278, -0.0091,  0.0028,  0.0291,  0.0094, -0.0235,  0.0218,\n",
       "                      -0.0253,  0.0301,  0.0315, -0.0087, -0.0105, -0.0063, -0.0280, -0.0029,\n",
       "                       0.0031,  0.0100, -0.0097, -0.0166,  0.0286,  0.0346, -0.0014, -0.0076,\n",
       "                      -0.0316,  0.0092, -0.0146,  0.0352,  0.0094, -0.0275, -0.0321,  0.0188,\n",
       "                      -0.0043, -0.0182,  0.0043,  0.0355, -0.0267, -0.0072, -0.0030, -0.0088,\n",
       "                       0.0199,  0.0145,  0.0184, -0.0025, -0.0303,  0.0138, -0.0245,  0.0340,\n",
       "                      -0.0329, -0.0345,  0.0121,  0.0231,  0.0016,  0.0083,  0.0189, -0.0129,\n",
       "                      -0.0062, -0.0143,  0.0029, -0.0246, -0.0077, -0.0072,  0.0260,  0.0191,\n",
       "                       0.0267,  0.0064, -0.0332, -0.0100])),\n",
       "             ('hidden.1.weight',\n",
       "              tensor([[ 0.0735, -0.0297, -0.0973,  0.0584, -0.0546, -0.0562,  0.0340, -0.0579,\n",
       "                        0.0847, -0.0884,  0.0315,  0.0486, -0.0161,  0.0191,  0.0804, -0.0865,\n",
       "                        0.0228,  0.0748, -0.0741,  0.0276, -0.0957,  0.0466,  0.0276,  0.0507,\n",
       "                       -0.0588, -0.0854,  0.0840, -0.0426, -0.0362, -0.0667,  0.0220, -0.0522,\n",
       "                        0.0723, -0.0391, -0.0922,  0.0701,  0.0425, -0.0667,  0.0554,  0.0411,\n",
       "                        0.0122, -0.0490, -0.0156,  0.0178, -0.0346,  0.0552, -0.0654, -0.0068,\n",
       "                        0.0890,  0.0806,  0.0348,  0.0076,  0.0875, -0.0009, -0.0298, -0.0378,\n",
       "                        0.0023, -0.0475,  0.0022, -0.0252,  0.0264, -0.0800, -0.0530,  0.0381,\n",
       "                       -0.0183, -0.0402, -0.0309,  0.0059,  0.0507, -0.0412, -0.0525,  0.0565,\n",
       "                        0.0960,  0.0430, -0.0918, -0.0317,  0.0978, -0.0468, -0.0299,  0.0966,\n",
       "                       -0.0578, -0.0637,  0.0380,  0.0514, -0.0561,  0.0073,  0.0542,  0.0664,\n",
       "                        0.0917,  0.0948, -0.0637,  0.0019,  0.0396,  0.0113,  0.0012,  0.0261,\n",
       "                       -0.0554, -0.0081, -0.0172,  0.0840],\n",
       "                      [ 0.0778,  0.0698,  0.0384, -0.0355, -0.0817,  0.0863,  0.0418,  0.0988,\n",
       "                       -0.0067,  0.0708, -0.0073,  0.0977,  0.0962, -0.0671, -0.0726, -0.0252,\n",
       "                        0.0997, -0.0806, -0.0875,  0.0850, -0.0984, -0.0151, -0.0460, -0.0247,\n",
       "                       -0.0875, -0.0475,  0.0774,  0.0169,  0.0162,  0.0074,  0.0243, -0.0140,\n",
       "                       -0.0545,  0.0496,  0.0631,  0.0455, -0.0412, -0.0081,  0.0243,  0.0530,\n",
       "                       -0.0944,  0.0627, -0.0801, -0.0996, -0.0747,  0.0508,  0.0678,  0.0881,\n",
       "                        0.0736,  0.0193, -0.0430, -0.0956,  0.0236,  0.0567, -0.0954, -0.0553,\n",
       "                       -0.0887, -0.0693, -0.0577, -0.0718, -0.0273,  0.0297, -0.0138,  0.0823,\n",
       "                        0.0602, -0.0551,  0.0564,  0.0849,  0.0547,  0.0731,  0.0062, -0.0324,\n",
       "                        0.0236, -0.0271, -0.0153,  0.0957, -0.0984, -0.0553,  0.0474, -0.0971,\n",
       "                        0.0898, -0.0838, -0.0462,  0.0157,  0.0844,  0.0534, -0.0022, -0.0005,\n",
       "                       -0.0417, -0.0944, -0.0081, -0.0635, -0.0157, -0.0911,  0.0296,  0.0208,\n",
       "                       -0.0031, -0.0322,  0.0611,  0.0188],\n",
       "                      [ 0.0554,  0.0110, -0.0974,  0.0549,  0.0535,  0.0856,  0.0093,  0.0734,\n",
       "                        0.0310,  0.0810, -0.0564,  0.0902, -0.0198,  0.0030, -0.0791,  0.0031,\n",
       "                       -0.0777,  0.0208,  0.0266,  0.0177,  0.0514, -0.0562,  0.0221,  0.0374,\n",
       "                       -0.0499,  0.0488, -0.0243, -0.0987, -0.0339, -0.0836, -0.0994,  0.0973,\n",
       "                        0.0176,  0.0101,  0.0218,  0.0259,  0.0423,  0.0618, -0.0861, -0.0354,\n",
       "                        0.0479, -0.0850, -0.0384,  0.0748, -0.0680, -0.0138, -0.0741, -0.0760,\n",
       "                        0.0356,  0.0467,  0.0826, -0.0434, -0.0839, -0.0586, -0.0180,  0.0050,\n",
       "                       -0.0453,  0.0390,  0.0409, -0.0522, -0.0870,  0.0280,  0.0683,  0.0751,\n",
       "                       -0.0952,  0.0244,  0.0004, -0.0975,  0.0013,  0.0366,  0.0993, -0.0890,\n",
       "                       -0.0009,  0.0540,  0.0116,  0.0480, -0.0588, -0.0839,  0.0275,  0.0474,\n",
       "                       -0.0064,  0.0932,  0.0930,  0.0546,  0.0548,  0.0323,  0.0038, -0.0735,\n",
       "                       -0.0073,  0.0719, -0.0780,  0.0175,  0.0613, -0.0721, -0.0715,  0.0997,\n",
       "                       -0.0063,  0.0361, -0.0947, -0.0686],\n",
       "                      [-0.0135, -0.0962,  0.0019,  0.0473,  0.0031, -0.0094,  0.0783, -0.0431,\n",
       "                        0.0072, -0.0899, -0.0985,  0.0983, -0.0039, -0.0075,  0.0914, -0.0210,\n",
       "                        0.0763, -0.0899,  0.0917,  0.0129, -0.0985, -0.0870, -0.0227, -0.0006,\n",
       "                       -0.0021,  0.0814,  0.0336,  0.0299,  0.0659, -0.0341,  0.0190, -0.0125,\n",
       "                        0.0273, -0.0863, -0.0593,  0.0210, -0.0472,  0.0540,  0.0798, -0.0071,\n",
       "                        0.0333,  0.0071, -0.0173,  0.0764,  0.0532,  0.0332, -0.0259, -0.0504,\n",
       "                        0.0394, -0.0068, -0.0123,  0.0957, -0.0431,  0.0340, -0.0977, -0.0166,\n",
       "                        0.0132,  0.0018,  0.0672,  0.0816, -0.0783,  0.0524,  0.0718,  0.0637,\n",
       "                        0.0493, -0.0514,  0.0596, -0.0034,  0.0738,  0.0455, -0.0414, -0.0363,\n",
       "                        0.0904,  0.0073,  0.0105,  0.0917,  0.0154, -0.0141, -0.0063, -0.0536,\n",
       "                        0.0868,  0.0708, -0.0944,  0.0819, -0.0712,  0.0350,  0.0717,  0.0210,\n",
       "                       -0.0483, -0.0239,  0.0126, -0.0917, -0.0639, -0.0844,  0.0430,  0.0634,\n",
       "                        0.0025,  0.0915,  0.0470, -0.0437],\n",
       "                      [-0.0529, -0.0470, -0.0609, -0.0096,  0.0220,  0.0336,  0.0033, -0.0501,\n",
       "                        0.0249,  0.0638, -0.0053,  0.0236,  0.0415, -0.0054,  0.0715,  0.0155,\n",
       "                        0.0020, -0.0071, -0.0083,  0.0963, -0.0547, -0.0599, -0.0810,  0.0938,\n",
       "                       -0.0378, -0.0099,  0.0938,  0.0055, -0.0020, -0.0299, -0.0198, -0.0243,\n",
       "                        0.0277, -0.0925, -0.0280, -0.0021, -0.0456, -0.0385,  0.0535,  0.0132,\n",
       "                       -0.0859,  0.0422, -0.0830,  0.0936,  0.0085, -0.0387,  0.0960, -0.0203,\n",
       "                        0.0816, -0.0729, -0.0601,  0.0094,  0.0045,  0.0366,  0.0919,  0.0629,\n",
       "                       -0.0075,  0.0114,  0.0296,  0.0901, -0.0101,  0.0096,  0.0372, -0.0316,\n",
       "                        0.0931,  0.0834,  0.0815,  0.0547, -0.0483,  0.0930,  0.0393,  0.0362,\n",
       "                       -0.0975,  0.0360, -0.0375, -0.0574, -0.0849,  0.0249,  0.0592, -0.0874,\n",
       "                       -0.0302,  0.0901,  0.0907, -0.0931,  0.0463,  0.0174, -0.0283,  0.0924,\n",
       "                       -0.0356,  0.0186,  0.0551, -0.0009,  0.0012, -0.0461,  0.0658, -0.0702,\n",
       "                        0.0502,  0.0279, -0.0539,  0.0304],\n",
       "                      [-0.0827, -0.0580, -0.0364, -0.0754, -0.0520, -0.0743, -0.0596, -0.0119,\n",
       "                        0.0329, -0.0076,  0.0388, -0.0969,  0.0544,  0.0683, -0.0088,  0.0717,\n",
       "                        0.0395, -0.0362,  0.0530,  0.0925, -0.0848, -0.0768,  0.0075, -0.0537,\n",
       "                       -0.0182,  0.0096, -0.0262, -0.0158, -0.0241,  0.0321, -0.0900,  0.0207,\n",
       "                        0.0951,  0.0069, -0.0774, -0.0403, -0.0479, -0.0043,  0.0191, -0.0340,\n",
       "                       -0.0040, -0.0383,  0.0483, -0.0518, -0.0796, -0.0305,  0.0185,  0.0386,\n",
       "                        0.0225, -0.0175, -0.0716, -0.0130, -0.0973, -0.0309, -0.0230, -0.0982,\n",
       "                        0.0131, -0.0557,  0.0826, -0.0559, -0.0003, -0.0604, -0.0031, -0.0045,\n",
       "                       -0.0037, -0.0537,  0.0738, -0.0275,  0.0372,  0.0515, -0.0221,  0.0802,\n",
       "                       -0.0450, -0.0625,  0.0957,  0.0888,  0.0911, -0.0946, -0.0626, -0.0516,\n",
       "                        0.0696, -0.0767,  0.0141,  0.0306,  0.0874,  0.0781,  0.0533, -0.0412,\n",
       "                        0.0729,  0.0846,  0.0333,  0.0465,  0.0905, -0.0411,  0.0348,  0.0097,\n",
       "                       -0.0059, -0.0176,  0.0950,  0.0431],\n",
       "                      [ 0.0939, -0.0300,  0.0774, -0.0142, -0.0603, -0.0359, -0.0601, -0.0232,\n",
       "                       -0.0545,  0.0309, -0.0789, -0.0242, -0.0732,  0.0757, -0.0469,  0.0780,\n",
       "                        0.0600, -0.0825, -0.0700,  0.0486, -0.0063,  0.0026,  0.0799, -0.0482,\n",
       "                       -0.0330,  0.0395,  0.0405,  0.0278,  0.0934,  0.0406,  0.0385,  0.0437,\n",
       "                        0.0785, -0.0026,  0.0397,  0.0274, -0.0430, -0.0312, -0.0599, -0.0792,\n",
       "                        0.0814,  0.0167, -0.0992,  0.0085,  0.0883, -0.0580, -0.0800, -0.0719,\n",
       "                       -0.0368,  0.0509,  0.0381,  0.0846,  0.0557, -0.0514, -0.0326,  0.0142,\n",
       "                        0.0845,  0.0778, -0.0644, -0.0647, -0.0017,  0.0539,  0.0377,  0.0156,\n",
       "                       -0.0922,  0.0717,  0.0992,  0.0140, -0.0219,  0.0653,  0.0261,  0.0845,\n",
       "                        0.0107, -0.0347,  0.0816,  0.0264,  0.0412, -0.0712, -0.0052,  0.0052,\n",
       "                        0.0596"
      ]
     },
     "execution_count": 40,
     "metadata": {},
     "output_type": "execute_result"
    },
    {
     "data": {
      "text/html": [
       "<b>limit_output extension: Maximum message size of 10000 exceeded with 68311 characters</b>"
      ]
     },
     "metadata": {},
     "output_type": "display_data"
    }
   ],
   "source": [
    "model.state_dict()"
   ]
  },
  {
   "cell_type": "markdown",
   "metadata": {},
   "source": [
    "Train the network using Xavier Initialization function"
   ]
  },
  {
   "cell_type": "code",
   "execution_count": 42,
   "metadata": {},
   "outputs": [],
   "source": [
    "# Train the model with Xavier initialization\n",
    "\n",
    "model_Xavier = Net_Xavier(layers)\n",
    "optimizer = torch.optim.SGD(model_Xavier.parameters(), lr=learning_rate)\n",
    "training_results_Xavier = train(model_Xavier, criterion, train_loader, validation_loader, optimizer, epochs=epochs)"
   ]
  },
  {
   "cell_type": "markdown",
   "metadata": {},
   "source": [
    "Train the network using Uniform Initialization"
   ]
  },
  {
   "cell_type": "code",
   "execution_count": 43,
   "metadata": {},
   "outputs": [],
   "source": [
    "# Train the model with Uniform initialization\n",
    "\n",
    "model_Uniform = Net_Uniform(layers)\n",
    "optimizer = torch.optim.SGD(model_Uniform.parameters(), lr=learning_rate)\n",
    "training_results_Uniform = train(model_Uniform, criterion, train_loader, validation_loader, optimizer, epochs=epochs)"
   ]
  },
  {
   "cell_type": "markdown",
   "metadata": {},
   "source": [
    "<!--Empty Space for separating topics-->"
   ]
  },
  {
   "cell_type": "markdown",
   "metadata": {},
   "source": [
    "<h2 id=\"Result\">Analyse Results</h2> "
   ]
  },
  {
   "cell_type": "markdown",
   "metadata": {},
   "source": [
    "Compare the training loss for each initialization"
   ]
  },
  {
   "cell_type": "code",
   "execution_count": 44,
   "metadata": {},
   "outputs": [
    {
     "data": {
      "text/plain": [
       "<matplotlib.legend.Legend at 0x12caa5e48>"
      ]
     },
     "execution_count": 44,
     "metadata": {},
     "output_type": "execute_result"
    },
    {
     "data": {
      "image/png": "[encoded data removed]",
      "text/plain": [
       "<Figure size 432x288 with 1 Axes>"
      ]
     },
     "metadata": {
      "needs_background": "light"
     },
     "output_type": "display_data"
    }
   ],
   "source": [
    "# Plot the loss\n",
    "\n",
    "plt.plot(training_results_Xavier['training_loss'], label='Xavier')\n",
    "plt.plot(training_results['training_loss'], label='Default')\n",
    "plt.plot(training_results_Uniform['training_loss'], label='Uniform')\n",
    "plt.ylabel('loss')\n",
    "plt.xlabel('iteration ')  \n",
    "plt.title('training loss iterations')\n",
    "plt.legend()"
   ]
  },
  {
   "cell_type": "markdown",
   "metadata": {},
   "source": [
    "compare the validation loss for each model  "
   ]
  },
  {
   "cell_type": "code",
   "execution_count": 45,
   "metadata": {},
   "outputs": [
    {
     "data": {
      "text/plain": [
       "<matplotlib.legend.Legend at 0x12c6332b0>"
      ]
     },
     "execution_count": 45,
     "metadata": {},
     "output_type": "execute_result"
    },
    {
     "data": {
      "image/png": "[encoded data removed]",
      "text/plain": [
       "<Figure size 432x288 with 1 Axes>"
      ]
     },
     "metadata": {
      "needs_background": "light"
     },
     "output_type": "display_data"
    }
   ],
   "source": [
    "# Plot the accuracy\n",
    "\n",
    "plt.plot(training_results_Xavier['validation_accuracy'], label='Xavier')\n",
    "plt.plot(training_results['validation_accuracy'], label='Default')\n",
    "plt.plot(training_results_Uniform['validation_accuracy'], label='Uniform') \n",
    "plt.ylabel('validation accuracy')\n",
    "plt.xlabel('epochs')   \n",
    "plt.legend()"
   ]
  },
  {
   "cell_type": "markdown",
   "metadata": {},
   "source": [
    "<!--Empty Space for separating topics-->"
   ]
  },
  {
   "cell_type": "markdown",
   "metadata": {},
   "source": [
    "<a href=\"http://cocl.us/pytorch_link_bottom\">\n",
    "    <img src=\"https://s3-api.us-geo.objectstorage.softlayer.net/cf-courses-data/CognitiveClass/DL0110EN/notebook_images%20/notebook_bottom%20.png\" width=\"750\" alt=\"PyTorch Bottom\" />\n",
    "</a>"
   ]
  },
  {
   "cell_type": "markdown",
   "metadata": {},
   "source": [
    "<h2>About the Authors:</h2> \n",
    "\n",
    "<a href=\"https://www.linkedin.com/in/joseph-s-50398b136/\">Joseph Santarcangelo</a> has a PhD in Electrical Engineering, his research focused on using machine learning, signal processing, and computer vision to determine how videos impact human cognition. Joseph has been working for IBM since he completed his PhD. "
   ]
  },
  {
   "cell_type": "markdown",
   "metadata": {},
   "source": [
    "Other contributors: <a href=\"https://www.linkedin.com/in/michelleccarey/\">Michelle Carey</a>, <a href=\"www.linkedin.com/in/jiahui-mavis-zhou-a4537814a\">Mavis Zhou</a>"
   ]
  },
  {
   "cell_type": "markdown",
   "metadata": {},
   "source": [
    "<hr>"
   ]
  },
  {
   "cell_type": "markdown",
   "metadata": {},
   "source": [
    "Copyright &copy; 2018 <a href=\"cognitiveclass.ai?utm_source=bducopyrightlink&utm_medium=dswb&utm_campaign=bdu\">cognitiveclass.ai</a>. This notebook and its source code are released under the terms of the <a href=\"https://bigdatauniversity.com/mit-license/\">MIT License</a>."
   ]
  }
 ],
 "metadata": {
  "kernelspec": {
   "display_name": "Python 3",
   "language": "python",
   "name": "python3"
  },
  "language_info": {
   "codemirror_mode": {
    "name": "ipython",
    "version": 3
   },
   "file_extension": ".py",
   "mimetype": "text/x-python",
   "name": "python",
   "nbconvert_exporter": "python",
   "pygments_lexer": "ipython3",
   "version": "3.7.3"
  },
  "toc": {
   "base_numbering": 1,
   "nav_menu": {},
   "number_sections": true,
   "sideBar": true,
   "skip_h1_title": false,
   "title_cell": "Table of Contents",
   "title_sidebar": "Contents",
   "toc_cell": false,
   "toc_position": {},
   "toc_section_display": true,
   "toc_window_display": false
  }
 },
 "nbformat": 4,
 "nbformat_minor": 2
}
