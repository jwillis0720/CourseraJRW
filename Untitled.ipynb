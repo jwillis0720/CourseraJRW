{
 "cells": [
  {
   "cell_type": "code",
   "execution_count": 4,
   "metadata": {
    "ExecuteTime": {
     "end_time": "2019-12-12T11:49:01.271135Z",
     "start_time": "2019-12-12T11:49:01.267690Z"
    }
   },
   "outputs": [],
   "source": [
    "d = {\n",
    "    'first':{\n",
    "        'key': 'A',\n",
    "        'val': 1\n",
    "    },\n",
    "    'second':{\n",
    "        'key': 'A',\n",
    "        'val': 2\n",
    "    },\n",
    "    'third':{\n",
    "        'key': 'B',\n",
    "        'val': 5\n",
    "    },\n",
    "    'fourth':{\n",
    "        'key': 'B',\n",
    "        'val': 7\n",
    "    }\n",
    "}"
   ]
  },
  {
   "cell_type": "code",
   "execution_count": 7,
   "metadata": {
    "ExecuteTime": {
     "end_time": "2019-12-12T11:49:49.875740Z",
     "start_time": "2019-12-12T11:49:49.871554Z"
    }
   },
   "outputs": [
    {
     "data": {
      "text/plain": [
       "['A', 'A', 'B', 'B']"
      ]
     },
     "execution_count": 7,
     "metadata": {},
     "output_type": "execute_result"
    }
   ],
   "source": [
    "[d[x]['key'] for x in d]"
   ]
  },
  {
   "cell_type": "code",
   "execution_count": null,
   "metadata": {},
   "outputs": [],
   "source": []
  }
 ],
 "metadata": {
  "kernelspec": {
   "display_name": "Python 3",
   "language": "python",
   "name": "python3"
  },
  "language_info": {
   "codemirror_mode": {
    "name": "ipython",
    "version": 3
   },
   "file_extension": ".py",
   "mimetype": "text/x-python",
   "name": "python",
   "nbconvert_exporter": "python",
   "pygments_lexer": "ipython3",
   "version": "3.7.3"
  },
  "toc": {
   "base_numbering": 1,
   "nav_menu": {},
   "number_sections": true,
   "sideBar": true,
   "skip_h1_title": false,
   "title_cell": "Table of Contents",
   "title_sidebar": "Contents",
   "toc_cell": false,
   "toc_position": {},
   "toc_section_display": true,
   "toc_window_display": false
  }
 },
 "nbformat": 4,
 "nbformat_minor": 2
}
