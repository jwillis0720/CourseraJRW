{
 "cells": [
  {
   "cell_type": "markdown",
   "metadata": {
    "collapsed": true
   },
   "source": [
    "Welcome to exercise three of “Apache Spark for Scalable Machine Learning on BigData”. In this exercise you’ll create a DataFrame, register a temporary query table and issue SQL commands against it. \n",
    "\n",
    "Let’s create a little data frame:"
   ]
  },
  {
   "cell_type": "markdown",
   "metadata": {
    "ExecuteTime": {
     "end_time": "2019-12-10T07:06:45.684435Z",
     "start_time": "2019-12-10T07:06:45.675924Z"
    }
   },
   "source": [
    "%%writefile my_csv_file.csv\n",
    "Stat.Suffix,Article Description, Unit of Quantity ,ID\n",
    ",Travel clocks,      9105.29.30\n",
    "10,Movement    No.,9105.99.40\n",
    "20,Case,   No., 9105.11.10\n",
    "    Other clocks:,       \n",
    "30,Movement    No. \n",
    "40,Case    No. "
   ]
  },
  {
   "cell_type": "code",
   "execution_count": 5,
   "metadata": {
    "ExecuteTime": {
     "end_time": "2019-12-10T07:10:58.766972Z",
     "start_time": "2019-12-10T07:10:58.756881Z"
    }
   },
   "outputs": [
    {
     "data": {
      "text/html": [
       "<div>\n",
       "<style scoped>\n",
       "    .dataframe tbody tr th:only-of-type {\n",
       "        vertical-align: middle;\n",
       "    }\n",
       "\n",
       "    .dataframe tbody tr th {\n",
       "        vertical-align: top;\n",
       "    }\n",
       "\n",
       "    .dataframe thead th {\n",
       "        text-align: right;\n",
       "    }\n",
       "</style>\n",
       "<table border=\"1\" class=\"dataframe\">\n",
       "  <thead>\n",
       "    <tr style=\"text-align: right;\">\n",
       "      <th></th>\n",
       "      <th>Stat.Suffix</th>\n",
       "      <th>Article Description</th>\n",
       "      <th>Unit of Quantity</th>\n",
       "      <th>ID</th>\n",
       "    </tr>\n",
       "  </thead>\n",
       "  <tbody>\n",
       "    <tr>\n",
       "      <th>0</th>\n",
       "      <td>NaN</td>\n",
       "      <td>Travel clocks</td>\n",
       "      <td>NaN</td>\n",
       "      <td>9105.29.30</td>\n",
       "    </tr>\n",
       "    <tr>\n",
       "      <th>1</th>\n",
       "      <td>10.0</td>\n",
       "      <td>Movement</td>\n",
       "      <td>No.</td>\n",
       "      <td>9105.99.40</td>\n",
       "    </tr>\n",
       "    <tr>\n",
       "      <th>2</th>\n",
       "      <td>20.0</td>\n",
       "      <td>Case</td>\n",
       "      <td>No.</td>\n",
       "      <td>9105.11.10</td>\n",
       "    </tr>\n",
       "    <tr>\n",
       "      <th>3</th>\n",
       "      <td>NaN</td>\n",
       "      <td>Other clocks:</td>\n",
       "      <td>NaN</td>\n",
       "      <td>NaN</td>\n",
       "    </tr>\n",
       "    <tr>\n",
       "      <th>4</th>\n",
       "      <td>30.0</td>\n",
       "      <td>Movement</td>\n",
       "      <td>No.</td>\n",
       "      <td>NaN</td>\n",
       "    </tr>\n",
       "    <tr>\n",
       "      <th>5</th>\n",
       "      <td>40.0</td>\n",
       "      <td>Case</td>\n",
       "      <td>No.</td>\n",
       "      <td>NaN</td>\n",
       "    </tr>\n",
       "  </tbody>\n",
       "</table>\n",
       "</div>"
      ],
      "text/plain": [
       "   Stat.Suffix Article Description Unit of Quantity          ID\n",
       "0          NaN       Travel clocks              NaN  9105.29.30\n",
       "1         10.0            Movement              No.  9105.99.40\n",
       "2         20.0                Case              No.  9105.11.10\n",
       "3          NaN       Other clocks:              NaN         NaN\n",
       "4         30.0            Movement              No.         NaN\n",
       "5         40.0                Case              No.         NaN"
      ]
     },
     "execution_count": 5,
     "metadata": {},
     "output_type": "execute_result"
    }
   ],
   "source": []
  },
  {
   "cell_type": "code",
   "execution_count": 36,
   "metadata": {
    "ExecuteTime": {
     "end_time": "2019-12-10T07:21:34.666220Z",
     "start_time": "2019-12-10T07:21:34.639405Z"
    }
   },
   "outputs": [
    {
     "data": {
      "text/html": [
       "<div>\n",
       "<style scoped>\n",
       "    .dataframe tbody tr th:only-of-type {\n",
       "        vertical-align: middle;\n",
       "    }\n",
       "\n",
       "    .dataframe tbody tr th {\n",
       "        vertical-align: top;\n",
       "    }\n",
       "\n",
       "    .dataframe thead th {\n",
       "        text-align: right;\n",
       "    }\n",
       "</style>\n",
       "<table border=\"1\" class=\"dataframe\">\n",
       "  <thead>\n",
       "    <tr style=\"text-align: right;\">\n",
       "      <th></th>\n",
       "      <th>Stat.Suffix</th>\n",
       "      <th>Article Description</th>\n",
       "      <th>Unit of Quantity</th>\n",
       "    </tr>\n",
       "  </thead>\n",
       "  <tbody>\n",
       "    <tr>\n",
       "      <th>0</th>\n",
       "      <td>NaN</td>\n",
       "      <td>Travel clocks</td>\n",
       "      <td>NaN</td>\n",
       "    </tr>\n",
       "    <tr>\n",
       "      <th>1</th>\n",
       "      <td>10.0.9105.11.10</td>\n",
       "      <td>Movement</td>\n",
       "      <td>No.</td>\n",
       "    </tr>\n",
       "    <tr>\n",
       "      <th>2</th>\n",
       "      <td>20.0.9105.11.10</td>\n",
       "      <td>Case</td>\n",
       "      <td>No.</td>\n",
       "    </tr>\n",
       "    <tr>\n",
       "      <th>3</th>\n",
       "      <td>NaN</td>\n",
       "      <td>Other clocks:</td>\n",
       "      <td>NaN</td>\n",
       "    </tr>\n",
       "    <tr>\n",
       "      <th>4</th>\n",
       "      <td>30.0.9105.11.10</td>\n",
       "      <td>Movement</td>\n",
       "      <td>No.</td>\n",
       "    </tr>\n",
       "    <tr>\n",
       "      <th>5</th>\n",
       "      <td>40.0.9105.11.10</td>\n",
       "      <td>Case</td>\n",
       "      <td>No.</td>\n",
       "    </tr>\n",
       "    <tr>\n",
       "      <th>6</th>\n",
       "      <td>NaN</td>\n",
       "      <td>Travel clocks</td>\n",
       "      <td>NaN</td>\n",
       "    </tr>\n",
       "    <tr>\n",
       "      <th>7</th>\n",
       "      <td>10.0.9105.99.40</td>\n",
       "      <td>Movement</td>\n",
       "      <td>No.</td>\n",
       "    </tr>\n",
       "    <tr>\n",
       "      <th>8</th>\n",
       "      <td>20.0.9105.99.40</td>\n",
       "      <td>Case</td>\n",
       "      <td>No.</td>\n",
       "    </tr>\n",
       "    <tr>\n",
       "      <th>9</th>\n",
       "      <td>NaN</td>\n",
       "      <td>Other clocks:</td>\n",
       "      <td>NaN</td>\n",
       "    </tr>\n",
       "    <tr>\n",
       "      <th>10</th>\n",
       "      <td>30.0.9105.99.40</td>\n",
       "      <td>Movement</td>\n",
       "      <td>No.</td>\n",
       "    </tr>\n",
       "    <tr>\n",
       "      <th>11</th>\n",
       "      <td>40.0.9105.99.40</td>\n",
       "      <td>Case</td>\n",
       "      <td>No.</td>\n",
       "    </tr>\n",
       "    <tr>\n",
       "      <th>12</th>\n",
       "      <td>NaN</td>\n",
       "      <td>Travel clocks</td>\n",
       "      <td>NaN</td>\n",
       "    </tr>\n",
       "    <tr>\n",
       "      <th>13</th>\n",
       "      <td>10.0.9105.29.30</td>\n",
       "      <td>Movement</td>\n",
       "      <td>No.</td>\n",
       "    </tr>\n",
       "    <tr>\n",
       "      <th>14</th>\n",
       "      <td>20.0.9105.29.30</td>\n",
       "      <td>Case</td>\n",
       "      <td>No.</td>\n",
       "    </tr>\n",
       "    <tr>\n",
       "      <th>15</th>\n",
       "      <td>NaN</td>\n",
       "      <td>Other clocks:</td>\n",
       "      <td>NaN</td>\n",
       "    </tr>\n",
       "    <tr>\n",
       "      <th>16</th>\n",
       "      <td>30.0.9105.29.30</td>\n",
       "      <td>Movement</td>\n",
       "      <td>No.</td>\n",
       "    </tr>\n",
       "    <tr>\n",
       "      <th>17</th>\n",
       "      <td>40.0.9105.29.30</td>\n",
       "      <td>Case</td>\n",
       "      <td>No.</td>\n",
       "    </tr>\n",
       "  </tbody>\n",
       "</table>\n",
       "</div>"
      ],
      "text/plain": [
       "        Stat.Suffix Article Description Unit of Quantity\n",
       "0               NaN       Travel clocks              NaN\n",
       "1   10.0.9105.11.10            Movement              No.\n",
       "2   20.0.9105.11.10                Case              No.\n",
       "3               NaN       Other clocks:              NaN\n",
       "4   30.0.9105.11.10            Movement              No.\n",
       "5   40.0.9105.11.10                Case              No.\n",
       "6               NaN       Travel clocks              NaN\n",
       "7   10.0.9105.99.40            Movement              No.\n",
       "8   20.0.9105.99.40                Case              No.\n",
       "9               NaN       Other clocks:              NaN\n",
       "10  30.0.9105.99.40            Movement              No.\n",
       "11  40.0.9105.99.40                Case              No.\n",
       "12              NaN       Travel clocks              NaN\n",
       "13  10.0.9105.29.30            Movement              No.\n",
       "14  20.0.9105.29.30                Case              No.\n",
       "15              NaN       Other clocks:              NaN\n",
       "16  30.0.9105.29.30            Movement              No.\n",
       "17  40.0.9105.29.30                Case              No."
      ]
     },
     "execution_count": 36,
     "metadata": {},
     "output_type": "execute_result"
    }
   ],
   "source": [
    "import pandas\n",
    "\n",
    "my_data_frame = pandas.read_csv('/Users/jordanwillis/Book1.csv')\n",
    "\n",
    "#get all ids\n",
    "ids = list(my_data_frame[~my_data_frame['ID'].isna()]['ID'])\n",
    "\n",
    "#have your dataframe with ID removed\n",
    "my_data_frame = my_data_frame.drop('ID',axis=1)\n",
    "\n",
    "merged_df = []\n",
    "for i in ids:\n",
    "    #copy your dataframe\n",
    "    tmp_df = my_data_frame.copy()\n",
    "    stats_df = tmp_df.loc[~tmp_df['Stat.Suffix'].isna()]\n",
    "    \n",
    "    stats_df['Stat.Suffix'] = .apply(lambda x: str(''))\n",
    "    for index,row in my_data_frame.loc[~my_data_frame['Stat.Suffix'].isna()].iterrows():\n",
    "        tmp_df.loc[index,'Stat.Suffix'] = str(row['Stat.Suffix']) +'.' + str(i)\n",
    "    merged_df.append(tmp_df)\n",
    "my_df = pandas.concat(merged_df[::-1]).reset_index(drop=True)\n",
    "my_df"
   ]
  },
  {
   "cell_type": "code",
   "execution_count": 31,
   "metadata": {
    "ExecuteTime": {
     "end_time": "2019-12-10T07:15:51.131058Z",
     "start_time": "2019-12-10T07:15:51.122998Z"
    }
   },
   "outputs": [
    {
     "data": {
      "text/html": [
       "<div>\n",
       "<style scoped>\n",
       "    .dataframe tbody tr th:only-of-type {\n",
       "        vertical-align: middle;\n",
       "    }\n",
       "\n",
       "    .dataframe tbody tr th {\n",
       "        vertical-align: top;\n",
       "    }\n",
       "\n",
       "    .dataframe thead th {\n",
       "        text-align: right;\n",
       "    }\n",
       "</style>\n",
       "<table border=\"1\" class=\"dataframe\">\n",
       "  <thead>\n",
       "    <tr style=\"text-align: right;\">\n",
       "      <th></th>\n",
       "      <th>Stat.Suffix</th>\n",
       "      <th>Article Description</th>\n",
       "      <th>Unit of Quantity</th>\n",
       "    </tr>\n",
       "  </thead>\n",
       "  <tbody>\n",
       "    <tr>\n",
       "      <th>0</th>\n",
       "      <td>NaN</td>\n",
       "      <td>Travel clocks</td>\n",
       "      <td>NaN</td>\n",
       "    </tr>\n",
       "    <tr>\n",
       "      <th>1</th>\n",
       "      <td>10.0.9105.11.10</td>\n",
       "      <td>Movement</td>\n",
       "      <td>No.</td>\n",
       "    </tr>\n",
       "    <tr>\n",
       "      <th>2</th>\n",
       "      <td>20.0.9105.11.10</td>\n",
       "      <td>Case</td>\n",
       "      <td>No.</td>\n",
       "    </tr>\n",
       "    <tr>\n",
       "      <th>3</th>\n",
       "      <td>NaN</td>\n",
       "      <td>Other clocks:</td>\n",
       "      <td>NaN</td>\n",
       "    </tr>\n",
       "    <tr>\n",
       "      <th>4</th>\n",
       "      <td>30.0.9105.11.10</td>\n",
       "      <td>Movement</td>\n",
       "      <td>No.</td>\n",
       "    </tr>\n",
       "    <tr>\n",
       "      <th>5</th>\n",
       "      <td>40.0.9105.11.10</td>\n",
       "      <td>Case</td>\n",
       "      <td>No.</td>\n",
       "    </tr>\n",
       "    <tr>\n",
       "      <th>0</th>\n",
       "      <td>NaN</td>\n",
       "      <td>Travel clocks</td>\n",
       "      <td>NaN</td>\n",
       "    </tr>\n",
       "    <tr>\n",
       "      <th>1</th>\n",
       "      <td>10.0.9105.99.40</td>\n",
       "      <td>Movement</td>\n",
       "      <td>No.</td>\n",
       "    </tr>\n",
       "    <tr>\n",
       "      <th>2</th>\n",
       "      <td>20.0.9105.99.40</td>\n",
       "      <td>Case</td>\n",
       "      <td>No.</td>\n",
       "    </tr>\n",
       "    <tr>\n",
       "      <th>3</th>\n",
       "      <td>NaN</td>\n",
       "      <td>Other clocks:</td>\n",
       "      <td>NaN</td>\n",
       "    </tr>\n",
       "    <tr>\n",
       "      <th>4</th>\n",
       "      <td>30.0.9105.99.40</td>\n",
       "      <td>Movement</td>\n",
       "      <td>No.</td>\n",
       "    </tr>\n",
       "    <tr>\n",
       "      <th>5</th>\n",
       "      <td>40.0.9105.99.40</td>\n",
       "      <td>Case</td>\n",
       "      <td>No.</td>\n",
       "    </tr>\n",
       "    <tr>\n",
       "      <th>0</th>\n",
       "      <td>NaN</td>\n",
       "      <td>Travel clocks</td>\n",
       "      <td>NaN</td>\n",
       "    </tr>\n",
       "    <tr>\n",
       "      <th>1</th>\n",
       "      <td>10.0.9105.29.30</td>\n",
       "      <td>Movement</td>\n",
       "      <td>No.</td>\n",
       "    </tr>\n",
       "    <tr>\n",
       "      <th>2</th>\n",
       "      <td>20.0.9105.29.30</td>\n",
       "      <td>Case</td>\n",
       "      <td>No.</td>\n",
       "    </tr>\n",
       "    <tr>\n",
       "      <th>3</th>\n",
       "      <td>NaN</td>\n",
       "      <td>Other clocks:</td>\n",
       "      <td>NaN</td>\n",
       "    </tr>\n",
       "    <tr>\n",
       "      <th>4</th>\n",
       "      <td>30.0.9105.29.30</td>\n",
       "      <td>Movement</td>\n",
       "      <td>No.</td>\n",
       "    </tr>\n",
       "    <tr>\n",
       "      <th>5</th>\n",
       "      <td>40.0.9105.29.30</td>\n",
       "      <td>Case</td>\n",
       "      <td>No.</td>\n",
       "    </tr>\n",
       "  </tbody>\n",
       "</table>\n",
       "</div>"
      ],
      "text/plain": [
       "       Stat.Suffix Article Description Unit of Quantity\n",
       "0              NaN       Travel clocks              NaN\n",
       "1  10.0.9105.11.10            Movement              No.\n",
       "2  20.0.9105.11.10                Case              No.\n",
       "3              NaN       Other clocks:              NaN\n",
       "4  30.0.9105.11.10            Movement              No.\n",
       "5  40.0.9105.11.10                Case              No.\n",
       "0              NaN       Travel clocks              NaN\n",
       "1  10.0.9105.99.40            Movement              No.\n",
       "2  20.0.9105.99.40                Case              No.\n",
       "3              NaN       Other clocks:              NaN\n",
       "4  30.0.9105.99.40            Movement              No.\n",
       "5  40.0.9105.99.40                Case              No.\n",
       "0              NaN       Travel clocks              NaN\n",
       "1  10.0.9105.29.30            Movement              No.\n",
       "2  20.0.9105.29.30                Case              No.\n",
       "3              NaN       Other clocks:              NaN\n",
       "4  30.0.9105.29.30            Movement              No.\n",
       "5  40.0.9105.29.30                Case              No."
      ]
     },
     "execution_count": 31,
     "metadata": {},
     "output_type": "execute_result"
    }
   ],
   "source": []
  },
  {
   "cell_type": "code",
   "execution_count": 13,
   "metadata": {
    "ExecuteTime": {
     "end_time": "2019-12-10T07:12:47.347058Z",
     "start_time": "2019-12-10T07:12:47.335471Z"
    }
   },
   "outputs": [
    {
     "data": {
      "text/html": [
       "<div>\n",
       "<style scoped>\n",
       "    .dataframe tbody tr th:only-of-type {\n",
       "        vertical-align: middle;\n",
       "    }\n",
       "\n",
       "    .dataframe tbody tr th {\n",
       "        vertical-align: top;\n",
       "    }\n",
       "\n",
       "    .dataframe thead th {\n",
       "        text-align: right;\n",
       "    }\n",
       "</style>\n",
       "<table border=\"1\" class=\"dataframe\">\n",
       "  <thead>\n",
       "    <tr style=\"text-align: right;\">\n",
       "      <th></th>\n",
       "      <th>Stat.Suffix</th>\n",
       "      <th>Article Description</th>\n",
       "      <th>Unit of Quantity</th>\n",
       "      <th>(1, Stat.Suffix)</th>\n",
       "      <th>(2, Stat.Suffix)</th>\n",
       "      <th>(4, Stat.Suffix)</th>\n",
       "      <th>(5, Stat.Suffix)</th>\n",
       "    </tr>\n",
       "  </thead>\n",
       "  <tbody>\n",
       "    <tr>\n",
       "      <th>1</th>\n",
       "      <td>10.0</td>\n",
       "      <td>Movement</td>\n",
       "      <td>No.</td>\n",
       "      <td>10.0.9105.11.10</td>\n",
       "      <td>20.0.9105.11.10</td>\n",
       "      <td>30.0.9105.11.10</td>\n",
       "      <td>40.0.9105.11.10</td>\n",
       "    </tr>\n",
       "    <tr>\n",
       "      <th>2</th>\n",
       "      <td>20.0</td>\n",
       "      <td>Case</td>\n",
       "      <td>No.</td>\n",
       "      <td>10.0.9105.11.10</td>\n",
       "      <td>20.0.9105.11.10</td>\n",
       "      <td>30.0.9105.11.10</td>\n",
       "      <td>40.0.9105.11.10</td>\n",
       "    </tr>\n",
       "    <tr>\n",
       "      <th>4</th>\n",
       "      <td>30.0</td>\n",
       "      <td>Movement</td>\n",
       "      <td>No.</td>\n",
       "      <td>10.0.9105.11.10</td>\n",
       "      <td>20.0.9105.11.10</td>\n",
       "      <td>30.0.9105.11.10</td>\n",
       "      <td>40.0.9105.11.10</td>\n",
       "    </tr>\n",
       "    <tr>\n",
       "      <th>5</th>\n",
       "      <td>40.0</td>\n",
       "      <td>Case</td>\n",
       "      <td>No.</td>\n",
       "      <td>10.0.9105.11.10</td>\n",
       "      <td>20.0.9105.11.10</td>\n",
       "      <td>30.0.9105.11.10</td>\n",
       "      <td>40.0.9105.11.10</td>\n",
       "    </tr>\n",
       "  </tbody>\n",
       "</table>\n",
       "</div>"
      ],
      "text/plain": [
       "   Stat.Suffix Article Description Unit of Quantity (1, Stat.Suffix)  \\\n",
       "1         10.0            Movement              No.  10.0.9105.11.10   \n",
       "2         20.0                Case              No.  10.0.9105.11.10   \n",
       "4         30.0            Movement              No.  10.0.9105.11.10   \n",
       "5         40.0                Case              No.  10.0.9105.11.10   \n",
       "\n",
       "  (2, Stat.Suffix) (4, Stat.Suffix) (5, Stat.Suffix)  \n",
       "1  20.0.9105.11.10  30.0.9105.11.10  40.0.9105.11.10  \n",
       "2  20.0.9105.11.10  30.0.9105.11.10  40.0.9105.11.10  \n",
       "4  20.0.9105.11.10  30.0.9105.11.10  40.0.9105.11.10  \n",
       "5  20.0.9105.11.10  30.0.9105.11.10  40.0.9105.11.10  "
      ]
     },
     "execution_count": 13,
     "metadata": {},
     "output_type": "execute_result"
    }
   ],
   "source": [
    "my_data_frame.loc[~my_data_frame['Stat.Suffix'].isna()]"
   ]
  },
  {
   "cell_type": "code",
   "execution_count": 1,
   "metadata": {
    "ExecuteTime": {
     "end_time": "2019-12-07T03:23:52.865591Z",
     "start_time": "2019-12-07T03:23:49.942318Z"
    }
   },
   "outputs": [],
   "source": [
    "from pyspark import SparkConf\n",
    "from pyspark import SparkContext\n",
    "\n",
    "conf = SparkConf()\n",
    "\n",
    "sc = SparkContext(conf=conf)\n",
    "from pyspark.sql import Row\n",
    "from pyspark.sql import SparkSession\n",
    "\n",
    "spark = SparkSession(sc)\n",
    "\n",
    "    \n"
   ]
  },
  {
   "cell_type": "code",
   "execution_count": null,
   "metadata": {
    "ExecuteTime": {
     "end_time": "2019-12-07T03:22:18.483803Z",
     "start_time": "2019-12-07T03:22:18.334485Z"
    }
   },
   "outputs": [],
   "source": [
    "spark.createDataFrame"
   ]
  },
  {
   "cell_type": "code",
   "execution_count": 2,
   "metadata": {
    "ExecuteTime": {
     "end_time": "2019-12-07T03:24:09.179395Z",
     "start_time": "2019-12-07T03:24:04.451405Z"
    }
   },
   "outputs": [
    {
     "name": "stdout",
     "output_type": "stream",
     "text": [
      "+---+------+\n",
      "| id| value|\n",
      "+---+------+\n",
      "|  1|value1|\n",
      "|  2|value2|\n",
      "+---+------+\n",
      "\n",
      "root\n",
      " |-- id: long (nullable = true)\n",
      " |-- value: string (nullable = true)\n",
      "\n"
     ]
    }
   ],
   "source": [
    "df = spark.createDataFrame([Row(id=1, value='value1'),Row(id=2, value='value2')])\n",
    "\n",
    "# let's have a look what's inside\n",
    "df.show()\n",
    "\n",
    "# let's print the schema\n",
    "df.printSchema()"
   ]
  },
  {
   "cell_type": "markdown",
   "metadata": {},
   "source": [
    "Now we register this DataFrame as query table and issue an SQL statement against it. Please note that the result of the SQL execution returns a new DataFrame we can work with."
   ]
  },
  {
   "cell_type": "code",
   "execution_count": 4,
   "metadata": {
    "ExecuteTime": {
     "end_time": "2019-12-07T03:24:51.675162Z",
     "start_time": "2019-12-07T03:24:51.408204Z"
    }
   },
   "outputs": [
    {
     "name": "stdout",
     "output_type": "stream",
     "text": [
      "+------+\n",
      "| value|\n",
      "+------+\n",
      "|value2|\n",
      "+------+\n",
      "\n"
     ]
    },
    {
     "data": {
      "text/plain": [
       "'value2'"
      ]
     },
     "execution_count": 4,
     "metadata": {},
     "output_type": "execute_result"
    }
   ],
   "source": [
    "# register dataframe as query table\n",
    "df.createOrReplaceTempView('df_view')\n",
    "\n",
    "# execute SQL query\n",
    "df_result = spark.sql('select value from df_view where id=2')\n",
    "\n",
    "# examine contents of result\n",
    "df_result.show()\n",
    "\n",
    "# get result as string\n",
    "df_result.first().value"
   ]
  },
  {
   "cell_type": "markdown",
   "metadata": {},
   "source": [
    "Although we’ll learn more about DataFrames next week, please try to find a way to count the rows in this DataFrame by looking at the API documentation. No worries, we’ll cover DataFrames in more detail next week.\n",
    "\n",
    "https://spark.apache.org/docs/latest/api/python/pyspark.sql.html#pyspark.sql.DataFrame"
   ]
  },
  {
   "cell_type": "code",
   "execution_count": 5,
   "metadata": {
    "ExecuteTime": {
     "end_time": "2019-12-07T03:25:41.823601Z",
     "start_time": "2019-12-07T03:25:41.427165Z"
    }
   },
   "outputs": [
    {
     "data": {
      "text/plain": [
       "2"
      ]
     },
     "execution_count": 5,
     "metadata": {},
     "output_type": "execute_result"
    }
   ],
   "source": [
    "df.count()"
   ]
  },
  {
   "cell_type": "code",
   "execution_count": null,
   "metadata": {},
   "outputs": [],
   "source": []
  }
 ],
 "metadata": {
  "kernelspec": {
   "display_name": "Python 3",
   "language": "python",
   "name": "python3"
  },
  "language_info": {
   "codemirror_mode": {
    "name": "ipython",
    "version": 3
   },
   "file_extension": ".py",
   "mimetype": "text/x-python",
   "name": "python",
   "nbconvert_exporter": "python",
   "pygments_lexer": "ipython3",
   "version": "3.7.3"
  },
  "toc": {
   "base_numbering": 1,
   "nav_menu": {},
   "number_sections": true,
   "sideBar": true,
   "skip_h1_title": false,
   "title_cell": "Table of Contents",
   "title_sidebar": "Contents",
   "toc_cell": false,
   "toc_position": {},
   "toc_section_display": true,
   "toc_window_display": false
  }
 },
 "nbformat": 4,
 "nbformat_minor": 1
}
