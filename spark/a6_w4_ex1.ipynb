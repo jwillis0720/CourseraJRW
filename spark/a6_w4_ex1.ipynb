{
 "cells": [
  {
   "cell_type": "markdown",
   "metadata": {},
   "source": [
    "Welcome to exercise one of week four of “Apache Spark for Scalable Machine Learning on BigData”. In this exercise we’ll work on classification.\n",
    "\n",
    "Let’s create our DataFrame again:\n"
   ]
  },
  {
   "cell_type": "code",
   "execution_count": 1,
   "metadata": {},
   "outputs": [],
   "source": [
    "from pyspark import SparkConf\n",
    "from pyspark import SparkContext\n",
    "\n",
    "conf = SparkConf()\n",
    "\n",
    "sc = SparkContext(conf=conf)\n",
    "from pyspark.sql import Row\n",
    "from pyspark.sql import SparkSession\n",
    "\n",
    "spark = SparkSession(sc)"
   ]
  },
  {
   "cell_type": "code",
   "execution_count": 2,
   "metadata": {},
   "outputs": [],
   "source": [
    "# # delete files from previous runs\n",
    "# !rm -f hmp.parquet*\n",
    "\n",
    "# # download the file containing the data in PARQUET format\n",
    "# !wget https://github.com/IBM/coursera/raw/master/hmp.parquet\n",
    "    \n",
    "# create a dataframe out of it\n",
    "df = spark.read.parquet('hmp.parquet')\n",
    "\n",
    "# register a corresponding query table\n",
    "df.createOrReplaceTempView('df')"
   ]
  },
  {
   "cell_type": "markdown",
   "metadata": {},
   "source": [
    "Since this is supervised learning, let’s split our data into train (80%) and test (20%) set."
   ]
  },
  {
   "cell_type": "code",
   "execution_count": 5,
   "metadata": {},
   "outputs": [],
   "source": [
    "##train test split method on pyspark dataframes\n",
    "splits = df.randomSplit([0.8, 0.2])\n",
    "df_train = splits[0]\n",
    "df_test = splits[1]"
   ]
  },
  {
   "cell_type": "code",
   "execution_count": 7,
   "metadata": {},
   "outputs": [
    {
     "name": "stdout",
     "output_type": "stream",
     "text": [
      "+---+---+---+--------------------+--------------+\n",
      "|  x|  y|  z|              source|         class|\n",
      "+---+---+---+--------------------+--------------+\n",
      "|  0| 12| 39|Accelerometer-201...| Sitdown_chair|\n",
      "|  0| 16| 31|Accelerometer-201...|     Getup_bed|\n",
      "|  0| 17| 36|Accelerometer-201...|   Brush_teeth|\n",
      "|  0| 24| 35|Accelerometer-201...| Sitdown_chair|\n",
      "|  0| 26| 15|Accelerometer-201...|  Climb_stairs|\n",
      "|  0| 26| 42|Accelerometer-201...|   Brush_teeth|\n",
      "|  0| 27| 31|Accelerometer-201...| Sitdown_chair|\n",
      "|  0| 27| 37|Accelerometer-201...|   Brush_teeth|\n",
      "|  0| 27| 41|Accelerometer-201...|   Brush_teeth|\n",
      "|  0| 28| 28|Accelerometer-201...|   Brush_teeth|\n",
      "|  0| 29| 17|Accelerometer-201...|     Getup_bed|\n",
      "|  0| 29| 25|Accelerometer-201...|     Getup_bed|\n",
      "|  0| 29| 25|Accelerometer-201...|  Climb_stairs|\n",
      "|  0| 29| 32|Accelerometer-201...|Descend_stairs|\n",
      "|  0| 29| 34|Accelerometer-201...|          Walk|\n",
      "|  0| 29| 37|Accelerometer-201...|   Brush_teeth|\n",
      "|  0| 29| 38|Accelerometer-201...|   Brush_teeth|\n",
      "|  0| 29| 39|Accelerometer-201...|   Brush_teeth|\n",
      "|  0| 29| 43|Accelerometer-201...|   Brush_teeth|\n",
      "|  0| 29| 46|Accelerometer-201...|   Brush_teeth|\n",
      "+---+---+---+--------------------+--------------+\n",
      "only showing top 20 rows\n",
      "\n"
     ]
    }
   ],
   "source": [
    "df_train.show()"
   ]
  },
  {
   "cell_type": "markdown",
   "metadata": {},
   "source": [
    "Again, we can re-use our feature engineering pipeline"
   ]
  },
  {
   "cell_type": "code",
   "execution_count": 32,
   "metadata": {},
   "outputs": [],
   "source": [
    "from pyspark.ml.feature import StringIndexer, OneHotEncoder\n",
    "from pyspark.ml.linalg import Vectors\n",
    "from pyspark.ml.feature import VectorAssembler\n",
    "from pyspark.ml.feature import Normalizer\n",
    "from pyspark.ml import Pipeline\n",
    "from pyspark.ml.classification import LogisticRegression\n",
    "\n",
    "\n",
    "indexer = StringIndexer(inputCol=\"class\", outputCol=\"label\")"
   ]
  },
  {
   "cell_type": "code",
   "execution_count": 24,
   "metadata": {},
   "outputs": [
    {
     "name": "stdout",
     "output_type": "stream",
     "text": [
      "+---+---+---+--------------------+--------------+-----+\n",
      "|  x|  y|  z|              source|         class|label|\n",
      "+---+---+---+--------------------+--------------+-----+\n",
      "|  0| 12| 39|Accelerometer-201...| Sitdown_chair|  8.0|\n",
      "|  0| 16| 31|Accelerometer-201...|     Getup_bed|  1.0|\n",
      "|  0| 17| 36|Accelerometer-201...|   Brush_teeth|  6.0|\n",
      "|  0| 24| 35|Accelerometer-201...| Sitdown_chair|  8.0|\n",
      "|  0| 26| 15|Accelerometer-201...|  Climb_stairs|  4.0|\n",
      "|  0| 26| 42|Accelerometer-201...|   Brush_teeth|  6.0|\n",
      "|  0| 27| 31|Accelerometer-201...| Sitdown_chair|  8.0|\n",
      "|  0| 27| 37|Accelerometer-201...|   Brush_teeth|  6.0|\n",
      "|  0| 27| 41|Accelerometer-201...|   Brush_teeth|  6.0|\n",
      "|  0| 28| 28|Accelerometer-201...|   Brush_teeth|  6.0|\n",
      "|  0| 29| 17|Accelerometer-201...|     Getup_bed|  1.0|\n",
      "|  0| 29| 25|Accelerometer-201...|     Getup_bed|  1.0|\n",
      "|  0| 29| 25|Accelerometer-201...|  Climb_stairs|  4.0|\n",
      "|  0| 29| 32|Accelerometer-201...|Descend_stairs| 10.0|\n",
      "|  0| 29| 34|Accelerometer-201...|          Walk|  0.0|\n",
      "|  0| 29| 37|Accelerometer-201...|   Brush_teeth|  6.0|\n",
      "|  0| 29| 38|Accelerometer-201...|   Brush_teeth|  6.0|\n",
      "|  0| 29| 39|Accelerometer-201...|   Brush_teeth|  6.0|\n",
      "|  0| 29| 43|Accelerometer-201...|   Brush_teeth|  6.0|\n",
      "|  0| 29| 46|Accelerometer-201...|   Brush_teeth|  6.0|\n",
      "+---+---+---+--------------------+--------------+-----+\n",
      "only showing top 20 rows\n",
      "\n"
     ]
    }
   ],
   "source": [
    "##Indexer is like label encoder from spy\n",
    "indexer.fit(df_train).transform(df_train).show()"
   ]
  },
  {
   "cell_type": "code",
   "execution_count": 25,
   "metadata": {},
   "outputs": [
    {
     "name": "stdout",
     "output_type": "stream",
     "text": [
      "+---+---+---+--------------------+--------------+---------------+\n",
      "|  x|  y|  z|              source|         class|       features|\n",
      "+---+---+---+--------------------+--------------+---------------+\n",
      "|  0| 12| 39|Accelerometer-201...| Sitdown_chair|[0.0,12.0,39.0]|\n",
      "|  0| 16| 31|Accelerometer-201...|     Getup_bed|[0.0,16.0,31.0]|\n",
      "|  0| 17| 36|Accelerometer-201...|   Brush_teeth|[0.0,17.0,36.0]|\n",
      "|  0| 24| 35|Accelerometer-201...| Sitdown_chair|[0.0,24.0,35.0]|\n",
      "|  0| 26| 15|Accelerometer-201...|  Climb_stairs|[0.0,26.0,15.0]|\n",
      "|  0| 26| 42|Accelerometer-201...|   Brush_teeth|[0.0,26.0,42.0]|\n",
      "|  0| 27| 31|Accelerometer-201...| Sitdown_chair|[0.0,27.0,31.0]|\n",
      "|  0| 27| 37|Accelerometer-201...|   Brush_teeth|[0.0,27.0,37.0]|\n",
      "|  0| 27| 41|Accelerometer-201...|   Brush_teeth|[0.0,27.0,41.0]|\n",
      "|  0| 28| 28|Accelerometer-201...|   Brush_teeth|[0.0,28.0,28.0]|\n",
      "|  0| 29| 17|Accelerometer-201...|     Getup_bed|[0.0,29.0,17.0]|\n",
      "|  0| 29| 25|Accelerometer-201...|     Getup_bed|[0.0,29.0,25.0]|\n",
      "|  0| 29| 25|Accelerometer-201...|  Climb_stairs|[0.0,29.0,25.0]|\n",
      "|  0| 29| 32|Accelerometer-201...|Descend_stairs|[0.0,29.0,32.0]|\n",
      "|  0| 29| 34|Accelerometer-201...|          Walk|[0.0,29.0,34.0]|\n",
      "|  0| 29| 37|Accelerometer-201...|   Brush_teeth|[0.0,29.0,37.0]|\n",
      "|  0| 29| 38|Accelerometer-201...|   Brush_teeth|[0.0,29.0,38.0]|\n",
      "|  0| 29| 39|Accelerometer-201...|   Brush_teeth|[0.0,29.0,39.0]|\n",
      "|  0| 29| 43|Accelerometer-201...|   Brush_teeth|[0.0,29.0,43.0]|\n",
      "|  0| 29| 46|Accelerometer-201...|   Brush_teeth|[0.0,29.0,46.0]|\n",
      "+---+---+---+--------------------+--------------+---------------+\n",
      "only showing top 20 rows\n",
      "\n"
     ]
    }
   ],
   "source": [
    "##dont fit on vector asssembler only transform. and turn xyx into one vector\n",
    "vectorAssembler = VectorAssembler(inputCols=[\"x\",\"y\",\"z\"],\n",
    "                                  outputCol=\"features\")\n",
    "vectorAssembler.transform(df_train).show()"
   ]
  },
  {
   "cell_type": "code",
   "execution_count": 26,
   "metadata": {},
   "outputs": [
    {
     "name": "stdout",
     "output_type": "stream",
     "text": [
      "+---+---+---+--------------------+--------------+---------------+--------------------+\n",
      "|  x|  y|  z|              source|         class|       features|       features_norm|\n",
      "+---+---+---+--------------------+--------------+---------------+--------------------+\n",
      "|  0| 12| 39|Accelerometer-201...| Sitdown_chair|[0.0,12.0,39.0]|[0.0,0.2352941176...|\n",
      "|  0| 16| 31|Accelerometer-201...|     Getup_bed|[0.0,16.0,31.0]|[0.0,0.3404255319...|\n",
      "|  0| 17| 36|Accelerometer-201...|   Brush_teeth|[0.0,17.0,36.0]|[0.0,0.3207547169...|\n",
      "|  0| 24| 35|Accelerometer-201...| Sitdown_chair|[0.0,24.0,35.0]|[0.0,0.4067796610...|\n",
      "|  0| 26| 15|Accelerometer-201...|  Climb_stairs|[0.0,26.0,15.0]|[0.0,0.6341463414...|\n",
      "|  0| 26| 42|Accelerometer-201...|   Brush_teeth|[0.0,26.0,42.0]|[0.0,0.3823529411...|\n",
      "|  0| 27| 31|Accelerometer-201...| Sitdown_chair|[0.0,27.0,31.0]|[0.0,0.4655172413...|\n",
      "|  0| 27| 37|Accelerometer-201...|   Brush_teeth|[0.0,27.0,37.0]|[0.0,0.421875,0.5...|\n",
      "|  0| 27| 41|Accelerometer-201...|   Brush_teeth|[0.0,27.0,41.0]|[0.0,0.3970588235...|\n",
      "|  0| 28| 28|Accelerometer-201...|   Brush_teeth|[0.0,28.0,28.0]|       [0.0,0.5,0.5]|\n",
      "|  0| 29| 17|Accelerometer-201...|     Getup_bed|[0.0,29.0,17.0]|[0.0,0.6304347826...|\n",
      "|  0| 29| 25|Accelerometer-201...|     Getup_bed|[0.0,29.0,25.0]|[0.0,0.5370370370...|\n",
      "|  0| 29| 25|Accelerometer-201...|  Climb_stairs|[0.0,29.0,25.0]|[0.0,0.5370370370...|\n",
      "|  0| 29| 32|Accelerometer-201...|Descend_stairs|[0.0,29.0,32.0]|[0.0,0.4754098360...|\n",
      "|  0| 29| 34|Accelerometer-201...|          Walk|[0.0,29.0,34.0]|[0.0,0.4603174603...|\n",
      "|  0| 29| 37|Accelerometer-201...|   Brush_teeth|[0.0,29.0,37.0]|[0.0,0.4393939393...|\n",
      "|  0| 29| 38|Accelerometer-201...|   Brush_teeth|[0.0,29.0,38.0]|[0.0,0.4328358208...|\n",
      "|  0| 29| 39|Accelerometer-201...|   Brush_teeth|[0.0,29.0,39.0]|[0.0,0.4264705882...|\n",
      "|  0| 29| 43|Accelerometer-201...|   Brush_teeth|[0.0,29.0,43.0]|[0.0,0.4027777777...|\n",
      "|  0| 29| 46|Accelerometer-201...|   Brush_teeth|[0.0,29.0,46.0]|[0.0,0.3866666666...|\n",
      "+---+---+---+--------------------+--------------+---------------+--------------------+\n",
      "only showing top 20 rows\n",
      "\n"
     ]
    }
   ],
   "source": [
    "##normalizer will take those vector encoded features and normalize them. But it has to take in the previous dataframe\n",
    "normalizer = Normalizer(inputCol=\"features\", outputCol=\"features_norm\", p=1.0)\n",
    "normalizer.transform(vectorAssembler.transform(df_train)).show()"
   ]
  },
  {
   "cell_type": "code",
   "execution_count": 50,
   "metadata": {},
   "outputs": [
    {
     "name": "stdout",
     "output_type": "stream",
     "text": [
      "+--------------------+-----+\n",
      "|       features_norm|label|\n",
      "+--------------------+-----+\n",
      "|[0.0,0.2352941176...|  8.0|\n",
      "|[0.0,0.3404255319...|  1.0|\n",
      "|[0.0,0.3207547169...|  6.0|\n",
      "|[0.0,0.4067796610...|  8.0|\n",
      "|[0.0,0.6341463414...|  4.0|\n",
      "|[0.0,0.3823529411...|  6.0|\n",
      "|[0.0,0.4655172413...|  8.0|\n",
      "|[0.0,0.421875,0.5...|  6.0|\n",
      "|[0.0,0.3970588235...|  6.0|\n",
      "|       [0.0,0.5,0.5]|  6.0|\n",
      "|[0.0,0.6304347826...|  1.0|\n",
      "|[0.0,0.5370370370...|  1.0|\n",
      "|[0.0,0.5370370370...|  4.0|\n",
      "|[0.0,0.4754098360...| 10.0|\n",
      "|[0.0,0.4603174603...|  0.0|\n",
      "|[0.0,0.4393939393...|  6.0|\n",
      "|[0.0,0.4328358208...|  6.0|\n",
      "|[0.0,0.4264705882...|  6.0|\n",
      "|[0.0,0.4027777777...|  6.0|\n",
      "|[0.0,0.3866666666...|  6.0|\n",
      "+--------------------+-----+\n",
      "only showing top 20 rows\n",
      "\n"
     ]
    }
   ],
   "source": [
    "##I could instead make a pipeeline of those three \n",
    "pipeline = Pipeline(stages=[indexer, vectorAssembler, normalizer])\n",
    "\n",
    "#Lets only select the X and Y\n",
    "input_df = pipeline.fit(df_train).transform(df_train)[['features_norm','label']]\n",
    "input_df.show()"
   ]
  },
  {
   "cell_type": "code",
   "execution_count": 56,
   "metadata": {},
   "outputs": [
    {
     "data": {
      "text/plain": [
       "[Param(parent='LogisticRegression_5c517ac7f3ef', name='aggregationDepth', doc='suggested depth for treeAggregate (>= 2).'),\n",
       " Param(parent='LogisticRegression_5c517ac7f3ef', name='elasticNetParam', doc='the ElasticNet mixing parameter, in range [0, 1]. For alpha = 0, the penalty is an L2 penalty. For alpha = 1, it is an L1 penalty.'),\n",
       " Param(parent='LogisticRegression_5c517ac7f3ef', name='family', doc='The name of family which is a description of the label distribution to be used in the model. Supported options: auto, binomial, multinomial'),\n",
       " Param(parent='LogisticRegression_5c517ac7f3ef', name='featuresCol', doc='features column name.'),\n",
       " Param(parent='LogisticRegression_5c517ac7f3ef', name='fitIntercept', doc='whether to fit an intercept term.'),\n",
       " Param(parent='LogisticRegression_5c517ac7f3ef', name='labelCol', doc='label column name.'),\n",
       " Param(parent='LogisticRegression_5c517ac7f3ef', name='lowerBoundsOnCoefficients', doc='The lower bounds on coefficients if fitting under bound constrained optimization. The bound matrix must be compatible with the shape (1, number of features) for binomial regression, or (number of classes, number of features) for multinomial regression.'),\n",
       " Param(parent='LogisticRegression_5c517ac7f3ef', name='lowerBoundsOnIntercepts', doc='The lower bounds on intercepts if fitting under bound constrained optimization. The bounds vector size must beequal with 1 for binomial regression, or the number oflasses for multinomial regression.'),\n",
       " Param(parent='LogisticRegression_5c517ac7f3ef', name='maxIter', doc='max number of iterations (>= 0).'),\n",
       " Param(parent='LogisticRegression_5c517ac7f3ef', name='predictionCol', doc='prediction column name.'),\n",
       " Param(parent='LogisticRegression_5c517ac7f3ef', name='probabilityCol', doc='Column name for predicted class conditional probabilities. Note: Not all models output well-calibrated probability estimates! These probabilities should be treated as confidences, not precise probabilities.'),\n",
       " Param(parent='LogisticRegression_5c517ac7f3ef', name='rawPredictionCol', doc='raw prediction (a.k.a. confidence) column name.'),\n",
       " Param(parent='LogisticRegression_5c517ac7f3ef', name='regParam', doc='regularization parameter (>= 0).'),\n",
       " Param(parent='LogisticRegression_5c517ac7f3ef', name='standardization', doc='whether to standardize the training features before fitting the model.'),\n",
       " Param(parent='LogisticRegression_5c517ac7f3ef', name='threshold', doc='Threshold in binary classification prediction, in range [0, 1]. If threshold and thresholds are both set, they must match.e.g. if threshold is p, then thresholds must be equal to [1-p, p].'),\n",
       " Param(parent='LogisticRegression_5c517ac7f3ef', name='thresholds', doc=\"Thresholds in multi-class classification to adjust the probability of predicting each class. Array must have length equal to the number of classes, with values > 0, excepting that at most one value may be 0. The class with largest value p/t is predicted, where p is the original probability of that class and t is the class's threshold.\"),\n",
       " Param(parent='LogisticRegression_5c517ac7f3ef', name='tol', doc='the convergence tolerance for iterative algorithms (>= 0).'),\n",
       " Param(parent='LogisticRegression_5c517ac7f3ef', name='upperBoundsOnCoefficients', doc='The upper bounds on coefficients if fitting under bound constrained optimization. The bound matrix must be compatible with the shape (1, number of features) for binomial regression, or (number of classes, number of features) for multinomial regression.'),\n",
       " Param(parent='LogisticRegression_5c517ac7f3ef', name='upperBoundsOnIntercepts', doc='The upper bounds on intercepts if fitting under bound constrained optimization. The bound vector size must be equal with 1 for binomial regression, or the number of classes for multinomial regression.'),\n",
       " Param(parent='LogisticRegression_5c517ac7f3ef', name='weightCol', doc='weight column name. If this is not set or empty, we treat all instance weights as 1.0.')]"
      ]
     },
     "execution_count": 56,
     "metadata": {},
     "output_type": "execute_result"
    }
   ],
   "source": [
    "lr = LogisticRegression(maxIter=10, regParam=0.3, elasticNetParam=0.8)\n",
    "lr.params"
   ]
  },
  {
   "cell_type": "code",
   "execution_count": 78,
   "metadata": {},
   "outputs": [],
   "source": [
    "##Now I can fit the lr of the input_df\n",
    "lr = LogisticRegression(maxIter=10, regParam=0.3, elasticNetParam=0.8,featuresCol='features_norm')\n",
    "model = lr.fit(input_df)\n",
    "prediction_train = model.transform(input_df)\n",
    "prediction_test = model.transform(pipeline.fit(df_train).transform(df_test)[['features_norm','label']])\n",
    "# Print the coefficients and intercept for logistic regression\n",
    "#print(\"Coefficients: \" + str(model.coefficientMatrix))\n",
    "#print(\"Intercept: \" + str(model.interceptVector))"
   ]
  },
  {
   "cell_type": "code",
   "execution_count": 80,
   "metadata": {},
   "outputs": [
    {
     "name": "stdout",
     "output_type": "stream",
     "text": [
      "root\n",
      " |-- features_norm: vector (nullable = true)\n",
      " |-- label: double (nullable = false)\n",
      " |-- rawPrediction: vector (nullable = true)\n",
      " |-- probability: vector (nullable = true)\n",
      " |-- prediction: double (nullable = false)\n",
      "\n"
     ]
    }
   ],
   "source": [
    "prediction_test.printSchema()"
   ]
  },
  {
   "cell_type": "markdown",
   "metadata": {},
   "source": [
    "Now we use LogisticRegression, a simple and basic linear classifier to obtain a classification performance baseline."
   ]
  },
  {
   "cell_type": "markdown",
   "metadata": {},
   "source": [
    "If we look at the schema of the prediction dataframe we see that there is an additional column called prediction which contains the best guess for the class our model predicts."
   ]
  },
  {
   "cell_type": "code",
   "execution_count": 81,
   "metadata": {},
   "outputs": [
    {
     "name": "stdout",
     "output_type": "stream",
     "text": [
      "root\n",
      " |-- features_norm: vector (nullable = true)\n",
      " |-- label: double (nullable = false)\n",
      " |-- rawPrediction: vector (nullable = true)\n",
      " |-- probability: vector (nullable = true)\n",
      " |-- prediction: double (nullable = false)\n",
      "\n"
     ]
    }
   ],
   "source": [
    "prediction_test.printSchema()"
   ]
  },
  {
   "cell_type": "markdown",
   "metadata": {},
   "source": [
    "Let’s evaluate performance by using a build-in functionality of Apache SparkML."
   ]
  },
  {
   "cell_type": "code",
   "execution_count": 83,
   "metadata": {},
   "outputs": [
    {
     "data": {
      "text/plain": [
       "0.20750648073656924"
      ]
     },
     "execution_count": 83,
     "metadata": {},
     "output_type": "execute_result"
    }
   ],
   "source": [
    "from pyspark.ml.evaluation import MulticlassClassificationEvaluator\n",
    "MulticlassClassificationEvaluator().setMetricName(\"accuracy\").evaluate(prediction_test) "
   ]
  },
  {
   "cell_type": "markdown",
   "metadata": {},
   "source": [
    "So we get 20% right. This is not bad for a baseline. Note that random guessing would give us only 7%. Of course we need to improve. You might have notices that we’re dealing with a time series here. And we’re not making use of that fact right now as we look at each training example only individually. But this is ok for now. More advanced courses like “Advanced Machine Learning and Signal Processing” (https://www.coursera.org/learn/advanced-machine-learning-signal-processing/) will teach you how to improve accuracy to the nearly 100% by using algorithms like Fourier transformation or wavelet transformation. But let’s skip this for now. In the following cell, please use the RandomForest classifier (you might need to play with the “numTrees” parameter) in the code cell below. You should get an accuracy of around 44%. More on RandomForest can be found here:\n",
    "\n",
    "https://spark.apache.org/docs/latest/ml-classification-regression.html#random-forest-classifier\n"
   ]
  },
  {
   "cell_type": "code",
   "execution_count": 86,
   "metadata": {
    "code_folding": []
   },
   "outputs": [
    {
     "name": "stdout",
     "output_type": "stream",
     "text": [
      "Accuracy train 0.4237\n",
      "Accuracy Test 0.4226\n"
     ]
    }
   ],
   "source": [
    "from pyspark.ml.classification import RandomForestClassifier\n",
    "\n",
    "\n",
    "#To change the feature an dlabel column, change the constructure\n",
    "rf = RandomForestClassifier(labelCol=\"label\", featuresCol=\"features_norm\", numTrees=10)\n",
    "\n",
    "#fit the input_edf\n",
    "model = rf.fit(input_df)\n",
    "\n",
    "#What is the prediction on train\n",
    "prediction_train = model.transform(input_df)\n",
    "prediction_test = model.transform(pipeline.fit(df_train).transform(df_test)[['features_norm','label']])\n",
    "accuracy_test = MulticlassClassificationEvaluator().setMetricName(\"accuracy\").evaluate(prediction_test) \n",
    "accuracy_train = MulticlassClassificationEvaluator().setMetricName(\"accuracy\").evaluate(prediction_train)\n",
    "print(\"Accuracy train {:.4f}\\nAccuracy Test {:.4f}\".format(accuracy_train,accuracy_test))"
   ]
  },
  {
   "cell_type": "code",
   "execution_count": null,
   "metadata": {},
   "outputs": [],
   "source": []
  }
 ],
 "metadata": {
  "kernelspec": {
   "display_name": "Python 3",
   "language": "python",
   "name": "python3"
  },
  "language_info": {
   "codemirror_mode": {
    "name": "ipython",
    "version": 3
   },
   "file_extension": ".py",
   "mimetype": "text/x-python",
   "name": "python",
   "nbconvert_exporter": "python",
   "pygments_lexer": "ipython3",
   "version": "3.7.3"
  },
  "toc": {
   "base_numbering": 1,
   "nav_menu": {},
   "number_sections": true,
   "sideBar": true,
   "skip_h1_title": false,
   "title_cell": "Table of Contents",
   "title_sidebar": "Contents",
   "toc_cell": false,
   "toc_position": {},
   "toc_section_display": true,
   "toc_window_display": false
  }
 },
 "nbformat": 4,
 "nbformat_minor": 1
}
