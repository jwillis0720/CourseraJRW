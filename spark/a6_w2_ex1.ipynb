{
 "cells": [
  {
   "cell_type": "markdown",
   "metadata": {
    "collapsed": true
   },
   "source": [
    "Welcome to exercise one of week two of “Apache Spark for Scalable Machine Learning on BigData”. In this exercise you’ll read a DataFrame in order to perform a simple statistical analysis. Then you’ll rebalance the dataset. No worries, we’ll explain everything to you, let’s get started.\n",
    "\n",
    "Let’s create a data frame from a remote file by downloading it:\n",
    "\n",
    "\n"
   ]
  },
  {
   "cell_type": "code",
   "execution_count": 12,
   "metadata": {
    "ExecuteTime": {
     "end_time": "2019-12-10T05:06:40.496238Z",
     "start_time": "2019-12-10T05:06:40.492426Z"
    }
   },
   "outputs": [],
   "source": [
    "%matplotlib inline"
   ]
  },
  {
   "cell_type": "code",
   "execution_count": 11,
   "metadata": {
    "ExecuteTime": {
     "end_time": "2019-12-10T05:06:31.633999Z",
     "start_time": "2019-12-10T05:06:31.545220Z"
    },
    "collapsed": true
   },
   "outputs": [
    {
     "ename": "ValueError",
     "evalue": "Cannot run multiple SparkContexts at once; existing SparkContext(app=pyspark-shell, master=local[*]) created by __init__ at <ipython-input-2-25d8ff657fc7>:6 ",
     "output_type": "error",
     "traceback": [
      "\u001b[0;31m---------------------------------------------------------------------------\u001b[0m",
      "\u001b[0;31mValueError\u001b[0m                                Traceback (most recent call last)",
      "\u001b[0;32m<ipython-input-11-c16caa2dbe41>\u001b[0m in \u001b[0;36m<module>\u001b[0;34m\u001b[0m\n\u001b[1;32m      4\u001b[0m \u001b[0mconf\u001b[0m \u001b[0;34m=\u001b[0m \u001b[0mSparkConf\u001b[0m\u001b[0;34m(\u001b[0m\u001b[0;34m)\u001b[0m\u001b[0;34m\u001b[0m\u001b[0;34m\u001b[0m\u001b[0m\n\u001b[1;32m      5\u001b[0m \u001b[0;34m\u001b[0m\u001b[0m\n\u001b[0;32m----> 6\u001b[0;31m \u001b[0msc\u001b[0m \u001b[0;34m=\u001b[0m \u001b[0mSparkContext\u001b[0m\u001b[0;34m(\u001b[0m\u001b[0mconf\u001b[0m\u001b[0;34m=\u001b[0m\u001b[0mconf\u001b[0m\u001b[0;34m)\u001b[0m\u001b[0;34m\u001b[0m\u001b[0;34m\u001b[0m\u001b[0m\n\u001b[0m\u001b[1;32m      7\u001b[0m \u001b[0;32mfrom\u001b[0m \u001b[0mpyspark\u001b[0m\u001b[0;34m.\u001b[0m\u001b[0msql\u001b[0m \u001b[0;32mimport\u001b[0m \u001b[0mRow\u001b[0m\u001b[0;34m\u001b[0m\u001b[0;34m\u001b[0m\u001b[0m\n\u001b[1;32m      8\u001b[0m \u001b[0;32mfrom\u001b[0m \u001b[0mpyspark\u001b[0m\u001b[0;34m.\u001b[0m\u001b[0msql\u001b[0m \u001b[0;32mimport\u001b[0m \u001b[0mSparkSession\u001b[0m\u001b[0;34m\u001b[0m\u001b[0;34m\u001b[0m\u001b[0m\n",
      "\u001b[0;32m~/anaconda3/lib/python3.7/site-packages/pyspark/context.py\u001b[0m in \u001b[0;36m__init__\u001b[0;34m(self, master, appName, sparkHome, pyFiles, environment, batchSize, serializer, conf, gateway, jsc, profiler_cls)\u001b[0m\n\u001b[1;32m    131\u001b[0m                     \" note this option will be removed in Spark 3.0\")\n\u001b[1;32m    132\u001b[0m \u001b[0;34m\u001b[0m\u001b[0m\n\u001b[0;32m--> 133\u001b[0;31m         \u001b[0mSparkContext\u001b[0m\u001b[0;34m.\u001b[0m\u001b[0m_ensure_initialized\u001b[0m\u001b[0;34m(\u001b[0m\u001b[0mself\u001b[0m\u001b[0;34m,\u001b[0m \u001b[0mgateway\u001b[0m\u001b[0;34m=\u001b[0m\u001b[0mgateway\u001b[0m\u001b[0;34m,\u001b[0m \u001b[0mconf\u001b[0m\u001b[0;34m=\u001b[0m\u001b[0mconf\u001b[0m\u001b[0;34m)\u001b[0m\u001b[0;34m\u001b[0m\u001b[0;34m\u001b[0m\u001b[0m\n\u001b[0m\u001b[1;32m    134\u001b[0m         \u001b[0;32mtry\u001b[0m\u001b[0;34m:\u001b[0m\u001b[0;34m\u001b[0m\u001b[0;34m\u001b[0m\u001b[0m\n\u001b[1;32m    135\u001b[0m             self._do_init(master, appName, sparkHome, pyFiles, environment, batchSize, serializer,\n",
      "\u001b[0;32m~/anaconda3/lib/python3.7/site-packages/pyspark/context.py\u001b[0m in \u001b[0;36m_ensure_initialized\u001b[0;34m(cls, instance, gateway, conf)\u001b[0m\n\u001b[1;32m    330\u001b[0m                         \u001b[0;34m\" created by %s at %s:%s \"\u001b[0m\u001b[0;34m\u001b[0m\u001b[0;34m\u001b[0m\u001b[0m\n\u001b[1;32m    331\u001b[0m                         % (currentAppName, currentMaster,\n\u001b[0;32m--> 332\u001b[0;31m                             callsite.function, callsite.file, callsite.linenum))\n\u001b[0m\u001b[1;32m    333\u001b[0m                 \u001b[0;32melse\u001b[0m\u001b[0;34m:\u001b[0m\u001b[0;34m\u001b[0m\u001b[0;34m\u001b[0m\u001b[0m\n\u001b[1;32m    334\u001b[0m                     \u001b[0mSparkContext\u001b[0m\u001b[0;34m.\u001b[0m\u001b[0m_active_spark_context\u001b[0m \u001b[0;34m=\u001b[0m \u001b[0minstance\u001b[0m\u001b[0;34m\u001b[0m\u001b[0;34m\u001b[0m\u001b[0m\n",
      "\u001b[0;31mValueError\u001b[0m: Cannot run multiple SparkContexts at once; existing SparkContext(app=pyspark-shell, master=local[*]) created by __init__ at <ipython-input-2-25d8ff657fc7>:6 "
     ]
    }
   ],
   "source": [
    "from pyspark import SparkConf\n",
    "from pyspark import SparkContext\n",
    "\n",
    "conf = SparkConf()\n",
    "\n",
    "sc = SparkContext(conf=conf)\n",
    "from pyspark.sql import Row\n",
    "from pyspark.sql import SparkSession\n",
    "\n",
    "spark = SparkSession(sc)\n"
   ]
  },
  {
   "cell_type": "code",
   "execution_count": 3,
   "metadata": {
    "ExecuteTime": {
     "end_time": "2019-12-10T05:05:02.773831Z",
     "start_time": "2019-12-10T05:04:53.944820Z"
    }
   },
   "outputs": [
    {
     "name": "stdout",
     "output_type": "stream",
     "text": [
      "--2019-12-09 23:04:54--  https://github.com/IBM/coursera/raw/master/hmp.parquet\n",
      "Resolving github.com... 140.82.113.4\n",
      "Connecting to github.com|140.82.113.4|:443... connected.\n",
      "HTTP request sent, awaiting response... 302 Found\n",
      "Location: https://raw.githubusercontent.com/IBM/coursera/master/hmp.parquet [following]\n",
      "--2019-12-09 23:04:54--  https://raw.githubusercontent.com/IBM/coursera/master/hmp.parquet\n",
      "Resolving raw.githubusercontent.com... 151.101.48.133\n",
      "Connecting to raw.githubusercontent.com|151.101.48.133|:443... connected.\n",
      "HTTP request sent, awaiting response... 200 OK\n",
      "Length: 932997 (911K) [application/octet-stream]\n",
      "Saving to: 'hmp.parquet'\n",
      "\n",
      "hmp.parquet         100%[===================>] 911.13K  3.06MB/s    in 0.3s    \n",
      "\n",
      "2019-12-09 23:04:58 (3.06 MB/s) - 'hmp.parquet' saved [932997/932997]\n",
      "\n"
     ]
    }
   ],
   "source": [
    "# delete files from previous runs\n",
    "!rm -f hmp.parquet*\n",
    "\n",
    "# download the file containing the data in PARQUET format\n",
    "!wget https://github.com/IBM/coursera/raw/master/hmp.parquet\n",
    "    \n",
    "# create a dataframe out of it\n",
    "df = spark.read.parquet('hmp.parquet')\n",
    "\n",
    "# register a corresponding query table\n",
    "df.createOrReplaceTempView('df')"
   ]
  },
  {
   "cell_type": "markdown",
   "metadata": {},
   "source": [
    "Let’s have a look at the data set first. This dataset contains sensor recordings from different movement activities as we will see in the next week’s lectures. X, Y and Z contain accelerometer sensor values whereas the class field contains information about which movement has been recorded. The source field is optional and can be used for data lineage since it contains the file name of the original file where the particular row was importat from.\n",
    "\n",
    "More details on the data set can be found here:\n",
    "https://github.com/wchill/HMP_Dataset\n"
   ]
  },
  {
   "cell_type": "code",
   "execution_count": 4,
   "metadata": {
    "ExecuteTime": {
     "end_time": "2019-12-10T05:05:04.002143Z",
     "start_time": "2019-12-10T05:05:02.776380Z"
    }
   },
   "outputs": [
    {
     "name": "stdout",
     "output_type": "stream",
     "text": [
      "+---+---+---+--------------------+-----------+\n",
      "|  x|  y|  z|              source|      class|\n",
      "+---+---+---+--------------------+-----------+\n",
      "| 22| 49| 35|Accelerometer-201...|Brush_teeth|\n",
      "| 22| 49| 35|Accelerometer-201...|Brush_teeth|\n",
      "| 22| 52| 35|Accelerometer-201...|Brush_teeth|\n",
      "| 22| 52| 35|Accelerometer-201...|Brush_teeth|\n",
      "| 21| 52| 34|Accelerometer-201...|Brush_teeth|\n",
      "| 22| 51| 34|Accelerometer-201...|Brush_teeth|\n",
      "| 20| 50| 35|Accelerometer-201...|Brush_teeth|\n",
      "| 22| 52| 34|Accelerometer-201...|Brush_teeth|\n",
      "| 22| 50| 34|Accelerometer-201...|Brush_teeth|\n",
      "| 22| 51| 35|Accelerometer-201...|Brush_teeth|\n",
      "| 21| 51| 33|Accelerometer-201...|Brush_teeth|\n",
      "| 20| 50| 34|Accelerometer-201...|Brush_teeth|\n",
      "| 21| 49| 33|Accelerometer-201...|Brush_teeth|\n",
      "| 21| 49| 33|Accelerometer-201...|Brush_teeth|\n",
      "| 20| 51| 35|Accelerometer-201...|Brush_teeth|\n",
      "| 18| 49| 34|Accelerometer-201...|Brush_teeth|\n",
      "| 19| 48| 34|Accelerometer-201...|Brush_teeth|\n",
      "| 16| 53| 34|Accelerometer-201...|Brush_teeth|\n",
      "| 18| 52| 35|Accelerometer-201...|Brush_teeth|\n",
      "| 18| 51| 32|Accelerometer-201...|Brush_teeth|\n",
      "+---+---+---+--------------------+-----------+\n",
      "only showing top 20 rows\n",
      "\n",
      "root\n",
      " |-- x: integer (nullable = true)\n",
      " |-- y: integer (nullable = true)\n",
      " |-- z: integer (nullable = true)\n",
      " |-- source: string (nullable = true)\n",
      " |-- class: string (nullable = true)\n",
      "\n"
     ]
    }
   ],
   "source": [
    "df.show()\n",
    "df.printSchema()"
   ]
  },
  {
   "cell_type": "markdown",
   "metadata": {},
   "source": [
    "This is a classical classification data set. One thing we always do during data analysis is checking if the classes are balanced. In other words, if there are more or less the same number of example in each class. Let’s find out by a simple aggregation using SQL."
   ]
  },
  {
   "cell_type": "code",
   "execution_count": 14,
   "metadata": {
    "ExecuteTime": {
     "end_time": "2019-12-10T05:06:54.346787Z",
     "start_time": "2019-12-10T05:06:53.929210Z"
    }
   },
   "outputs": [
    {
     "data": {
      "text/plain": [
       "<matplotlib.axes._subplots.AxesSubplot at 0x11e1626d8>"
      ]
     },
     "execution_count": 14,
     "metadata": {},
     "output_type": "execute_result"
    },
    {
     "data": {
      "image/png": "[encoded data removed]",
      "text/plain": [
       "<Figure size 432x288 with 1 Axes>"
      ]
     },
     "metadata": {
      "needs_background": "light"
     },
     "output_type": "display_data"
    }
   ],
   "source": [
    "spark.sql('select class,count(*) from df group by class').toPandas().plot(kind='bar')"
   ]
  },
  {
   "cell_type": "markdown",
   "metadata": {},
   "source": [
    "As you can see there is quite an imbalance between classes. Before we dig into this, let’s re-write the same query using the DataFrame API – just in case you are not familiar with SQL. As we’ve learned before, it doesn’t matter if you express your queries with SQL or the DataFrame API – it all gets boiled down into the same execution plan optimized by Tungsten and accelerated by Catalyst. You can even mix and match SQL and DataFrame API code if you like.\n",
    "\n",
    "Again, more details on the API can be found here:\n",
    "https://spark.apache.org/docs/latest/api/python/pyspark.sql.html#pyspark.sql.DataFrame\n"
   ]
  },
  {
   "cell_type": "code",
   "execution_count": 15,
   "metadata": {
    "ExecuteTime": {
     "end_time": "2019-12-10T05:07:15.167049Z",
     "start_time": "2019-12-10T05:07:14.882657Z"
    }
   },
   "outputs": [
    {
     "name": "stdout",
     "output_type": "stream",
     "text": [
      "+--------------+-----+\n",
      "|         class|count|\n",
      "+--------------+-----+\n",
      "| Use_telephone|15225|\n",
      "| Standup_chair|25417|\n",
      "|      Eat_meat|31236|\n",
      "|     Getup_bed|45801|\n",
      "|   Drink_glass|42792|\n",
      "|    Pour_water|41673|\n",
      "|     Comb_hair|23504|\n",
      "|          Walk|92254|\n",
      "|  Climb_stairs|40258|\n",
      "| Sitdown_chair|25036|\n",
      "|   Liedown_bed|11446|\n",
      "|Descend_stairs|15375|\n",
      "|   Brush_teeth|29829|\n",
      "|      Eat_soup| 6683|\n",
      "+--------------+-----+\n",
      "\n"
     ]
    }
   ],
   "source": [
    "df.groupBy('class').count().show()"
   ]
  },
  {
   "cell_type": "markdown",
   "metadata": {},
   "source": [
    "Let’s create a bar plot from this data. We’re using the pixidust library, which is Open Source, because of its simplicity. But any other library like matplotlib is fine as well. "
   ]
  },
  {
   "cell_type": "code",
   "execution_count": 18,
   "metadata": {
    "ExecuteTime": {
     "end_time": "2019-12-10T05:09:04.656027Z",
     "start_time": "2019-12-10T05:09:04.652418Z"
    }
   },
   "outputs": [
    {
     "data": {
      "text/plain": [
       "pyspark.sql.dataframe.DataFrame"
      ]
     },
     "execution_count": 18,
     "metadata": {},
     "output_type": "execute_result"
    }
   ],
   "source": [
    "type(counts)"
   ]
  },
  {
   "cell_type": "code",
   "execution_count": 17,
   "metadata": {
    "ExecuteTime": {
     "end_time": "2019-12-10T05:08:07.517833Z",
     "start_time": "2019-12-10T05:08:05.391340Z"
    },
    "pixiedust": {
     "displayParams": {
      "chartsize": "92",
      "handlerId": "barChart",
      "keyFields": "class",
      "legend": "true",
      "mpld3": "false",
      "orientation": "horizontal",
      "rendererId": "matplotlib",
      "sortby": "Values ASC",
      "valueFields": "count"
     }
    }
   },
   "outputs": [
    {
     "data": {
      "text/html": [
       "<style type=\"text/css\">.pd_warning{display:none;}</style><div class=\"pd_warning\"><em>Hey, there's something awesome here! To see it, open this notebook outside GitHub, in a viewer like Jupyter</em></div>\n",
       "        <div class=\"pd_save is-viewer-good\" style=\"padding-right:10px;text-align: center;line-height:initial !important;font-size: xx-large;font-weight: 500;color: coral;\">\n",
       "            \n",
       "        </div>\n",
       "    \n",
       "        <div id=\"chartFiguree3c0b41e\" class=\"pd_save\" style=\"overflow-x:auto\">\n",
       "            \n",
       "                    \n",
       "                            <center><img style=\"max-width:initial !important\" src=\"data:image/png;base64,iVBORw0KGgoAAAANSUhEUgAAA70AAAG7CAYAAAAPG/KYAAAABHNCSVQICAgIfAhkiAAAAAlwSFlzAAAOwwAADsMBx2+oZAAAADh0RVh0U29mdHdhcmUAbWF0cGxvdGxpYiB2ZXJzaW9uMy4xLjEsIGh0dHA6Ly9tYXRwbG90bGliLm9yZy8QZhcZAAAgAElEQVR4nOzdeVyV1d7///dm0s2kAiqiIAoKTpkTOTBpooVhg3q0nMDEMs0hvbVvYqhHKj2SpuXJoaRS0/QcU8+xUk6BmDmFmGaSQ6THSItbTAVl/P3hz327EwXHDdvX8/G4HnHtdV1rfa5d/7xb61rbUFpaWioAAAAAAKyQjaULAAAAAADgbiH0AgAAAACsFqEXAAAAAGC17CxdAAAAuHNKSkpUUFAgtuy4ffb29rK1tZXBYLB0KQCA20DoBQDASpw7d05HjhxRSUmJpUuxGq6urmrYsKEcHBwsXQoA4BYZ2L0ZAICqr6SkRPv27ZOrq6vq1avH7ORtKi0t1aVLl3Ty5EkVFRXpgQcekI0Nb4UBQFXETC8AAFagoKBAJSUlqlevnhwdHS1djlVwdHSUg4ODDh06pL1796pt27b8zwQAqIL4X5YAAFiBKwu3CGV31pXZ3Z07d+r777+3cDUAgFtB6AUAAKiAo0ePWroEAMAtIPQCAACUw97eXnl5eZYuAwBwCwi9AADgvpOcnMxScAC4T7CRFQAAVsxgmH7Pxiotjb9nYwEAUFHM9AIAAIsoKirSq6++Kh8fH1WvXl3NmjXTxo0bJUkffvih/P39Va1aNbVq1UqfffaZ6b6kpCQ1aNDArK9p06YpODjYdB4eHq5Jkybpueeek4uLi3x9fbVq1SpJUlZWliIiIiRd3vjLYDAoKSnpLj8tAMBSCL0AAMAi4uPjtWTJEs2bN0/ff/+93nzzTdnb22v79u0aNmyYxowZo++++05PPvmknnjiCWVlZd1U/4sWLVJgYKD27t2r6OhoxcTE6PTp0/L29tYnn3wiScrOzlZ2drb69+9/F54QAFAZEHoBAMA9l5+fr8TERC1YsEBPPfWU/Pz89Oijj+qRRx7R/Pnz9dRTT2nMmDEKCAjQjBkz1KZNG73zzjs3NUaXLl00fvx4+fv7Ky4uTjY2Ntq1a5dsbW1Vq1YtSZKnp6c8PT1lNBrvxmMCACoBQi8AALjnjhw5okuXLik8PPyatszMTHXs2NHss06dOikzM/OmxmjVqpXpbzs7O3l4eOj06dO3VC8AoOoi9AIAgHuutLT0ltokycbG5pprCgsLr7nO3t7e7NxgMKikpOQmqgQAWANCLwAAuOeaNGmiatWqKSUl5Zq2wMBA7dixw+yzb775RoGBgZKk2rVrKycnxyzo7t+//6bGvxKIi4uLb7JyAEBVw08WAQCAe85oNGrChAkaM2aMbGxs1KZNGx0+fFglJSUaM2aMQkND9fbbb6tHjx5avny59u7da9p9uUOHDrKxsdGMGTM0dOhQbdq0SVu3blXLli0rPH7Dhg0lSZs2bVKnTp3k4uKiatWq3ZVnBQBYFjO9AADAIqZPn66YmBiNHj1azZo10/jx41VcXKzOnTvr/fff17x589SyZUutW7dOn376qXx9fSVJHh4eWrZsmZYvX64HH3xQ+/bt08iRI29qbF9fX02ePFkxMTGqXbu2Pv7447vwhACAysBQWt6LMwAAoNLLz8/XwYMH1bx5c3YivoOufK/p6elydnbW008/bemSAAA3iZleAAAAAIDVIvQCAAAAAKwWoRcAAAAAYLUIvQAAAAAAq0XoBQAAAABYLUIvAABWwGAwSJL4UYY7q6SkxOyfAICqx87SBQAAgNvn4OAgGxsb/fLLL/Ly8jKFYNya0tJSXbp0SSdOnFBJSYkuXrwoV1dXS5cFALgFhF4AAKyAjY2N/P39dfjwYZ09e9bS5ViNvLw8ZWdnq7S0VDY2LJADgKqI0AsAgJVwcXFRs2bNtGrVKhUUFMjd3d3SJVVpRUVFKikpUXFxsfLy8uTm5mbpkgAAt8BQyss/AABYlczMTH322WfKz8+Xg4ODpcup0q4sc/bx8dFjjz2mWrVqWbokAMBNIvQCAGCFjh07puPHj+v8+fOWLqVKs7GxUY0aNdS8eXMCLwBUUYReAAAAAIDVYkcGAAAAAIDVIvQCAAAAAKwWoRcAAAAAYLUIvQAAAAAAq0XoBQAAAABYLUIvAAAAAMBqEXoBAAAAAFaL0AsAAAAAsFqEXgAAAACA1SL0AgAAAACsFqEXAAAAAGC1CL0AAAAAAKtF6AUAAAAAWC1CLwAAAADAahF6AQAAAABWi9ALAAAAALBahF4AAAAAgNWys3QBqHxKSkqUm5ur6tWry2AwWLocAAAAAKiQ0tJSXbx4UTVr1pSNzeU5XkIvrpGbmyt3d3dLlwEAAAAAtyQnJ0dubm6SCL0oQ/Xq1SVd/g/FaDRauBoAAAAAqJj8/Hy5u7ubMo1E6EUZrixpNhqNhF4AAAAAVc7Vr2mykRUAAAAAwGoRegEAAAAAVovQCwAAAACwWoReAAAAAIDVYiMrXJejY4Ike0uXcdeUlsZbugQAAAAAdxkzvQAAAAAAq0Xo/f+Fh4fLYDBcc6xatarce5OTk822xAYAAAAAVA4sb77KuHHjNHnyZLPPatasaaFqAAAAAAC3i5neqzg5OcnT09PsqF69ug4dOqTIyEh5eHioZs2aioyM1E8//SRJysrKUkREhCSZZoeTkpJuOM6xY8f0yCOPyNXVVa6urnrooYd05MgRU/vf/vY3eXt7q1q1aurYsaN27dplaps2bZqCg4PN+ouOjtagQYNM576+vpo1a5aioqJkNBoVGBiolJSU2/x2AAAAAKDqIfRWwPnz59W3b19t27ZN27Ztk4ODgwYMGCBJ8vb21ieffCJJys7OVnZ2tvr373/D/kaPHq26detq9+7d2rNnj8aMGSMbm8v/KlauXKlp06bpjTfeUEZGhh544AFFRkbqjz/+uKma33jjDfXq1Ut79+5VRESEnnjiCZ09e7bMawsLC5Wfn292AAAAAIA1IPReZfbs2XJ2djY7jh07pvbt22vYsGEKDAxUy5Yt9e6772rXrl06fvy4bG1tVatWLUkyzQ4bjcYbjnPixAl1795dAQEBatq0qQYOHKjGjRtLkubPn69Ro0Zp4MCBatasmRYuXCij0aiPPvropp6lZ8+eev755xUYGKh58+apRo0a1+0jISFBjo6OpsPd3f2mxgIAAACAyorQe5XY2FhlZGSYHd7e3jp79qxGjRqlJk2ayNXVVf7+/pIuh9db8cILL2j48OHq2bOn5syZY9ZPZmamOnbsaDq3s7NT+/btlZmZeVNjBAUFmf62tbVVu3btrtvHlClTlJeXZzpycnJu8okAAAAAoHIi9F6lVq1a8vf3Nzvs7e01YcIEpaamat68edqxY4e2b98u6fKy4FsxcuRI/fDDD4qMjNTnn3+uwMBApaWlVeheGxsblZaWmn1WVh03s5u0vb29jEaj2QEAAAAA1oDQWwE7duzQ8OHD1atXLzVv3vyad2Pt7e0lScXFxRXus3Hjxho7dqySk5MVFhamjz/+WJIUEBCgHTt2mK4rKirSnj17FBgYKEmqXbu2fv31V7O+9u/ff03/V29+VVJSovT0dAUEBFS4PgAAAACwBoTeq1y4cEG//vqr2XHhwgX5+flp7dq1OnjwoLZt26b/+Z//MbuvYcOGkqRNmzbp999/16VLl244zvjx45WcnKysrCylpaXpu+++MwXSsWPHauHChVq5cqUOHTqkF154Qfn5+abdmUNCQnTs2DH9/e9/1+HDh/XKK68oKyvrmjG++OILLV68WJmZmRo/frzOnDljtsMzAAAAANwPCL1XmTdvnurVq2d2LFiwQImJiSotLVW7du00YsQIzZgxw+w+X19fTZ48WTExMapdu7Zp1vZ6CgsLNWLECAUGBurpp5/WM888o9GjR0uSnn76acXHx2vSpElq3bq1vvvuO23atEmurq6SpJYtW2ru3Ln661//qg4dOqikpERPPvnkNWNMmjRJ69atU+vWrfX5559r3bp1/OYwAAAAgPuOofTPL4iiyvP19VVcXJyGDx9+S/fn5+fL0dFR0hRJ9ne0tsqktDTe0iUAAAAAuIOuZJm8vDzTXkV2Fq4JlVhe3hQ2tQIAAABQpbG8+S5YsWLFNb/3e+V47bXXLF0eAAAAANw3WN58F5w7d06nTp0qs83NzU1ubm73uKKbU9aSAAAAAACo7FjefI+4uLjIxcXF0mUAAAAAwH2P5c0AAAAAAKtF6AUAAAAAWC1CLwAAAADAahF6AQAAAABWi9ALAAAAALBahF4AAAAAgNUi9AIAAAAArBahFwAAAABgtQi9AAAAAACrZWfpAlB5OTomSLK3dBn3rdLSeEuXAAAAAFR5VXKmNykpSQ0aNLitPgYNGqTo6Og7U9AdFB4erri4uDvaZ3JysgwGwx3tEwAAAACqgkodeq8XAPv376+9e/daoCIAAAAAQFVSJZc3G41GGY1GS5cBAAAAAKjkKvVM7/WUtbx5/vz5aty4sRwdHdWhQwelpKSYtS9YsEB169ZVjRo1NGHCBJWWlpq1nzp1Sn379pWzs7Nq1aqlZ599VhcuXJAk/fOf/1TDhg1N137wwQcyGAzavHmzJKm4uFguLi7asWOHJMnX11eJiYnq16+fnJyc1KxZM3355ZcVfr6LFy9q6NChcnJyUsOGDfXJJ5+Ytaenpys8PFxGo1G+vr6Kj49XUVGRqX3//v1q3769qlevruDgYGVlZVV4bAAAAACwJlUy9P7Z+++/r7feeksLFy7UgQMHNGTIEEVGRprCXmpqql566SVNnz5dO3fuVH5+vjZs2GDWx+DBg3XixAmlpqZq48aN2rp1q8aPHy9JCgkJ0fHjx3X8+HFJUlpamtzd3ZWWliZJ2rt3r4qLi9WuXTtTf7Nnz1ZUVJQyMjIUEhKiQYMGqaCgoELPs2jRIvn7+ys9PV0jRozQwIEDdeTIEUlSTk6OIiIiFBkZqf379yspKUkrV65UYmKipMsB/KmnnpKPj4++/fZbjR07VlOnTr3heIWFhcrPzzc7AAAAAMAaWEXonTlzpt566y098sgjaty4sV588UUFBwdr+fLlkqSFCxeqT58+ev755xUYGKj58+erRo0apvsPHTqkLVu2aNmyZWrXrp2Cg4O1YMECLVu2TGfPnlXt2rUVEBBgCrlbt27V2LFjtXXrVtN5x44dZW//fzsd9+nTR0OGDFGTJk00ffp0ZWdn68cff6zQ87Ro0UJTp05VQECApkyZooceekjvvvuuJOmdd95R165dNWnSJPn7+ys8PFzTp0/XkiVLJEmbN2/WyZMn9d5776lFixbq16+fhg4desPxEhIS5OjoaDrc3d0r+M0DAAAAQOVW5UPv+fPn9dNPP6l///5ydnY2HV999ZWOHTsmScrMzFRQUJDpHjs7O7Vt29Z0npmZKRcXFzVv3tz0WadOnVRUVKSjR49Kujzbm5aWplOnTunUqVMaNWqU9uzZo4KCAqWlpSkkJMSsrlatWpn+9vT0lCSdPn26Qs90da1XzjMzMyVdXrq8YcMGs2d99tlnlZWVpZKSEmVmZsrf31+1atW6bn9/NmXKFOXl5ZmOnJycCtUJAAAAAJVdldzI6mpX3rtduXKlWrRoYdbm4uIiSSotLb3hT/b8+f1eSddcHxISolmzZmnr1q3q3Lmz3Nzc1KRJE+3cuVPbtm3TqFGjzK6/etb3Sl8lJSUVeqYb1Xr+/HkNGDBAr7766jVtNjY25T5rWezt7c3qBQAAAABrUeVDb506deTp6anjx4/r8ccfL/OagIAA7dq1y3ReXFysvXv36uGHH5YkBQYG6ty5czp48KBptnf79u2ys7OTn5+fpMuhNzo6Wp9++qlCQ0MlSaGhoVq0aJFyc3PVsWPHO/ZMV9cqSbt379ZDDz0kSWrdurWSk5Pl7+9/3Wc9fPiwcnNzVbNmTdP9AAAAAHA/qvSh99SpU8rIyDD77Pz586a/DQaDXnnlFU2dOlXOzs4KDQ3VmTNnlJycrKCgIHXr1k0jR45Ujx491LVrV4WFhWnBggXKzc019REYGKgePXpo2LBheuedd3Tx4kWNGTNGMTExpnd/GzVqJC8vL61evVojR46UdDkIP/3002rbtq2cnZ3v2DMfOHBACQkJ6tevn/7xj3/om2++0fvvvy9JGjVqlBYtWqTY2FiNHj1a1atX1759+/Tjjz8qLi5OPXv2VL169TR8+HDNmDFDBw8e1AcffHDHagMAAACAqqTSv9O7dOlStWnTxuz4c8B88cUXNXv2bM2ePVvNmjVTVFSUdu3apfr160uSunbtqjlz5iguLk4dOnSQnZ2devfubdbHhx9+qPr16yssLEy9evVSSEiI5s6da3ZNSEiI7O3tTe/IhoaGqri4WMHBwXf0mUeMGKGDBw+qTZs2WrhwoZYvX64mTZpIkry9vbV161adOHFCXbp0UYcOHTRnzhz5+PhIkmxtbfXPf/5TP/30k9q0aaM333xT06ZNu6P1AQAAAEBVYSgt64VW3Nfy8/Pl6OgoaYok3vW1lNLSeEuXAAAAAFQpV7JMXl6ejEajpCqwvBmWk5c3xfQfCgAAAABURZV+ebO1efTRR81+bujq4/jx45YuDwAAAACsCjO999jSpUuVn59fZpuXl9c9rgYAAAAArBuh9x67srkWAAAAAODuY3kzAAAAAMBqEXoBAAAAAFaL0AsAAAAAsFqEXgAAAACA1SL0AgAAAACsFqEXAAAAAGC1CL0AAAAAAKtF6AUAAAAAWC1CLwAAAADAatlZugBUXo6OCZLsLV0GLKS0NN7SJQAAAAC3jZnecvj6+mrp0qV3rL+kpCQ1aNDgjvUHAAAAALi+ex56rxciw8PDFRcXd9fGXbp0qXx9fe9a/wAAAACAyoeZXgAAAACA1ap0offixYuKjY1VnTp1ZDQaFRgYqE8//dTUnp6ervDwcBmNRvn6+io+Pl5FRUU37DMlJUWxsbH6+eefZTAYZDAYlJKSIkk6duyYoqKi5OzsLC8vL40ePVp5eXnX7au86319fTVr1ixFRUWZ6r8y1tXWrl2rRo0aqWbNmho2bJguXbpkajt16pT69u0rZ2dn1apVS88++6wuXLhgag8PD9ekSZP03HPPycXFRb6+vlq1apVZ/7fyPQEAAACAtal0oXf+/Pn69ttv9dlnn+ngwYOaO3euXF1dJUk5OTmKiIhQZGSk9u/fr6SkJK1cuVKJiYk37LNz585KTExUgwYNlJ2drezsbHXu3FkFBQXq2bOnmjRpom+//Vbr16/X7t27NWHChDL7qej1b7zxhnr16qW9e/cqIiJCTzzxhM6ePWtqz8nJ0QcffKANGzZo3bp1Wr9+vRYvXmxqHzx4sE6cOKHU1FRt3LhRW7du1fjx483GWLRokQIDA7V3715FR0crJiZGp0+fvqXvqbCwUPn5+WYHAAAAAFiDShd6T5w4oTZt2qhdu3Zq1KiRHn30UXXr1k2S9M4776hr166aNGmS/P39FR4erunTp2vJkiU37NPBwUGurq6ytbWVp6enPD095eDgoFWrVqlGjRp68803FRAQoA4dOmju3Ll6//33VVxcfE0/Fb2+Z8+eev755xUYGKh58+apRo0a+uijj0ztly5d0tKlS9WqVSt17dpVffv2VWpqqiTp0KFD2rJli5YtW6Z27dopODhYCxYs0LJly8yCc5cuXTR+/Hj5+/srLi5ONjY22rVr1y19TwkJCXJ0dDQd7u7uFfy3BQAAAACVW6X7yaLBgwcrIiJCGRkZ6tmzp/r06aN27dpJkvbv368NGzbI2dnZdH1xcbEKCwtVUlIiG5uby/D79+/Xvn37zPorLS1VQUGBTp48KR8fn1u6PigoyNRua2urdu3aKTMz0/RZ7dq1VbduXdO5p6enfvjhB0lSZmamXFxc1Lx5c1N7p06dVFRUpKNHj6pt27aSpFatWpna7ezs5OHhYZrpvdnvacqUKZo8ebLpPD8/n+ALAAAAwCrc89Dr6uqqP/7445rPz549K1dXVwUFBemnn37Sv//9b33++efq0qWLZs6cqYkTJ+r8+fMaMGCAXn311Wvuv9nAK0nnz59XaGioFi1adE1bvXr1bvl6g8Fww3Ht7c1/+9ZgMKikpETS5RD9Z2X1d6M+bvZ7sre3v6Y/AAAAALAG9zz0NmnSRBkZGWafnTt3TkeOHFHTpk0lSW5ubho8eLAGDx6s1q1b6/3339fEiRPVunVrJScny9/f/6bHtbe3v2bJcuvWrbVhwwY1aNBA1atXL7ePil5/ZZmxJJWUlCg9Pd20RLs8gYGBOnfunA4ePGia7d2+fbvs7Ozk5+dXoT5u53sCAAAAAGtyz9/pHTNmjFavXq0FCxbo8OHDSk9P15AhQ+Tp6anIyEjNnTtXa9as0eHDh7V//35t3rxZAQEBkqRRo0bp6NGjio2N1b59+5SZmalPPvlEM2fOLHfchg0b6tSpU9qzZ49+//13FRYWauDAgXJwcFD//v21e/duHTlyRBs3btTEiRPL7KOi13/xxRdavHixMjMzNX78eJ05c0aDBg2q0PcTGBioHj16aNiwYfr222/19ddfa8yYMYqJiVGNGjUq1MftfE8AAAAAYE3ueegNCwvTmjVr9NFHH6ldu3Z67LHHZG9vr+TkZDk4OMjJyUl//etf1bp1a4WHh8vNzU1///vfJUne3t7aunWrTpw4oS5duqhDhw6aM2fONe/eliU0NFQDBgxQ9+7dVbt2bX399ddycXFRSkqKHBwcFBERodatWysuLq7Mpc2SKnz9pEmTtG7dOrVu3Vqff/651q1bp5o1a1b4O/rwww9Vv359hYWFqVevXgoJCdHcuXMrfP/tfE8AAAAAYE0MpWW9RIpb5uvrq7i4OA0fPtzSpdyy/Px8OTo6SpoiiXd971elpfGWLgEAAAC4KVeyTF5enoxGo6RKuHszKo+8vCmm/1AAAAAAoCqqdL/Te6tWrFghZ2fnMo/XXnvN0uUBAAAAACzAapY3nzt3TqdOnSqzzc3NTW5ubve4oqqrrCUBAAAAAFDZWfXyZhcXF7m4uFi6DAAAAABAJWI1y5sBAAAAAPgzQi8AAAAAwGoRegEAAAAAVovQCwAAAACwWoReAAAAAIDVIvQCAAAAAKwWoRcAAAAAYLUIvQAAAAAAq0XoBQAAAABYLTtLF4DKy9ExQZK9pcuABZWWxlu6BAAAAOC2MNN7iwYNGqTo6GiLjG0wGJScnGyRsQEAAACgKrknoTc8PFwGg0EGg0FGo1F+fn6Kjo7Wvn377sXwldbSpUvl6+t70/dlZ2crNDT0zhcEAAAAAFbmns30jhs3TtnZ2crMzNR7772nwsJCdejQQRs3brxXJVgNT09POTg4lNlWWFio0tLSe1wRAAAAAFRO9yz0Ojk5ydPTUz4+PgoPD9eKFSs0ZMgQjRw5UoWFhZKk+fPnq3HjxnJ0dFSHDh2UkpJiuv/YsWN65JFH5OrqKldXVz300EM6cuSIqX3VqlVq1aqVqlWrpgYNGmjmzJlm90ZFRcnZ2VleXl4aPXq08vLyTO2+vr5KTExUv3795OTkpGbNmunLL780q3/BggWqW7euatSooQkTJlQ4WObk5Khfv35yc3OTk5OTWrdurW+++UYpKSmKjY3Vzz//bJoFT0lJ0aVLlzRkyBB5e3vLyclJ7dq1u6aWq5c3p6SkyGAw6PPPP1eLFi1kNBqVk5OjLVu2qE2bNjIajfLw8FCvXr0q9i8KAAAAAKyIRd/pffHFF3Xy5Emlp6fr/fff11tvvaWFCxfqwIEDGjJkiCIjI5WVlSVJGj16tOrWravdu3drz549GjNmjGxsLpe/efNmDRkyRDExMTpw4IDWrFmjevXqSZIKCgrUs2dPNWnSRN9++63Wr1+v3bt3a8KECWa1zJ49W1FRUcrIyFBISIgGDRqkgoICSVJqaqpeeuklTZ8+XTt37lR+fr42bNhQoWecOnWqzp07p61bt+q7775TfHy8HBwc1LlzZyUmJqpBgwbKzs5Wdna2OnfurKKiIjVt2lQbN27Uvn371Lt3bz3++OM6ffr0DceZPn26lixZov3798vV1VV9+/ZVdHS0Dh06pC+//FIRERHXvbewsFD5+flmBwAAAABYA0PpPVgLGx4eruDgYLPZV0m6dOmSqlevrlWrVun//b//p/nz5+uxxx4ztffo0UOhoaGKi4tTq1atNGnSJA0ePPia/sPCwtSqVSu9/fbb17R9+OGHmj9/vvbs2WP6bPv27eratavy8vJka2srX19fRUZGauHChZIuvzPr5eWl/fv3q2XLlurfv78MBoNWrVolSSoqKpKvr6+6d++upKSkGz57VFSUgoKCNHXq1Gvali5dqpkzZ5qC/fUEBgbqlVde0ZAhQyRdnundsmWLunfvrpSUFHXt2lUpKSkKCwuTdHl22cPDQ8ePH5e3t/cN+5akadOmafr06WW0TBG7N9/f2L0ZAAAAVUl+fr4cHR2Vl5cno9EoycIzvVfy9qVLl/TTTz+pf//+cnZ2Nh1fffWVjh07Jkl64YUXNHz4cPXs2VNz5szRiRMnTP0cOHBA4eHhZY6xf/9+7du3z6zfiIgIFRQU6OTJk6brWrVqZfrb09NTkkyzq5mZmQoKCjK129nZqW3bthV6xtjYWL322msKCQnRjBkzlJmZWe49c+bM0QMPPCA3Nzc5Ozvr8OHDZs9bljZt2pj+dnd314ABA9SyZUsNGDBAy5Yt0/nz569775QpU5SXl2c6cnJyKvRsAAAAAFDZWTT0Hjp0SJIUEBAgSVq5cqUyMjJMxw8//KDXX39dkjRy5Ej98MMPioyM1Oeff67AwEClpaWVO8b58+cVGhpq1u++fft0+PBh0xJoSbK3/78ZTYPBIEkqKSmRdDmcX/nsZvXu3VvHjh3T4MGDlZ6ergceeECrV6++7vXLly/XjBkzNGHCBH311VfKyMhQ8+bNTe89X4+jo6PZ+ccff6zNmzcrICBAc+bMUcuWLa8bZu3t7WU0GojX5zcAACAASURBVM0OAAAAALAGFg29CxYskLe3t9q2bStPT08dP35c/v7+ZkfdunVN1zdu3Fhjx45VcnKywsLC9PHHH0uSWrZsabbp1dVat26tQ4cOqUGDBtf0fXXQvZGAgADt2rXLdF5cXKy9e/dW+Dnr1aunESNG6NNPP9Wzzz6rDz74QNLlsFlcXGx27Y4dO9StWzcNHTpUrVu3Nn0vt+Khhx7S9OnTtXfvXuXm5uo///nPLfUDAAAAAFWV3b0a6MKFC/r1119VUFCgY8eOacmSJVq7dq3WrVsne3t7vfLKK5o6daqcnZ0VGhqqM2fOKDk5WUFBQerWrZvGjx+vXr16yd/fXydOnNB3332nnj17Srq8PPexxx6Tn5+fHnvsMZ05c0bff/+9YmJiNHDgQM2aNUv9+/dXXFycatWqpR9++EGpqamaM2dOhWofOXKkevTooa5duyosLEwLFixQbm5uhe6Nj49Xhw4d1Lx5c/3v//6vvv76a3Xr1k2S1LBhQ506dUp79uyRr6+vatSoIT8/P33yySdKS0uTm5ubXn31VdOMc0X99NNPWrp0qXr37i1PT09t27ZN58+fV5MmTW6qHwAAAACo6u5Z6J03b57mzZunatWqycvLS6Ghodq9e7ceeOABSZd3cq5WrZpmz56t5557Tu7u7urUqZOefPJJSZd3GB4xYoR++eUXeXh46JlnntHo0aMlXd7watmyZZo5c6YmT56sunXr6oUXXpAkubi4KCUlRRMnTlRERIQKCwvl7+9v2hSqIrp27ao5c+YoLi5OFy9e1LBhw9S7d+8K3WtnZ6eJEycqKytLNWrUUO/evU0beoWGhmrAgAHq3r27zp49q6+++krPP/+8du3apcjISLm4uGjSpEk6depUhWuVLi91PnDggN577z3l5uaqcePGev/9983e+wUAAACA+8E92b0ZVcuVHc/YvRns3gwAAICqpKzdm+/ZTC+qnry8KWxqBQAAAKBKs+hGVtYgLS3N7OeQrj6ef/55S5cHAAAAAPc1ZnpvU/v27ZWRkVFmm6ur6z2uBgAAAABwNULvbTIajfL397d0GQAAAACAMrC8GQAAAABgtQi9AAAAAACrRegFAAAAAFgtQi8AAAAAwGoRegEAAAAAVovQCwAAAACwWoReAAAAAIDVIvQCAAAAAKyWnaULQOXl6Jggyd7SZQCVSmlpvKVLAAAAwE1gphcAAAAAYLUIvXdYSkqKDAaDioqKbvrerKwsGQwGHTly5JbHnzZtmoKDg2/5fgAAAACwJlYferOyshQdHS0vLy9Vr15dTZs21ZgxY/Tf//7X0qXdFRMnTtSGDRssXQYAAAAAVApWHXozMzPVvn175eTkaPXq1frxxx/1wQcfqKioSHPnzrV0eXeFs7Oz3Nzcrtt+6dKle1gNAAAAAFiWVYfeUaNGyc/PTxs2bFBISIh8fHzUqVMnLVy4UFOnTpUk/e1vf5O3t7eqVaumjh07ateuXab7k5KS1KBBA61atUqNGjWSs7OzXnzxRRUXF2vq1Klyd3dXgwYNtHz58mvG3rx5s5o2bSqj0ainnnpKubm5Fa77wIEDCgoKkpOTk8LDw3X8+HFT24YNG9SxY0e5uLjIy8tLL7zwgi5cuGBq//Py5vDwcE2cOFGxsbFydXXVhAkTbuo7BAAAAICqzGpD7++//64vv/xSL730kgwGwzXtNWvW1MqVKzVt2jS98cYbysjI0AMPPKDIyEj98ccfputycnK0cuVKbdy4UatXr9bixYv16KOPqqSkRN98841Gjhyp2NhY/fbbb2b9x8fH64MPPtBXX32lQ4cOady4cRWufdq0aZo1a5Z27dqlvLw8jR8/3tR28eJFTZkyRfv27dOqVav01Vdfafr06Tfsb9GiRfLz81N6enqZobewsFD5+flmBwAAAABYA6sNvUePHlVpaakCAgKue838+fM1atQoDRw4UM2aNdPChQtlNBr10Ucfma65dOmSlixZopYtW6pXr17q2rWrfvnlFyUkJKhp06Z6+eWXZWtrqx07dpj1/de//lWdOnVSx44dNX/+fK1YsaLCs72vvPKKunbtqhYtWmj8+PFKTU01tf3lL39RVFSUGjdurNDQUMXHx2vt2rU37K99+/Z6+eWX5e/vr0aNGl3TnpCQIEdHR9Ph7u5eoToBAAAAoLKz2tBbEZmZmerYsaPp3M7OTu3bt1dmZqbps9q1a6tu3bqm87p166pFixamc1tbW7m7u18z0xsUFGT2d1FRkY4ePVqhulq1amX629PTUzk5OSouLpYkHTx4UE8++aR8fHzk4uKimJgYnThx4ob9tWnT5obtU6ZMUV5enunIycmpUJ0AAAAAUNlZbej18/OTwWAwC7C3wt7e3uzcYDCU+VlJSck1n5X1982OeeXe0tJSSVLv3r1lMBi0YsUK7dmzR/Pnzy/355EcHR3LHc9oNJodAAAAAGANrDb0enh4qGvXrpo3b54pMF7t7NmzCggIMFuWXFRUpD179igwMPC2x796Q6xdu3bJzs5Ofn5+t9Xn77//rqNHj+rVV19VSEiIAgIC9Ouvv95uqQAAAABgtewsXcDd9Pbbb6tLly7q3r27Jk+erKZNm+rUqVNavny5HBwcNHbsWMXGxurBBx9U27Zt9eabbyo/P1+DBg267bGnTp2qmjVrSpLGjh2rZ555xnR+q2rVqqVatWppyZIlmjBhgnbv3q1Fixbddq0AAAAAYK2sdqZXkpo1a6Y9e/aoQYMGGjp0qAIDAzVo0CAZDAa99NJLevrppxUfH69JkyapdevW+u6777Rp0ya5urre9thTp07VwIEDFRYWJn9/f82bN++2+7S1tdWKFSu0efNmtWjRQosWLdKMGTNuu18AAAAAsFaG0rLW/uK+lp+fL0dHR+Xl5fF+LwAAAIAqo6wsY9UzvQAAAACA+xuh9x46fvy4nJ2dyzweffRRS5cHAAAAAFbHqjeyqmy8vLyUkZFRZhvLiAEAAADgziP03kN2dnby9/e3dBkAAAAAcN9geTMAAAAAwGoRegEAAAAAVovQCwAAAACwWoReAAAAAIDVIvQCAAAAAKwWoRcAAAAAYLUIvQAAAAAAq0XoBQAAAABYLTtLF4DKy9ExQZK9pcsAqrzS0nhLlwAAAHDfYqYXAAAAAGC1qkToTUlJkcFgUFFR0U3dFxcXp/Dw8LtT1F1yq896tejoaA0aNOgOVgUAAAAAVVOlCb3Z2dmKiYlR/fr1Vb16dfn4+Khfv346ffq0OnfurOzsbNnZXV6NXRXD7L301ltv6Z133rF0GQAAAABgcZXmnd4+ffqoWrVqWrNmjby8vPTzzz9rw4YNunDhgurUqSNPT09Ll1hl1KhR44btBQUFcnBwuEfVAAAAAIDlVIqZ3tzcXH3zzTeaM2eOOnfuLF9fX4WFhSkxMVGNGjUyW/KblJSkhIQEpaamymAwyGAwKCsrS5K0Zs0aNWzYUE5OTho6dKguXrxoNs6FCxc0fPhw1apVS87OzurTp49OnTolSUpPT1e1atVM91zpf/Hixab7mzVrplWrVkmSwsPDNWnSJD333HNycXGRr6+vqa0i5s+fL39/f1WrVk2NGzfW0qVLzdpTU1PVvHlzubi46IknntCZM2dMbe+9954efPBBOTk5qWHDhpo6darZcug/L2/29fXVrFmz1KdPHzk6Omr+/PkVrhMAAAAAqrJKEXqdnJzk5OSk9evXl/sua//+/TVu3Dh16tRJ2dnZys7Olre3t44ePapnnnlGw4cPV3p6uvz9/bVo0SKze8ePH6/U1FStX79eW7du1cmTJzV48GBJUuvWrVW9enXt2rVLkpSWliZ3d3elpaVJkn777TcdOnRIwcHBpv4WLVqkwMBA7d27V9HR0YqJidHp06fLfd4lS5YoLi5OU6ZM0cGDB/Xee+/J1dXV7JqZM2cqKSlJX331lfbv36+ZM2ea2kpKSjRnzhwdOHBA7777rpYuXWoWzssye/ZsPfLIIzpw4IAGDBhg1lZYWKj8/HyzAwAAAACsQaUIvfb29lqyZInmzZunWrVq6eGHH9Zrr72mkydPXnOt0WiUk5OTHBwc5OnpKU9PT9na2mrx4sVq166dpk6dqoCAAE2dOlUtWrQw3Xfu3DktW7ZMb731lkJDQ9W2bVslJSVpy5Yt+v7772Vra6tOnTqZQu7WrVs1duxYbd26VdLlENyoUSM1aNDA1GeXLl00fvx4+fv7Ky4uTjY2NqbQfCMzZ87Uq6++qpiYGPn5+alr1676y1/+YnbNrFmzFBQUpPbt22v48OFKTU01tcXGxqp79+5q1KiRHn30UY0dO1Zr16694Zi9e/dWbGysGjdubPYMkpSQkCBHR0fT4e7uXu4zAAAAAEBVUClCryQ9/fTT+uWXX7RixQp16NBBSUlJat68ufbt21eh+zMzMxUUFGT22dXnx44dU1FRkTp27Gj6LDAwUDVr1lRmZqYkKSQkRGlpaSouLtaOHTv03HPP6cKFCzp+/LjS0tIUEhJi1n+rVq1Mf9vZ2cnDw6Pcmd5z587p+PHj5W7EdXXfnp6eZv1u375dPXr0UP369eXs7Kxp06bpxIkTN+yvTZs2122bMmWK8vLyTEdOTs4N+wIAAACAqqLShF5JcnZ2Vu/evfXGG2/o+++/l7e3txITEyt0b2lpqQwGww3byxMSEqLt27dr9+7dql+/vurUqaPg4GBt3bpVW7duvSb02tvbm50bDAaVlJSUW2dFXN331f2eO3dOvXr1UqNGjfSPf/xD6enpevnll1VYWHjD/hwdHW84ltFoNDsAAAAAwBpUqtB7NXt7ezVu3FgXLlwos624uNjss4CAgGuWFu/evdv0t5+fn+zs7LRjxw7TZ4cOHVJubq4CAwMlXZ4ZLigo0Ntvv63Q0FBJUmhoqP79739r375914TeW+Hq6iofHx+lpKTc0v2ZmZnKzc3VrFmz1LFjRzVt2rTcWV4AAAAAuF9VitB76tQp9ejRQ6tXr9bBgwd1+PBhzZ07V5s2bVJUVNQ11zds2FCZmZk6dOiQfv/9d5WUlGjEiBHavXu3EhIS9OOPPyohIUEHDhww3ePi4qJhw4Zp3LhxSktLU3p6uqKjoxUREaHmzZtLkqpXr6727dtr1apVpoAbEhKiNWvWyM3NTQEBAXfkeePi4jRjxgwlJSXp2LFjSktL05o1ayp0r4+Pj+zt7bVw4UIdO3ZM7777rj799NM7UhcAAAAAWJtKEXpdXV314IMP6vXXX1fHjh3Vrl07ffjhh1q4cKGio6Ovub5v374KCgpShw4dVLt2bR0/flz+/v5avny5Fi1apDZt2ujgwYMaMWKE2X2JiYkKCQlRVFSUQkNDVb9+fX300Udm14SEhKi4uNg009u2bVsZjUazXZtvV2xsrKZPn67p06erWbNmiomJ0blz5yp0b506dbR48WItXLhQrVq10ubNm/Xyyy/fsdoAAAAAwJoYSiv6kinuG/n5+XJ0dFReXh7v9wIAAACoMsrKMpViphcAAAAAgLuB0HsXPP/883J2di7zuPI7wAAAAACAu4/lzXfB6dOn9ccff5TZVr9+/Uq/ZJjlzQAAAACqorKyjJ2Fa7JKderUUZ06dSxdBgAAAADc91jeDAAAAACwWoReAAAAAIDVIvQCAAAAAKwWoRcAAAAAYLUIvQAAAAAAq0XoBQAAAABYLUIvAAAAAMBqEXoBAAAAAFbLztIFoPJydEyQZG/pMgCrUloab+kSAAAA7ivM9EoaNGiQoqOjLV2GJMnX11dLly695ftTUlJkMBhUVFR0B6sCAAAAgKrJoqE3OztbMTExql+/vqpXry4fHx/169dPp0+fVnJysgwGgyXLq5I6d+6s7Oxs2dkxiQ8AAAAAFk1Gffr0UbVq1bRmzRp5eXnp559/1oYNG3ThwgVLllWlOTg4yNPT87rtly5dUrVq1e5hRQAAAABgORab6c3NzdU333yjOXPmqHPnzvL19VVYWJgSExNlMBgUEREhSTIYDDIYDEpKSpIkjRs3To0bN5ajo6NatGih1atXm/Xr6+urxMRE9evXT05OTmrWrJm+/PJLs2sWLFigunXrqkaNGpowYYJKS0vN2g0Gg5KTk03nWVlZMhgMOnLkiCQpKSlJDRo00EcffSRvb285OzsrNjZWBQUFFXr2b7/9Vt26dZOjo6Pc3Nz0xBNPmLWfPXv2uvUfOnRIkZGR8vDwUM2aNRUZGamffvrJ1P7n5c3Tpk1TcHCw5s6dq/r166t9+/YVqhEAAAAArMFNh94zZ85o7dq12rdv320N7OTkJCcnJ61fv/6a90+9vb31ySefSLq8BDo7O1v9+/eXJLm7u2vVqlU6cOCAXnzxRQ0ePFj79+83u3/27NmKiopSRkaGQkJCNGjQIFMgTU1N1UsvvaTp06dr586dys/P14YNG266/pycHL333nv617/+pXXr1unf//63XnvttXLv++233/Twww+rcePG2rlzp1JTU9WpU6cK13/+/Hn17dtX27Zt07Zt2+Tg4KABAwbccMyMjAzt3LlTmzdvNn2vAAAAAHA/MJT+eZrzT6KiohQREaExY8bowoULatWqlc6cOaMLFy5o2bJlGjhw4C0P/vHHH+u5555TaWmpgoKC9PDDD2vo0KGqX7++kpOTFRERcc0s7J898sgj6ty5s1599VVJl2d6IyMjtXDhQkmXQ7OXl5f279+vli1bqn///jIYDFq1apUkqaioSL6+vurevbtpNtlgMGjLli3q3r27pMszvY0aNdLhw4fl7++vpKQkxcTE6IcfflBgYKAkaenSpXr55Zf1+++/37De+Ph4/fOf/9R3331X5jvL5dX/Z7/++qvq1aunn3/+WT4+PkpJSVHXrl1VWFgoOzs7TZs2TYmJicrOzpazs3OZNRUWFpr9j4f8/Hy5u7tLmiJ2bwbuLHZvBgAAuHvy8/Pl6OiovLw8GY1GSRWY6d2xY4e6desmSVqzZo2cnJx0+vRpLVu2TK+//vptFfT000/rl19+0YoVK9ShQwclJSWpefPmN5xF/uCDD9S+fXt5eHjI2dlZ//nPf3TixAmza1q1amX6+8r7radPn5YkZWZmKigoyNRuZ2entm3b3nTtLi4upsArSUFBQcrJyVFOTs4N7ztw4IDCwsJuuEnXjeo/e/asRo0apSZNmsjV1VX+/v6SdM13cLUmTZpcN/BKUkJCghwdHU3H5cALAAAAAFVfuaH3woULqlGjhiTpiy++UN++fWVvb6+QkBAdO3bstgtwdnZW79699cYbb+j777+Xt7e3EhMTy7w2LS1NsbGxGjx4sLZs2aKMjAx1795dhYWFZtfZ2//f7OSVcFlSUiJJKi0tLXdXaIPBYDbD/Of+r+73ZpU3cy3duP4JEyYoNTVV8+bN044dO7R9+/br1niFo6PjDcebMmWK8vLyTEd5wR0AAAAAqopyQ29gYKDWr1+vkydP6rPPPlNkZKSky8tqa9aseUeLsbe3V+PGjXXhwgVT8CsuLja179y5U82bN9fYsWPVpk0bNW7cWEePHr2pMQICArRr1y7TeXFxsfbu3Wt2Te3atfXrr7+azv/8zrAk/fHHH8rMzDSd7969W+7u7uXOkrZq1Upbt26tUPgty44dOzR8+HD16tVLzZs319mzZ2+pn6vZ29vLaDSaHQAAAABgDcoNvbNmzVJcXJx8fHwUGRmpDh06SJI2bNhgtkz4Zp06dUo9evTQ6tWrdfDgQR0+fFhz587Vpk2bFBUVpYYNG0qSNm3apN9//12XLl2Sn5+fMjMz9a9//UuZmZl68cUXzcJpRYwcOVJr167V4sWLlZmZqbFjxyo3N9fsmtDQUL311ls6cOCAUlNTNXPmzGv6qV69ukaOHKl9+/bpP//5j+Lj4zVq1Khyxx89erSOHz+u2NhY7d+/XwcPHtScOXMqXL+fn5/Wrl2rgwcPatu2bfqf//mfCt8LAAAAAPebcn+nNyIiQjk5OTp79qzc3NxMnw8fPrzcZbM34urqqgcffFCvv/66aZm0n5+fFi5cqOjoaEnS5MmTFRMTo5ycHC1btkxDhw41LW+2sbFRbGysoqKibmrcrl27as6cOYqLi9PFixc1bNgw9e7d2+yaxMREDR06VA899JACAwM1bdo0Pf7442bXuLu7a8iQIYqMjFRubq4GDBigV155pdzxa9eureTkZL300kvq0KGDnJycFBYWVuH6r9TWrl07NWrUSPPmzVPPnj0rfD8AAAAA3E/K3b35jz/+kHQ5pErS0aNHtW7dOgUEBNx04LQWSUlJiouL03//+19Ll3JXXNnxjN2bgTuP3ZsBAADunrJ2by53pvfxxx/XwIEDNXz4cOXk5Khjx46qW7euTpw4ofj4eL300kt3vXBYRl7eFN7vBQAAAFCllftO7759+9SlSxdJ0urVq+Xv768DBw7o448/Nv2WLP5PWlqanJ2dyzyef/55S5cHAAAAAPeVcmd6CwoKTO/ubtmyRU8++aQkqWXLljp58uTdra6Sio6ONr13/Gft27dXRkZGmW1XlogDAAAAAO6NckNvmzZttGjRIvXq1UtffPGFEhISJEnHjx9X7dq173qBVY3RaJS/v7+lywAAAAAAqALLm+fPn6/169crMjJS48aNU/PmzSVJa9asMS17BgAAAACgMip39+bruXjxomxtbWVvz+6+1qasHc8AAAAAoLK7pd2br6d69ep3rDAAAAAAAO6Gcpc35+fn6+WXX5a/v7+qVasmW1tbswMAAAAAgMqq3NA7ceJEbdy4UQkJCbK1tdWiRYs0bdo0eXl56b333rsXNQIAAAAAcEvKfae3fv36Wr16tYKDg+Xq6qpvv/1WTZo00erVq7VkyRIlJyffq1pxj/BOLwAAAICqqKwsU+5M77lz5+Tt7S1JqlWrlk6fPi1JCgoK0jfffHMXywUAAAAA4PaUu5FVixYtdODAATVs2FDt2rXT3Llz5eLioiVLlqhBgwb3okYAAAAAAG5JuaH3lVdeUX5+viQpISFBvXv31oMPPig3NzetWLHirhcIAAAAAMCtuqXf6c3JyVGtWrVkY1Pu6mhUQVfWwUtTJPE7zIC1Ky2Nt3QJAAAAd8QtvdNbFnd39/sy8EZHR2vQoEGWLqNc06ZNU3BwsKXLAAAAAACLKzO5ent7y8fHp0KHpYSHh8tgMMhgMMjW1lYNGjTQ2LFjdenSJYvVdCNxcXEKDw+/4/0GBwdr2rRpd7xfAAAAALAGZb7TO3PmzHtdxy0ZN26cJk+erOLiYv3www+KiYmRi4tLmfVfunRJ1apVs0CVAAAAAABLKXOmd+jQoabDw8ND9erVM/ts6NCh8vT0VJ06de51vWacnJzk6emp+vXrq3v37urTp4/27t0r6fJS5IEDB+rll1+Wh4eH+vbtq6ysLBkMBh05csTUR0pKigwGg4qKiiRJ6enpCg4OlpOTk2rVqqWwsDDl5uaajRsXFyc3Nzd5eXnpzTffLLfOpKQkJSQkKDU11TQ7nZWVZRovPDxcRqNRvr6+io+PN9UiSb/99psGDhyomjVrysPDQwMHDlROTo7pGb/++mtNnz5dBoNBvr6+ZuO+/fbbqlevnjw8PDRp0iTdwuvbAAAAAFCllfti7vXCko2Njf6/9u48Lqsy///4+2YT8EZlEVABDRBNdMhUMpXF0mpsTHOcNiO1kUYzcsmZGsl11EozUMtyDac0dVzKtBp3oVLU3FCTTDPRH6RgWgoqy/n90Xi+3olKLt1w+3o+Hufx4D7Xcj7nnutuHh+v65zrH//4x00J6lrk5ORo9erVatWqlXnuo48+UlFRkb744osKJaeS9OSTT6pt27bKysrS559/rh49etiUL1u2TMXFxdq0aZNGjhypF154Qbt27bpin48++qgGDhyou+++W7m5ucrNzVVwcLAKCgrUsWNHderUSVlZWUpLS9O8efM0ceJEs2337t0lSRkZGVq/fr1OnjxpPlc8adIkRUdH64UXXlBubq62bNlittu1a5e2bNmitWvXaubMmUpNTdXy5csr9B0AAAAAgKO46pZFBw8eVERExCXnGzZsqAMHDtyUoCpq/PjxSk1NVWlpqc6ePauOHTsqOTnZLA8ICFBKSor50q0Ls6tXkpOToz/96U8KDQ2V9Ms+xRcLDg7Wa6+9JkmKiIjQxIkTlZ6erj/84Q+X7dPDw0PVq1eXm5ubAgMDzfNvvfWW2rdvb/7jQXh4uEaNGqXhw4frxRdfVHp6urKzs7VmzRq5uPzyP9WMGTNUr149HTlyREFBQXJ1dZXVarXpV5JcXFw0bdo0ubu76/bbb1f79u21YcMGde7c+ZL4iouLbWaXL2xRBQAAAABV3VVnev39/cudydy+fbt8fHxuSlAVlZiYqB07dmjnzp367LPPdOTIEQ0cONAsj4qK+s1vmX7uued03333qWvXrnrrrbeUn59vU960aVObz4GBgTp27Ng1xZ+VlaVly5bJarWax1//+lcdOnRIZWVlysrK0vHjx1WrVi2z/MI/QBw8ePCKfTds2FDu7u4VinPs2LHy9PQ0D19f32u6HwAAAACobK4609uzZ089++yzKisrU1xcnKRfnoN9/vnn1bt375se4JV4e3srPDxc0i+zriNGjFCPHj30+uuvS9L/9pr9PxcS4IuXaxcXF9vUeeWVV9SjRw8tX75c7733noYPH65NmzapYcOGkiRXV9t9ay0Wi8rKyq4p/tOnT+uxxx7T8OHDLylzcnLS6dOnFR4erhUrVlxSXq9evSv2XV6cpaWl5dZNTk7Wiy++aH4uKioi8QUAAADgEK6a9I4YMUKlpaV64okndP78eUlStWrVNHjw4Eq3VY6Li4tKS0vNOH+tdu3akqS8vDwzic3KyrqkXtOmTdW0aVO99NJLioyM1NKlOvVW3wAAIABJREFUS6/7+WVXV9dLks6oqCitXr3aTNx/LSoqSocPH1aNGjUu+9Kw8vq9lth+nSQDAAAAgCO46tpfZ2dnjR07Vj/++KN27typHTt26MSJExozZoycnZ1/jxgv68yZM8rLy1Nubq6++OILjRkzRu3atVPNmjXLre/h4aGWLVvqlVdeUXZ2tj7++GNNnTrVLC8qKtLzzz+vjIwMff/99/rkk090+PBhNWrU6LpjrV+/vrKzs7Vv3z7l5+errKxM/fv314EDB5SYmKidO3cqOztbCxcuNLdcuu+++9SsWTN169ZNGRkZOnjwoFatWqVnnnnGpt9Nmzbp6NGj+vHHH687TgAAAABwJBV+4NXd3V1NmzZVs2bNbJ4VtafU1FTVqVNH9erVU/fu3RUZGakFCxZcsc2sWbN07NgxNW/eXBMnTrRZWuzs7Kxjx47p8ccfV0REhJ577jkNHz5cXbp0ue5Yu3fvrujoaLVq1Uq1a9fW4cOHFRwcrPT0dOXk5Kht27Zq1aqVXn/9dYWEhEj6ZYnzZ599pkaNGqlbt26KjIxUUlKSatWqZfY7ZMgQFRQUKDQ0VM2bN7/uOAEAAADAkVgMNm/FrxQVFf3veehkSSx7BhydYYywdwgAAAA3xIVcprCwUB4eHpIq8Ewvbl2FhcnmQAEAAACAqui37eeDyxo3bpzN1kMXH3PnzrV3eAAAAABwS2J58w1y4sQJnThxotyygIAAeXl5/c4RXbvylgQAAAAAQGXH8uabyMfHRz4+PvYOAwAAAABwEZY3AwAAAAAcFkkvAAAAAMBhkfQCAAAAABwWSS8AAAAAwGGR9AIAAAAAHBZJLwAAAADAYZH0AgAAAAAcFkkvAAAAAMBhkfQCAAAAAByWi70DQOXl6TlWkqu9wwBQyRjGCHuHAAAAUGHM9AIAAAAAHNYtnfTGx8fLYrFccsyfP/+qbVevXi2LxfI7RHl9goKClJaWZu8wAAAAAMAubvnlzQMHDtSLL75oc65WrVp2igYAAAAAcCPd0jO9klS9enUFBgbaHO7u7tq3b586deokPz8/1apVS506ddJ3330nSTp06JA6duwoSebs8NVmU9PS0hQUFKT58+frtttuk9VqVVJSkkpLSzVs2DD5+voqKChI77//vk27bdu2KT4+Xh4eHmrQoIFGjBihkpISs3zgwIEKDQ2Vp6enIiMjtWDBArMsPj5eR48eVe/evWWxWBQfH39jvjQAAAAAqCJu+aT3ck6fPq3u3bvr888/1+effy43Nzc99thjkqTg4GAtXLhQkpSbm6vc3Fw9+uijV+2zoKBA8+bN08cff6wFCxZo+vTp+uMf/6iysjJt3LhR/fr1U2Jioo4fP27W79ixozp16qSsrCylpaVp3rx5mjhxotmnr6+v5s+fr927dyspKUkJCQnKysqSJC1ZskR16tRRamqqcnNztWTJknLjKi4uVlFRkc0BAAAAAI7AYhiGYe8g7CU+Pl5ffvml3NzcbM7v2rVLoaGhNufy8vJUp04dff/99woJCdHq1avVsWNHVfTrS0tL09NPP63c3FwFBARIkh544AEdOXJEu3fvliSVlpaqZs2a+uCDD9S5c2eNHj1au3bt0qJFi8x+5s2bp+HDh+vbb78t9zoPPPCA2rRpo+HDh0v65ZneMWPGqFevXpeNbeTIkRo1alQ5Jcni7c0Afo23NwMAgMqqqKhInp6eKiwslIeHhySe6VViYqIGDRpkcy44OFinTp3S0KFDtXLlSv3www8qKyuTJOXk5CgkJOSarlW7dm0z4ZWkgIAA1axZ0/zs7OwsX19fc6Y3KytLy5Ytk9VqNeuUlpaquLhYZWVlcnJy0pw5czRlyhQdOnRIZ8+e1blz5xQcHPyb4kpOTrZ5rrmoqEi+vr7XdI8AAAAAUJnc8kmvt7e3wsPDLzn/wgsvaNOmTUpNTdVtt92mkpISRUVFqbi4+Jqv5epqO2tqsVjKPXchwT59+rQee+wxc9b2Yk5OTsrIyFBiYqImTJig2NhYeXl5KSkp6TfH6OrqekkcAAAAAOAIbvmk93I2bdqkPn366MEHH5QkZWRk2JRfSBJLS0vl7Ox8U2KIiorS6tWry03KJSkzM1NNmjTRgAEDJEllZWU6cOCAzWyyq6urSktLb0p8AAAAAFDZ3fIvsjpz5ozy8vJsjjNnzigsLEyLFi3S3r179fnnn+vvf/+7Tbv69etLkj755BPl5+fr3LlzNzy2/v3768CBA0pMTNTOnTuVnZ2thQsXasyYMZKksLAwZWdna/ny5crOzlZSUpLy8vIuiTM9PV15eXk6derUDY8RAAAAACqzWz7pTU1NVZ06dWyOKVOmaOLEiTIMQy1atNAzzzyj0aNH27Rr0KCBXnzxRfXu3Vu1a9fWBx98cMNjCw4OVnp6unJyctS2bVu1atVKr7/+uvlMcdeuXZWYmKiEhAS1adNGXl5e6ty5s00fI0eOVGZmpoKDg9WlS5cbHiMAAAAAVGa39NubUb4Lbzzj7c0AysPbmwEAQGXF25vxmxQWJpsDBQAAAACqolt+efONMnfuXFmt1nKPcePG2Ts8AAAAALglsbz5Bvn555/1ww8/lFvm4+MjHx+f3zmia1fekgAAAAAAqOxY3nwTeXl5ycvLy95hAAAAAAAuwvJmAAAAAIDDIukFAAAAADgskl4AAAAAgMMi6QUAAAAAOCySXgAAAACAwyLpBQAAAAA4LJJeAAAAAIDDIukFAAAAADgskl4AAAAAgMNysXcAqLw8PcdKcrV3GABQ5RnGCHuHAADALcshZ3pHjhypdu3amZ/j4+P18ssvX1efDRo00MyZM683tBvi1/cHAAAAAChflU16Dx06pF69eqlu3bpyd3dXRESEnn/+eR05cuSSukuWLNFLL71khyivLigoSGlpab+pzZAhQ7Rs2bKbExAAAAAAOJAqmfRmZ2erZcuWKigo0IIFC/TNN99ozpw5KikpUUpKyiX1fXx8ZLVa7RDpzWG1WuXj43PZ8nPnzv2O0QAAAABA5VUlk97+/fsrLCxMy5YtU0xMjEJCQnT33Xdr6tSpGjZs2CX1f7282WKxaPbs2brnnnvk4eGh6OhoHTx4UOvXr1fTpk1Vo0YNJSQk6OzZszb9FBQUqHPnzvLw8FDjxo21fv36CsX7wQcfqHHjxnJ3d1dgYKCeeeYZM66jR4+qd+/eslgsio+PlyQtW7ZMrVu3lpeXl+rWratnn31WZ86cMfsrb/n2kCFDlJiYqBo1auiFF17Q2bNnlZiYKH9/fzPeDz/8sKJfMQAAAAA4hCqX9Obn52vt2rUaPHiwLBbLJeW1atWqUD9jxozRoEGDtG3bNrm4uOiJJ57QmDFjlJaWpk8//VSffvqpZsyYYdPm1Vdf1YMPPqjt27erY8eO6tq1q06dOnXF6+Tm5qp3794aNWqUsrOztXz5crVo0ULSL8uu69Spo9TUVOXm5mrJkiWSpLNnzyo5OVk7d+7U/PnztW7dOo0aNeqK15k2bZrCwsK0bds2vfDCC5o8ebK++uorffrpp9q7d69SUlJUo0aNctsWFxerqKjI5gAAAAAAR1Dl3t584MABGYahRo0aXVc/ffv2VefOnSVJzz//vB5//HFt2bJFLVu2lCR1795d69evV1JSktnm/vvvV9++fSVJqampWrZsmd577z0999xzl73O//t//0/VqlXTgw8+KKvVqvr165vX8PHxkZOTk2rWrKnAwECzzSOPPGL+HRoaqhEjRmjo0KEaP378Za/TsmVLm+eWc3Jy1Lx5czPBvu222y7bduzYsVdNqgEAAACgKqpyM703SrNmzcy/AwICJEmRkZE2544fP27TJjo62vzb2dlZLVq0UHZ29hWvExUVpT/84Q8KDQ1Vr169tHDhQp0/f/6Kbfbu3auHH35YISEh8vLyUu/evZWTk3PFNs2bN7f5nJCQoEWLFqlFixYaOnSovvrqq8u2TU5OVmFhoXkUFBRc8VoAAAAAUFVUuaQ3LCxMFovlqsnm1bi6/t/+sxeWSf/6XFlZmU2b8pZTX42Li4vWr1+vBQsWKCAgQP/4xz/Upk2bKya+Dz30kCwWi+bOnautW7dq8uTJKikpueJ1PD09bT5HR0fru+++08CBA/X999+rbdu2ev3118tt6+rqKg8PD5sDAAAAABxBlUt6/fz81L59e6WmpsowjEvKr/aM7fXYvHmz+XdZWZm2bdtWoWXWzs7Oat++vV577TVt3rxZX331lXbs2CHpl4SztLTUrJufn68DBw5o+PDhiomJUaNGjZSXl3dN8fr4+CghIUFz587V6NGjNXv27GvqBwAAAACqqir3TK8kvfnmm2rbtq06dOigF198UREREfrhhx/0/vvvy83NTV5eXjfluv/97381ffp0xcXFaerUqfrxxx/15JNPXrFNZmam1q9fr44dO8rX11f/+c9/VK1aNdWvX1+SVL9+faWnp+vBBx+Uh4eHvL295e3trRkzZuiFF17Qli1bNG3atN8ca0pKioKCgnTHHXfo7NmzWrly5XU/Bw0AAAAAVU2Vm+mVpNtvv11bt25VUFCQevbsqcaNG+vJJ5+UxWLR4MGDb9p1//GPf2jp0qWKiorSZ599pqVLl171bdE1atTQmjVrdN999+n222/XBx98oCVLlpjPEY8cOVKZmZkKDg5Wly5d5OzsrLlz52rlypWKjIzUtGnTNHr06N8ca/Xq1fWvf/1LUVFRio+Pl4+Pj95+++1rum8AAAAAqKosRnlrhHFLKyoq+t8zwsmSXK9WHQBwFYYxwt4hAABwS7iQyxQWFprvKqqSy5vx+ygsTOalVgAAAACqtCq5vLmy+eMf/yir1VrucfjwYXuHBwAAAAC3LGZ6b4CZM2eqqKio3LK6dev+ztEAAAAAAC4g6b0B6tWrZ+8QAAAAAADlYHkzAAAAAMBhkfQCAAAAABwWSS8AAAAAwGGR9AIAAAAAHBZJLwAAAADAYZH0AgAAAAAcFkkvAAAAAMBhkfQCAAAAABwWSS8AAAAAwGG52DsAVF6enmMludo7DAC45RjGCHuHAACAw2CmFwAAAADgsBwq6Y2Pj5fFYpHFYpHValV0dLT++9//2jusGyIoKEhpaWn2DgMAAAAAqhSHSnolaeDAgcrNzdX27dt15513qkuXLvr2229v+HXKyspUUlJyw/u9mc6dO2fvEAAAAADgd+VwSW/16tUVGBiohg0b6s0335Szs7NWr16tM2fOqE+fPvL29pbVatWf//xn/fDDD2a7+Ph4vfzyyzZ9NWjQQDNnzpQkHTp0SBaLRYsWLVJ0dLTc3d21Y8eOy8bxxhtvKC4uzvw8atQoWSwWffPNN5KkH374QRaLRbm5uZJ+SdZDQ0Pl6empyMhILViwwCa2o0ePqnfv3rJYLIqPjzfLJk+ebLZr1aqV1q9fb5alpaUpKChI8+bNU1hYmGrXrv3bv1AAAAAAqMIcLum9mIuLi1xdXVVcXKxBgwZpw4YN+uijj5Senq6jR48qISHhN/c5bNgwjRkzRnv37lXDhg0vWy8mJkabN282Z1czMjLk6+urjIwM83N4eLjq1KkjSfL19dX8+fO1e/duJSUlKSEhQVlZWZKkJUuWqE6dOkpNTVVubq6WLFkiSZo9e7YmTZqkqVOnavfu3XrqqafUqVMnHTp0yIwjPz9f7777rhYtWqQvv/yy3FiLi4tVVFRkcwAAAACAI3DYpLe4uFivvvqqfv75Z91xxx169913NWnSJMXGxurOO+9UWlqaVq1apT179vymfl966SXdd999Cg8PV82aNS9br3nz5nJxcdHWrVtVUlKizMxMPf/880pPT5ckpaenKyYmxqw/bNgwRUdHKzQ0VH379tU999yjpUuXSpJ8fHzk5OSkmjVrKjAwUD4+PpKkMWPGaNKkSXrggQcUGhqqpKQktWvXTu+//77Z77lz5zRjxgw1b95cTZs2LTfWsWPHytPT0zx8fX1/03cCAAAAAJWVwyW948ePl9VqlaenpyZMmKC3335bNWrUUElJiVq3bm3Wa9y4sWrVqqXs7Ozf1H/z5s0rVM/FxUWtW7dWRkaGvvrqK9WvX18PP/ywzUzvxUnvnDlz1LJlS/n5+clqtWrNmjXKycm5bP+nT5/Wd999p0cffVRWq9U81q1bp4MHD5r1vL291aBBgyvGmpycrMLCQvMoKCio0D0CAAAAQGXncPv0JiYmatCgQbJarQoMDJSkKz57e4GTk5MMw7A5V1xcfEk9T0/PCscSExOjjIwMOTs7KyYmRk2bNtWpU6e0Z88e7dq1y0x6MzIylJiYqAkTJig2NlZeXl5KSkoq9/oXnDlzRpI0b948RUZG2pR5eXn9pnhdXV3l6sp+vAAAAAAcj8Mlvd7e3goPD7c5FxYWJhcXF23atEmdOnWSJO3bt08nT55U48aNJUm1a9dWXl6e2eb48eM2n69FTEyMUlJSZLFY1KNHD1ksFrVt21avvPKK/P39zTgzMzPVpEkTDRgwQNIvb4Y+cOCAAgICzL5cXV1VWlpqfvb391dgYKAOHz6sLl26XFecAAAAAOCoHG55c3m8vLz09NNPa+DAgcrIyNC2bdvUq1cvdezYUU2aNJEkxcbGasmSJVq7dq2ysrLUp08fVatW7bqu27p1a505c0afffaZOasbExOj+fPn2yxtDgsLU3Z2tpYvX67s7GwlJSVdknDXr19f6enpysvL06lTp2SxWDR06FANGzZM7777rg4cOKCtW7fq1Vdf1dq1a68rbgAAAABwFLdE0itJEydOVExMjDp37qzY2FjVq1dP7733nlnep08fdevWTd26ddODDz6oxx9/XP7+/td1TQ8PD7Vo0UIhISEKCgqS9EtyXVpaqnbt2pn1unbtqsTERCUkJKhNmzby8vJS586dbfoaOXKkMjMzFRwcbM7sJiUlafz48Ro/frxuv/12de7cWZs3b1a9evWuK24AAAAAcBQW49cPsuKWV1RU9L9ngZMl8awvAPzeDGOEvUMAAKBKupDLFBYWysPDQ5IDPtOLG6ewMNkcKAAAAABQFZH0XofIyEh9//335ZadPn36d44GAAAAAPBrJL3X4ZNPPrnitkIAAAAAAPsi6b0O9evXt3cIAAAAAIAruGXe3gwAAAAAuPWQ9AIAAAAAHBZJLwAAAADAYZH0AgAAAAAcFkkvAAAAAMBhkfQCAAAAABwWSS8AAAAAwGGR9AIAAAAAHBZJLwAAAADAYbnYOwBUXp6eYyW52jsMAEA5DGOEvUMAAKBKYKZXksVi0erVqytcPz4+Xi+//PJNieVm9g0AAAAAtxqHSXrj4+NlsVhksVjk4eGhsLAw9erVSzt37rxq29zcXMXGxv4OUQIAAAAAfk8Ok/RK0sCBA5Wbm6vs7GzNmjVLxcXFatWqlT7++ONy6587d06SFBgYKDc3t98zVAAAAADA78Chkt7q1asrMDBQISEhio+P19y5c/XUU0+pX79+Ki4uVq9evdSjRw+99NJL8vPzU/fu3SXZLm9ev369LBaL1qxZoyZNmsjLy0tdu3bVjz/+eNnrTpkyRf7+/tqxY8dVY5w3b55CQkJUvXp19ezZU0OGDFF8fPxl6w8cOFChoaHy9PRUZGSkFixYYFOempqq2267TdWqVVNQUJBGjhwpSTIMQ//85z9Vr149ubu7KzQ0VNOmTbtqfAAAAADgSBwq6S1PUlKSjh49qm3btkmSPvroIxUVFemLL77QG2+8cdl2Y8aMUVpamtatW6esrCyNGTOm3Hrjx4/XuHHjtG7dOt1xxx1XjCU7O9tMwrdt26aIiAhNnz79im18fX01f/587d69W0lJSUpISFBWVpYkacuWLRoxYoTeeecd7d+/XwsXLlR4eLgk6T//+Y/mzZunhQsXmjPfAQEB5V6juLhYRUVFNgcAAAAAOAKHf3tz48aNJUmHDh2SJAUEBCglJUVOTlfO91977TVFR0dLkvr06aPFixdfUmf06NGaPn26NmzYoIiIiKvGMnPmTLVu3Vr//Oc/JUnJyclasWLFFdsMGzbM/Ltv37768MMPtXTpUjVr1kyHDx9WYGCg7r33Xrm4uCgkJERt2rSRJOXk5Khhw4Zq06aNLBaL6tevf9lrjB07VqNGjbpq/AAAAABQ1Tj8TK9hGJJ+WcIsSVFRUVdNeCWpWbNm5t+BgYE6duyYTXlaWppSUlKUnp5eoYRXkvbv368WLVrYnGvZsuUV28yZM0ctW7aUn5+frFar1qxZo5ycHElShw4dZLFYFBYWpr59+2rFihXm/f75z3/W3r17dfvtt2vQoEHasGHDZa+RnJyswsJC8ygoKKjQ/QAAAABAZefwSe++ffskSQ0aNJAkeXp6Vqidq+v/7U9rsVhUVlZmU96qVSs5OTmVOwN8OYZhmMl3RWRkZCgxMVEJCQlatWqVduzYoQ4dOqi4uFiSVLNmTe3atUtvv/223Nzc9PTTT6tLly6Sfrnf/fv3a8yYMTp9+rQ6d+6spKSky96rh4eHzQEAAAAAjsDhlzdPmTJFwcHBuvPOO29ov5GRkRo6dKg6dOggq9Wqfv36XbVNRESENm3aZHPuq6++skmwL5aZmakmTZpowIABkqSysjIdOHDA5tlcNzc3derUSZ06ddKTTz6pu+66S8eOHZO/v7+qV6+u7t27q3v37urYsaN69eqlKVOmXMddAwAAAEDV4lBJ75kzZ5SXl6fz58/r4MGDmjFjhhYtWqSlS5fKxeXG3+qF7ZA6deokq9WqhISEK9bv06ePUlJS9Nprr+nhhx/WkiVLlJWVdcmS5wvCwsKUnZ2t5cuXq2HDhpo8ebLy8vLM8uXLl+v7779XbGysqlevrgULFsjPz0++vr6aM2eODMPQXXfdJWdnZ3344Ydq1KjRDb1/AAAAAKjsHGp5c2pqqurUqaOIiAg9/fTTcnV11ZYtW9SpU6ebds3Y2FgtXrxYffv21ZIlS65Yt1GjRpozZ47efPNNNW/eXHv37lVCQoKqVatWbv2uXbuay5vbtGkjLy8vde7c2SyvVauWFixYoJiYGP3hD3/Q5s2btXz5cjk7O6tmzZqaOnWqoqOjFR0drRMnTmj+/Pk39N4BAAAAoLKzGBfefAS76NChgxo1aqS33nrL3qGYioqK/vfsc7Kk8pdeAwDsyzBG2DsEAAAqnQu5TGFhofmuIoda3lwVvPXWW2rTpo2sVqsWLlyotWvXavTo0fYOq1yFhcm81AoAAABAleZQy5vtLSMjQ1artdyjb9++kqTdu3frgQceUFRUlP7zn/9o8eLF5t66AAAAAIAbi+XNN1BRUZGOHj1ablmNGjXk7+//O0d0bcpbEgAAAAAAlR3Lm28yDw8PhYeH2zsMAAAAAMD/sLwZAAAAAOCwSHoBAAAAAA6LpBcAAAAA4LBIegEAAAAADoukFwAAAADgsEh6AQAAAAAOi6QXAAAAAOCwSHoBAAAAAA6LpBcAAAAA4LBc7B0AKi9Pz7GSXO0dBgDATgxjhL1DAADgujHTW8msX79eFotFJSUlN7Tfdu3aaeTIkTe0TwAAAACo7Bw66T18+LASExMVEhKiatWqKSQkRJ07d9Znn31WofbffvutLBaLDh06dHMDBQAAAADcFA67vDk7O1tt27ZVZGSk3nnnHTVq1EgnTpzQtm3bNHjwYD3wwAP2DhEAAAAAcJM57Ezvs88+q4YNG2r9+vXq1KmTwsLC1KpVK/3tb3/Tnj17zHqrV69Wy5Yt5eHhoYiICL311ltmWcOGDSVJt912mywWi7k82GKxaPXq1Wa9Q4cOyWKx6Ntvv5UkpaWlKSgoSO+9956Cg4NltVqVmJio8+fPVzj+lStXKiIiQh4eHurWrZtOnjxplpWWlmrYsGEKCgqSl5eX4uPjtWvXLrPcMAwlJyfL29tbtWvX1oQJE37blwcAAAAADsIhk978/HytW7dOgwYNksViuaT8wrns7Gx169ZN/fr10549e/TGG29o1KhRWrBggSRp48aNkqTNmzcrNzdXQ4YMqXAMBQUFmjVrlpYvX66lS5dqxYoVGjduXIXbjxgxQnPmzNG6deu0b98+DRw40CwbNWqUPvnkE33wwQfavn272rZtq44dO+qnn36SJP373//W5MmTNX36dK1fv14bN27Uzp07L3ut4uJiFRUV2RwAAAAA4AgcMuk9cOCADMNQRESEeS4rK0tWq9U8MjIy9Nprr+mZZ57RX//6V4WGhupPf/qTBg4cqBkzZkiS/Pz8JEm1a9dWYGCgrFZrhWM4e/as3nnnHUVFRaljx44aPXq03nzzzQq3/9e//qW7775brVu31uTJkzV37lydPHlSZ8+e1euvv645c+YoJiZG4eHhGjt2rGrWrKlly5ZJkqZOnar+/fvrL3/5iyIjIzVr1iyVlpZe9lpjx46Vp6enefj6+lY4TgAAAACozBzymV7DMC4516hRI+3YsUOlpaVq3LixSktLlZWVpaysLL3zzjtmvZKSEtWtW/e6Y/Dy8lLjxo3Nz9HR0SooKFBBQUGFksro6Gibv0tKSnTgwAG5u7urqKhIrVu3tqlfVFSkgwcPSvplBvvFF180y7y9vRUeHn7ZayUnJ9vULyoqIvEFAAAA4BAcMukNDw+XxWJRdna27rjjDkmSm5ubwsPDbbYCOn36tAYPHqynn37apr2Ly5W/FovFYpNYFxcXl1vnelzc/uK/T58+LemXrY1q1apl08bHx+earu/q6ipXV/bjBQAAAOB4HDLp9fPzU3x8vCZOnKi//OUvcnIqfxV3VFSUsrOzLzsLeiER/PXS4Nq1aysvL8/8nJWVdUnbn376SdnZ2WrUqJEkacuWLfL19a3wDOrmzZt1//33m3+7uLgoLCxMTk5OcnNzU25urlq2bFlu24iICG3evFkPP/ywJOnkyZOiKHLhAAAQwElEQVTmS7YAAAAA4FbikEmvJL311ltq27at4uLi9M9//lONGjVSYWGhVqxYIUlydnbW3//+d7Vp00Yvv/yynnjiCRmGoS1btqiwsFDPPvusAgMD5ebmppUrV6p79+6qXr26PD09FRsbq0mTJql58+YqKCjQmDFjLrm+u7u7+vXrp5SUFOXn52vEiBHq379/heMfNmyYOZM7YMAAPfHEE+bn5557Tv369dP58+d15513Ki8vTx9//LF69OihyMhI9evXTwMGDFCLFi3UpEkTDR8+XM7OzjfgWwUAAACAqsUhX2QlSbfffru2bdumiIgIPfPMM2rcuLHi4+O1YcMGLVmyRDExMWrRooVWrVqlDRs2qEWLFmrXrp3effddNWjQQJJUrVo1TZgwQaNHj1ZAQIDGjx8vSZo4caK8vLx01113afDgweZWRhfz9fXVU089pU6dOumhhx7S/fffr6FDh1Y4/mHDhqlHjx6Ki4tTeHi4UlNTzbIJEybo2Wef1ZAhQ9SoUSM98sgjysnJMWeRe/Xqpf79+6tPnz6KjY1Vy5YtFRUVde1fJgAAAABUURajvLc+4bqkpaXp5Zdf1pEjR+wdyjUpKiqSp6enpGRJPOsLALcqwxhh7xAAAPhNLuQyhYWF8vDwkOTAy5tx/QoLk82BAgAAAABVkcMub66sMjIybPYLvvjo27evvcMDAAAAAIfC8ubfWVFRkY4ePVpuWY0aNeTv7/87R3Sp8pYEAAAAAEBlx/LmSsDDw+OyWyQBAAAAAG4sljcDAAAAABwWSS8AAAAAwGGR9AIAAAAAHBZJLwAAAADAYZH0AgAAAAAcFkkvAAAAAMBhkfQCAAAAABwWSS8AAAAAwGG52DsAVF6enmMludo7DAAAAACVjGGMsHcIFcZMr4MYOXKk2rVrZ36Oj4/Xyy+/bMeIAAAAAMD+SHrtICUlRSEhITbn1qxZI4vFojfeeMPmfOfOndWrV6/fMToAAAAAcBwkvXYQGxurnJwcHTp0yDyXnp6uoKAgpaenm+fKysr0xRdfKDY21g5RAgAAAEDVR9JrB3fccYdq1Khhk+Cmp6dryJAh+vzzz2UYhiQpKytLP/74o+Li4rRs2TK1bt1aXl5eqlu3rp599lmdOXOmwtecMmWK/P39tWPHjht+PwAAAABQWZH02oGzs7Patm1rJr3nz59XZmamHn/8cVmtVu3Zs0fSL4lw3bp1FRYWprNnzyo5OVk7d+7U/PnztW7dOo0aNapC1xs/frzGjRundevW6Y477rhp9wUAAAAAlQ1Jr53ExsaaSe+WLVsUEhIif39/tWvXzjyfnp6uuLg4SdIjjzyizp07KzQ0VLGxsRoxYoQWLVp01euMHj1akydP1oYNGxQZGVluneLiYhUVFdkcAAAAAOAISHrtJC4uTvv371deXp7S09MVExMjSTZJb0ZGhvk87969e/Xwww8rJCREXl5e6t27t3Jycq54jbS0NKWkpCg9PV0RERGXrTd27Fh5enqah6+v7w26SwAAAACwL5JeO2nZsqU8PT2Vnp6u9PR0M7mNiYlRenq6srOz9cMPP5jnH3roIVksFs2dO1dbt27V5MmTVVJScsVrtGrVSk5OTlq8ePEV6yUnJ6uwsNA8CgoKbsxNAgAAAICdudg7gFuVq6ur7r77bq1bt05ffvml3n77bUlSkyZNdO7cOc2ePVu1a9dWkyZNlJ+frwMHDmjRokXmM7kLFy686jUiIyM1dOhQdejQQVarVf369btsLK6urjfu5gAAAACgkmCm145iY2P1/vvvq0aNGmrQoIEkyWKxqE2bNpo6daq55Nnb21ve3t6aMWOGDh48qAULFmjatGkVukarVq308ccf6+9//7vee++9m3UrAAAAAFApkfTaUVxcnE6fPm0mtxfExMTo9OnT5tJmZ2dnzZ07VytXrlRkZKSmTZum0aNHV/g6sbGxWrx4sfr27aslS5bc0HsAAAAAgMrMYlzYFBb4n6KiInl6ekpKlsSyZwAAAAC2DGOEvUMo14VcprCwUB4eHpJ4phdXUFiYbA4UAAAAAKiKWN4MAAAAAHBYJL0AAAAAAIdF0gsAAAAAcFgkvQAAAAAAh0XSCwAAAABwWLy9GZe4sItVUVGRnSMBAAAAgIq7kMNcvDMvSS8u8fPPP0uSfH197RwJAAAAAPx2Z8+elaenpySSXpTDarVKkvLz882BAlQmRUVF8vX1VUFBAXtJo1JijKKyY4yismOM4loZhqGzZ8+qVq1a5jmSXlzCyemXR709PT35jwwqNQ8PD8YoKjXGKCo7xigqO8YorsWvJ+54kRUAAAAAwGGR9AIAAAAAHJbzyJEjR9o7CFQ+Tk5Oio+Pl7Ozs71DAcrFGEVlxxhFZccYRWXHGMWNYjEufpczAAAAAAAOhOXNAAAAAACHRdILAAAAAHBYJL0AAAAAAIdF0otLvPrqq6pbt648PT310EMPKS8vz94hwQGMGzdOd955p6xWq+rUqaPevXvr+PHjNnW++eYbtW/fXh4eHmrQoIFmz55tU15SUqLBgwfLz89PXl5e6tmzp06fPm1TZ8WKFWrSpInc3d3VokULbdq0yaY8Ly9PXbt2laenp+rUqaNx48bdnBtGlde1a1dZLBatXr3aPJeZmamWLVvK3d1djRs31vLly23anD59Wr1791aNGjXk6+urQYMGqaSkxKbOu+++q9DQUHl4eCguLk7ffPONTfnVfgfAtm3bdO+998rT01Pe3t565JFHzDLGKOzt5MmT+utf/6rAwEBZrVa1adNG6enpZjljFHZhABeZPXu2Ub16dWPx4sXG9u3bjbi4OCM2NtbeYcEB/PGPfzTee+894+uvvzYyMzON6Ohoo3379mb5+fPnjfDwcKN79+5GVlaWMXPmTMPFxcVYvXq1WWf48OFGQECAsXr1aiMzM9No0qSJkZCQYJZ//fXXhpubm/Gvf/3L2LNnj5GUlGR4e3sb+fn5Zp3Y2FgjJibG2L59u7FkyRLDarUas2bN+n2+BFQZs2fPNu677z5DkrFq1SrDMAwjPz/f8Pb2Nvr372/s2bPHGDdunOHm5mZ8/fXXZrunnnrKaNy4sbFp0yZjzZo1Rp06dYxhw4aZ5WvWrDFcXFyM6dOnG1lZWcYjjzxihIeHG+fOnTMMo2K/A9za9u7da9SsWdMYPny4sXv3bmPv3r3G4sWLDcNgjKJy6N27t9GsWTNj48aNxrfffmsMGDDA8PLyMk6cOMEYhd2Q9MJG8+bNjaFDh5qfDxw4YEgytm/fbseo4Ii+/PJLQ5Jx8uRJwzAM46OPPjKqVatm/PTTT2adhIQEo0uXLoZhGEZpaanh5+dnTJ8+3Sxfs2aN4ezsbCa1gwYNMtq0aWOWl5WVGSEhIUZKSophGIaxc+dOQ5KRnZ1t1hk2bJgRFRV1824UVc6hQ4eM4OBgIycnxybpnTRpklGvXj2jrKzMrBsTE2MMGDDAMAzDOHHihOHs7GysXLnSLJ81a5bh6+trlJSUGIZhGA8//LDxxBNPmOWnT582PDw8jKVLlxqGcfXfAdCtWzejV69e5ZYxRlEZNGnSxPz/XcMwjJ9++smQZGzcuJExCrtheTNM586d086dO3XPPfeY50JDQ9WgQQNlZmbaMTI4ovz8fLm7u6t69eqSpM2bN6tVq1by8vIy69x7773m2Dt48KDy8/NtxmdcXJwkaevWrWYfF5dbLBbdc889Zh+bN29WUFCQIiIibK6RlZWloqKim3SnqErKysrUs2dPjRo1SkFBQTZlmzdvVvv27WWxWMxzF4/Rr776SoZhKD4+3qa8oKBA3377rdnHxWO0evXquuuuu2zG6JV+B7i1lZaW6rPPPtNtt92m+Ph4BQQEqGPHjtq1a5ckxigqh7vvvlsfffSR8vPzVVpaqtmzZ6tu3bpq2rQpYxR2Q9ILU0FBgcrKyuTv729zvnbt2jp27JidooIjOnfunEaPHq2ePXvKxcVFknTs2LFyx96F534vjMGL6zg7O8vHx8csu1wfVysvKytTfn7+DbxDVFUpKSmyWq3q3bv3JWUVGV+1atWSq6urTfmFsor2caXfAW5tx48fV2FhoSZMmKDHH39cn376qYKDg3Xvvffq1KlTjFFUClOmTJGfn59q166tatWq6ZVXXtGKFStktVoZo7AbF3sHgMrDMAx7h4BbQGlpqZ588klJ0uuvv26ev9r4q8j4vBF94Nb19ddfa+LEiebKgV+7lvF18WxGRTBGcSVlZWWSpO7du+tvf/ubJGnatGlavny5li1bxhhFpTBp0iTt379fq1atkq+vr/7973/roYce0vbt2xmjsBtmemHy8/OTk5PTJbO6x48fv+RfzIBrUVZWpl69emnfvn3673//K6vVapYFBASUO/Yu/AtvQECAJNnUKS0t1YkTJ8zxebk+rlbu5OQkPz+/G3SXqKoyMzOVl5enkJAQubi4mKsQ7r//fvXo0aNC4+vkyZMqLi42y3+9QsHf3/+axuiF3wFubX5+fnJ2dlajRo3Mc66urgoNDVVOTg5jFHZXVFSk4cOHa/LkyerQoYOaN2+ulJQUubu7a968eYxR2A1JL0zVqlVTVFSU1q1bZ5777rvvdOjQId111112jAyOwDAM9enTR5s2bdKqVavk4+NjUx4dHa2tW7fabEG0du1ac+yFhobKz8/PZnxe2AKhZcuWZh8Xl0vSunXrzD6io6N15MgR7d+/3+YazZo1k4eHxw28W1RFXbt21a5du7Rjxw7zkH6ZSXvttdcUHR2t9evX28wiXDxG77zzTlksFm3YsMGm3NfXV+Hh4ZIuHaOFhYXKzMy0GaNX+h3g1ubm5qbmzZubzzZKv2zldujQIYWEhDBGYXfFxcUqLi6Ws7OzzXknJyeVlZUxRmE/v+trs1DpzZo1y7BarcaSJUuMHTt2GO3btzdiYmLsHRYcwDPPPGP4+fkZmZmZRm5urnlceBvjuXPnjLCwMOMvf/mLsXv3bmPWrFmGq6urzRYDw4YNM+rUqWOsWbPGyMzMNJo2bVrulkXjxo0z9u7dawwYMKDcLYvi4uKMHTt2GB9++KHh5eXFlkW4LJWzZVFSUpKxd+9e49VXX71kq42EhASjSZMmRmZmprF27Vqjbt26NlttrF692nBxcTFmzpxp7N6923j00UeNsLAwc6uNivwOcGubO3eu4e7ubrz//vtGdna20b9/fyMgIMA4deoUYxSVQtu2bY3o6Ghj06ZNxv79+43k5GTDzc3N2Lt3L2MUdkPSi0uMGzfOCAwMNNzd3Y0//elPRm5urr1DggOQVO7x3XffmXX27dtnxMXFGdWqVTNCQkKMmTNn2vRRXFxsDBo0yPDx8TGsVquRkJBg/PzzzzZ1Pv74Y6Nx48aGm5ub0bx5c2Pjxo025bm5ucZDDz1keHh4GAEBAcaYMWNu2j2j6rs46TUMw9i4caPRokULw83NzWjUqJGxbNkym/o///yz0bNnT8PLy8vw9vY2BgwYYBQXF9vUmTVrllG/fn2jWrVqRmxsrLFv3z6b8qv9DoDU1FQjODjYsFqtRnx8vJGVlWWWMUZhb0eOHDEee+wxw9/f36hevbrRsmVLY8WKFWY5YxT2YDEMnvYGAAAAADgmnukFAAAAADgskl4AAAAAgMMi6QUAAAAAOCySXgAAAACAwyLpBQAAAAA4LJJeAAAAAIDDIukFAAAAADis/w+tRa82Xh9R8AAAAABJRU5ErkJggg==\" class=\"pd_save\"></center>\n",
       "                        \n",
       "                    \n",
       "                \n",
       "        </div>\n",
       "    "
      ],
      "text/plain": [
       "<IPython.core.display.HTML object>"
      ]
     },
     "metadata": {},
     "output_type": "display_data"
    }
   ],
   "source": [
    "import pixiedust\n",
    "from pyspark.sql.functions import col\n",
    "counts = df.groupBy('class').count().orderBy('count')\n",
    "display(counts)"
   ]
  },
  {
   "cell_type": "markdown",
   "metadata": {},
   "source": [
    "This looks nice, but it would be nice if we can aggregate further to obtain some quantitative metrics on the imbalance like, min, max, mean and standard deviation. If we divide max by min we get a measure called minmax ration which tells us something about the relationship between the smallest and largest class. Again, let’s first use SQL for those of you familiar with SQL. Don’t be scared, we’re used nested sub-selects, basically selecting from a result of a SQL query like it was a table. All within on SQL statement."
   ]
  },
  {
   "cell_type": "code",
   "execution_count": 19,
   "metadata": {
    "ExecuteTime": {
     "end_time": "2019-12-10T05:09:31.710983Z",
     "start_time": "2019-12-10T05:09:31.167165Z"
    }
   },
   "outputs": [
    {
     "name": "stdout",
     "output_type": "stream",
     "text": [
      "+----+-----+------------------+------------------+-----------------+\n",
      "| min|  max|              mean|            stddev|      minmaxratio|\n",
      "+----+-----+------------------+------------------+-----------------+\n",
      "|6683|92254|31894.928571428572|21284.893716741157|13.80427951518779|\n",
      "+----+-----+------------------+------------------+-----------------+\n",
      "\n"
     ]
    }
   ],
   "source": [
    "spark.sql('''\n",
    "    select \n",
    "        *,\n",
    "        max/min as minmaxratio -- compute minmaxratio based on previously computed values\n",
    "        from (\n",
    "            select \n",
    "                min(ct) as min, -- compute minimum value of all classes\n",
    "                max(ct) as max, -- compute maximum value of all classes\n",
    "                mean(ct) as mean, -- compute mean between all classes\n",
    "                stddev(ct) as stddev -- compute standard deviation between all classes\n",
    "                from (\n",
    "                    select\n",
    "                        count(*) as ct -- count the number of rows per class and rename it to ct\n",
    "                        from df -- access the temporary query table called df backed by DataFrame df\n",
    "                        group by class -- aggrecate over class\n",
    "                )\n",
    "        )   \n",
    "''').show()"
   ]
  },
  {
   "cell_type": "markdown",
   "metadata": {},
   "source": [
    "The same query can be expressed using the DataFrame API. Again, don’t be scared. It’s just a sequential expression of transformation steps. You now an choose which syntax you like better."
   ]
  },
  {
   "cell_type": "code",
   "execution_count": 20,
   "metadata": {
    "ExecuteTime": {
     "end_time": "2019-12-10T05:10:16.682938Z",
     "start_time": "2019-12-10T05:10:16.182461Z"
    }
   },
   "outputs": [
    {
     "name": "stdout",
     "output_type": "stream",
     "text": [
      "+----+-----+------------------+------------------+-----------------+\n",
      "| min|  max|              mean|            stddev|      minmaxratio|\n",
      "+----+-----+------------------+------------------+-----------------+\n",
      "|6683|92254|31894.928571428572|21284.893716741157|13.80427951518779|\n",
      "+----+-----+------------------+------------------+-----------------+\n",
      "\n"
     ]
    }
   ],
   "source": [
    "from pyspark.sql.functions import col, min, max, mean, stddev\n",
    "\n",
    "df \\\n",
    "    .groupBy('class') \\\n",
    "    .count() \\\n",
    "    .select([ \n",
    "        min(col(\"count\")).alias('min'), \n",
    "        max(col(\"count\")).alias('max'), \n",
    "        mean(col(\"count\")).alias('mean'), \n",
    "        stddev(col(\"count\")).alias('stddev') \n",
    "    ]) \\\n",
    "    .select([\n",
    "        col('*'),\n",
    "        (col(\"max\") / col(\"min\")).alias('minmaxratio')\n",
    "    ]) \\\n",
    "    .show()\n"
   ]
  },
  {
   "cell_type": "markdown",
   "metadata": {},
   "source": [
    "Now it’s time for you to work on the data set. First, please create a table of all classes with the respective counts, but this time, please order the table by the count number, ascending."
   ]
  },
  {
   "cell_type": "code",
   "execution_count": 34,
   "metadata": {
    "ExecuteTime": {
     "end_time": "2019-12-10T05:15:39.935911Z",
     "start_time": "2019-12-10T05:15:39.745076Z"
    },
    "pixiedust": {
     "displayParams": {
      "aggregation": "COUNT",
      "handlerId": "barChart",
      "keyFields": "class",
      "legend": "false",
      "mpld3": "true",
      "table_showrows": "Missing values",
      "valueFields": "count"
     }
    }
   },
   "outputs": [
    {
     "name": "stdout",
     "output_type": "stream",
     "text": [
      "+--------------+-----+\n",
      "|         class|count|\n",
      "+--------------+-----+\n",
      "|      Eat_soup| 6683|\n",
      "|   Liedown_bed|11446|\n",
      "| Use_telephone|15225|\n",
      "|Descend_stairs|15375|\n",
      "|     Comb_hair|23504|\n",
      "| Sitdown_chair|25036|\n",
      "| Standup_chair|25417|\n",
      "|   Brush_teeth|29829|\n",
      "|      Eat_meat|31236|\n",
      "|  Climb_stairs|40258|\n",
      "|    Pour_water|41673|\n",
      "|   Drink_glass|42792|\n",
      "|     Getup_bed|45801|\n",
      "|          Walk|92254|\n",
      "+--------------+-----+\n",
      "\n"
     ]
    }
   ],
   "source": [
    "v = df.groupby('class').count().orderBy('count',ascending=True)\n",
    "v.show()"
   ]
  },
  {
   "cell_type": "markdown",
   "metadata": {},
   "source": [
    "Pixiedust is a very sophisticated library. It takes care of sorting as well. Please modify the bar chart so that it gets sorted by the number of elements per class, ascending. Hint: It’s an option available in the UI once rendered using the display() function."
   ]
  },
  {
   "cell_type": "code",
   "execution_count": null,
   "metadata": {},
   "outputs": [],
   "source": [
    "$$$ your code goes here"
   ]
  },
  {
   "cell_type": "markdown",
   "metadata": {},
   "source": [
    "Imbalanced classes can cause pain in machine learning. Therefore let’s rebalance. In the flowing we limit the number of elements per class to the amount of the least represented class. This is called undersampling. Other ways of rebalancing can be found here:\n",
    "\n",
    "https://machinelearningmastery.com/tactics-to-combat-imbalanced-classes-in-your-machine-learning-dataset/"
   ]
  },
  {
   "cell_type": "code",
   "execution_count": 35,
   "metadata": {
    "ExecuteTime": {
     "end_time": "2019-12-10T05:17:13.701957Z",
     "start_time": "2019-12-10T05:17:13.040444Z"
    }
   },
   "outputs": [],
   "source": [
    "from pyspark.sql.functions import min\n",
    "\n",
    "# create a lot of distinct classes from the dataset\n",
    "classes = [row[0] for row in df.select('class').distinct().collect()]\n",
    "\n",
    "# compute the number of elements of the smallest class in order to limit the number of samples per calss\n",
    "min = df.groupBy('class').count().select(min('count')).first()[0]\n",
    "\n",
    "# define the result dataframe variable\n",
    "df_balanced = None\n",
    "\n",
    "# iterate over distinct classes\n",
    "for cls in classes:\n",
    "    \n",
    "    # only select examples for the specific class within this iteration\n",
    "    # shuffle the order of the elements (by setting fraction to 1.0 sample works like shuffle)\n",
    "    # return only the first n samples\n",
    "    df_temp = df \\\n",
    "        .filter(\"class = '\"+cls+\"'\") \\\n",
    "        .sample(False, 1.0) \\\n",
    "        .limit(min)\n",
    "    \n",
    "    # on first iteration, assing df_temp to empty df_balanced\n",
    "    if df_balanced == None:    \n",
    "        df_balanced = df_temp\n",
    "    # afterwards, append vertically\n",
    "    else:\n",
    "        df_balanced=df_balanced.union(df_temp)"
   ]
  },
  {
   "cell_type": "markdown",
   "metadata": {},
   "source": [
    "Please verify, by using the code cell below, if df_balanced has the same number of elements per class. You should get 6683 elements per class."
   ]
  },
  {
   "cell_type": "code",
   "execution_count": 37,
   "metadata": {
    "ExecuteTime": {
     "end_time": "2019-12-10T05:17:42.762633Z",
     "start_time": "2019-12-10T05:17:41.322152Z"
    }
   },
   "outputs": [
    {
     "name": "stdout",
     "output_type": "stream",
     "text": [
      "+--------------+-----+\n",
      "|         class|count|\n",
      "+--------------+-----+\n",
      "| Use_telephone| 6683|\n",
      "| Standup_chair| 6683|\n",
      "|      Eat_meat| 6683|\n",
      "|     Getup_bed| 6683|\n",
      "|   Drink_glass| 6683|\n",
      "|    Pour_water| 6683|\n",
      "|     Comb_hair| 6683|\n",
      "|          Walk| 6683|\n",
      "|  Climb_stairs| 6683|\n",
      "| Sitdown_chair| 6683|\n",
      "|   Liedown_bed| 6683|\n",
      "|Descend_stairs| 6683|\n",
      "|   Brush_teeth| 6683|\n",
      "|      Eat_soup| 6683|\n",
      "+--------------+-----+\n",
      "\n"
     ]
    }
   ],
   "source": [
    "df_balanced.groupBy('class').count().show()"
   ]
  },
  {
   "cell_type": "markdown",
   "metadata": {},
   "source": [
    "### from test"
   ]
  },
  {
   "cell_type": "code",
   "execution_count": 121,
   "metadata": {
    "ExecuteTime": {
     "end_time": "2019-12-10T05:41:45.785574Z",
     "start_time": "2019-12-10T05:41:45.781070Z"
    }
   },
   "outputs": [
    {
     "data": {
      "text/plain": [
       "1.7253073844335487"
      ]
     },
     "execution_count": 121,
     "metadata": {},
     "output_type": "execute_result"
    }
   ],
   "source": [
    "pandas.Series([34,1,23,4,3,3,12,4,3,1]).skew()\n"
   ]
  },
  {
   "cell_type": "code",
   "execution_count": 122,
   "metadata": {
    "ExecuteTime": {
     "end_time": "2019-12-10T05:42:13.817949Z",
     "start_time": "2019-12-10T05:42:13.813853Z"
    }
   },
   "outputs": [],
   "source": [
    "s1 = pandas.Series([1,2,3,4,5,6,7,8,9,10])\n",
    "s2 = pandas.Series([7,6,5,4,5,6,7,8,9,10])"
   ]
  },
  {
   "cell_type": "code",
   "execution_count": 106,
   "metadata": {
    "ExecuteTime": {
     "end_time": "2019-12-10T05:35:51.884583Z",
     "start_time": "2019-12-10T05:35:51.882028Z"
    }
   },
   "outputs": [],
   "source": [
    "import sklearn.metrics as m"
   ]
  },
  {
   "cell_type": "code",
   "execution_count": 124,
   "metadata": {
    "ExecuteTime": {
     "end_time": "2019-12-10T05:42:19.037523Z",
     "start_time": "2019-12-10T05:42:19.032915Z"
    }
   },
   "outputs": [
    {
     "data": {
      "text/plain": [
       "0.7092729120837249"
      ]
     },
     "execution_count": 124,
     "metadata": {},
     "output_type": "execute_result"
    }
   ],
   "source": [
    "s1.corr(s2)"
   ]
  },
  {
   "cell_type": "code",
   "execution_count": 125,
   "metadata": {
    "ExecuteTime": {
     "end_time": "2019-12-10T05:42:47.614969Z",
     "start_time": "2019-12-10T05:42:47.610708Z"
    }
   },
   "outputs": [
    {
     "data": {
      "text/plain": [
       "4.055555555555555"
      ]
     },
     "execution_count": 125,
     "metadata": {},
     "output_type": "execute_result"
    }
   ],
   "source": [
    "s1.cov(s2)"
   ]
  },
  {
   "cell_type": "code",
   "execution_count": null,
   "metadata": {},
   "outputs": [],
   "source": []
  }
 ],
 "metadata": {
  "kernelspec": {
   "display_name": "Python 3",
   "language": "python",
   "name": "python3"
  },
  "language_info": {
   "codemirror_mode": {
    "name": "ipython",
    "version": 3
   },
   "file_extension": ".py",
   "mimetype": "text/x-python",
   "name": "python",
   "nbconvert_exporter": "python",
   "pygments_lexer": "ipython3",
   "version": "3.7.3"
  },
  "toc": {
   "base_numbering": 1,
   "nav_menu": {},
   "number_sections": true,
   "sideBar": true,
   "skip_h1_title": false,
   "title_cell": "Table of Contents",
   "title_sidebar": "Contents",
   "toc_cell": false,
   "toc_position": {},
   "toc_section_display": true,
   "toc_window_display": false
  }
 },
 "nbformat": 4,
 "nbformat_minor": 1
}
